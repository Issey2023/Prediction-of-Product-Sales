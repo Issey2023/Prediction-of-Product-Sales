{
  "nbformat": 4,
  "nbformat_minor": 0,
  "metadata": {
    "colab": {
      "provenance": [],
      "include_colab_link": true
    },
    "kernelspec": {
      "name": "python3",
      "display_name": "Python 3"
    },
    "language_info": {
      "name": "python"
    }
  },
  "cells": [
    {
      "cell_type": "markdown",
      "metadata": {
        "id": "view-in-github",
        "colab_type": "text"
      },
      "source": [
        "<a href=\"https://colab.research.google.com/github/Issey2023/Prediction-of-Product-Sales/blob/main/Copy_of_Copy_of_Copy_of_Prediction_of_Product_Sales_Week4.ipynb\" target=\"_parent\"><img src=\"https://colab.research.google.com/assets/colab-badge.svg\" alt=\"Open In Colab\"/></a>"
      ]
    },
    {
      "cell_type": "markdown",
      "source": [
        "# Prediction of Product Sales"
      ],
      "metadata": {
        "id": "zDUmCCOeolSX"
      }
    },
    {
      "cell_type": "markdown",
      "source": [
        "- Author: Ismaa-eel Hendricks"
      ],
      "metadata": {
        "id": "Gd98hDJgoxXy"
      }
    },
    {
      "cell_type": "markdown",
      "source": [
        "## Project Overview"
      ],
      "metadata": {
        "id": "elvGwIJvo4Ff"
      }
    },
    {
      "cell_type": "markdown",
      "source": [
        "Sales prediction for food items sold at various stores. The goal of this is to help the retailer understand the properties of products and outlets that play crucial roles in increasing sales."
      ],
      "metadata": {
        "id": "HIe6ng0eo_a1"
      }
    },
    {
      "cell_type": "markdown",
      "source": [
        "## Loading Data\n"
      ],
      "metadata": {
        "id": "QHazbY_mo9eK"
      }
    },
    {
      "cell_type": "code",
      "source": [
        "#mount Google drive\n",
        "from google.colab import drive\n",
        "drive.mount('/content/drive')"
      ],
      "metadata": {
        "id": "I6BwYjxRpDit",
        "outputId": "67b2edde-b374-4ff5-978c-71377404b160",
        "colab": {
          "base_uri": "https://localhost:8080/"
        }
      },
      "execution_count": 2,
      "outputs": [
        {
          "output_type": "stream",
          "name": "stdout",
          "text": [
            "Mounted at /content/drive\n"
          ]
        }
      ]
    },
    {
      "cell_type": "code",
      "source": [
        "#import libraries\n",
        "import pandas as pd\n",
        "import numpy as np\n",
        "import statistics\n",
        "from pandas.core.arrays import string_\n",
        "import missingno as msno\n",
        "import seaborn as sns\n",
        "import matplotlib.pyplot as plt\n",
        "from re import M"
      ],
      "metadata": {
        "id": "NQfYCm0UkW9V"
      },
      "execution_count": 3,
      "outputs": []
    },
    {
      "cell_type": "code",
      "source": [
        "#load file path\n",
        "fpath = '/content/drive/MyDrive/week 2 data folder/core project part 2/sales_predictions_2023.csv'"
      ],
      "metadata": {
        "id": "VzhGs8LrkrNy"
      },
      "execution_count": 4,
      "outputs": []
    },
    {
      "cell_type": "code",
      "source": [
        "df_sp= pd.read_csv(fpath)"
      ],
      "metadata": {
        "id": "q5M_zunhksRz"
      },
      "execution_count": 5,
      "outputs": []
    },
    {
      "cell_type": "code",
      "source": [
        "#view data\n",
        "df_sp.head()"
      ],
      "metadata": {
        "id": "nhRSbTdGk-vO",
        "colab": {
          "base_uri": "https://localhost:8080/",
          "height": 206
        },
        "outputId": "38abcfac-0ee7-446d-8641-c38dc060b478"
      },
      "execution_count": 6,
      "outputs": [
        {
          "output_type": "execute_result",
          "data": {
            "text/plain": [
              "  Item_Identifier  Item_Weight Item_Fat_Content  Item_Visibility  \\\n",
              "0           FDA15         9.30          Low Fat         0.016047   \n",
              "1           DRC01         5.92          Regular         0.019278   \n",
              "2           FDN15        17.50          Low Fat         0.016760   \n",
              "3           FDX07        19.20          Regular         0.000000   \n",
              "4           NCD19         8.93          Low Fat         0.000000   \n",
              "\n",
              "               Item_Type  Item_MRP Outlet_Identifier  \\\n",
              "0                  Dairy  249.8092            OUT049   \n",
              "1            Soft Drinks   48.2692            OUT018   \n",
              "2                   Meat  141.6180            OUT049   \n",
              "3  Fruits and Vegetables  182.0950            OUT010   \n",
              "4              Household   53.8614            OUT013   \n",
              "\n",
              "   Outlet_Establishment_Year Outlet_Size Outlet_Location_Type  \\\n",
              "0                       1999      Medium               Tier 1   \n",
              "1                       2009      Medium               Tier 3   \n",
              "2                       1999      Medium               Tier 1   \n",
              "3                       1998         NaN               Tier 3   \n",
              "4                       1987        High               Tier 3   \n",
              "\n",
              "         Outlet_Type  Item_Outlet_Sales  \n",
              "0  Supermarket Type1          3735.1380  \n",
              "1  Supermarket Type2           443.4228  \n",
              "2  Supermarket Type1          2097.2700  \n",
              "3      Grocery Store           732.3800  \n",
              "4  Supermarket Type1           994.7052  "
            ],
            "text/html": [
              "\n",
              "\n",
              "  <div id=\"df-dc20d590-37fc-454b-88b8-314a1a374fdc\">\n",
              "    <div class=\"colab-df-container\">\n",
              "      <div>\n",
              "<style scoped>\n",
              "    .dataframe tbody tr th:only-of-type {\n",
              "        vertical-align: middle;\n",
              "    }\n",
              "\n",
              "    .dataframe tbody tr th {\n",
              "        vertical-align: top;\n",
              "    }\n",
              "\n",
              "    .dataframe thead th {\n",
              "        text-align: right;\n",
              "    }\n",
              "</style>\n",
              "<table border=\"1\" class=\"dataframe\">\n",
              "  <thead>\n",
              "    <tr style=\"text-align: right;\">\n",
              "      <th></th>\n",
              "      <th>Item_Identifier</th>\n",
              "      <th>Item_Weight</th>\n",
              "      <th>Item_Fat_Content</th>\n",
              "      <th>Item_Visibility</th>\n",
              "      <th>Item_Type</th>\n",
              "      <th>Item_MRP</th>\n",
              "      <th>Outlet_Identifier</th>\n",
              "      <th>Outlet_Establishment_Year</th>\n",
              "      <th>Outlet_Size</th>\n",
              "      <th>Outlet_Location_Type</th>\n",
              "      <th>Outlet_Type</th>\n",
              "      <th>Item_Outlet_Sales</th>\n",
              "    </tr>\n",
              "  </thead>\n",
              "  <tbody>\n",
              "    <tr>\n",
              "      <th>0</th>\n",
              "      <td>FDA15</td>\n",
              "      <td>9.30</td>\n",
              "      <td>Low Fat</td>\n",
              "      <td>0.016047</td>\n",
              "      <td>Dairy</td>\n",
              "      <td>249.8092</td>\n",
              "      <td>OUT049</td>\n",
              "      <td>1999</td>\n",
              "      <td>Medium</td>\n",
              "      <td>Tier 1</td>\n",
              "      <td>Supermarket Type1</td>\n",
              "      <td>3735.1380</td>\n",
              "    </tr>\n",
              "    <tr>\n",
              "      <th>1</th>\n",
              "      <td>DRC01</td>\n",
              "      <td>5.92</td>\n",
              "      <td>Regular</td>\n",
              "      <td>0.019278</td>\n",
              "      <td>Soft Drinks</td>\n",
              "      <td>48.2692</td>\n",
              "      <td>OUT018</td>\n",
              "      <td>2009</td>\n",
              "      <td>Medium</td>\n",
              "      <td>Tier 3</td>\n",
              "      <td>Supermarket Type2</td>\n",
              "      <td>443.4228</td>\n",
              "    </tr>\n",
              "    <tr>\n",
              "      <th>2</th>\n",
              "      <td>FDN15</td>\n",
              "      <td>17.50</td>\n",
              "      <td>Low Fat</td>\n",
              "      <td>0.016760</td>\n",
              "      <td>Meat</td>\n",
              "      <td>141.6180</td>\n",
              "      <td>OUT049</td>\n",
              "      <td>1999</td>\n",
              "      <td>Medium</td>\n",
              "      <td>Tier 1</td>\n",
              "      <td>Supermarket Type1</td>\n",
              "      <td>2097.2700</td>\n",
              "    </tr>\n",
              "    <tr>\n",
              "      <th>3</th>\n",
              "      <td>FDX07</td>\n",
              "      <td>19.20</td>\n",
              "      <td>Regular</td>\n",
              "      <td>0.000000</td>\n",
              "      <td>Fruits and Vegetables</td>\n",
              "      <td>182.0950</td>\n",
              "      <td>OUT010</td>\n",
              "      <td>1998</td>\n",
              "      <td>NaN</td>\n",
              "      <td>Tier 3</td>\n",
              "      <td>Grocery Store</td>\n",
              "      <td>732.3800</td>\n",
              "    </tr>\n",
              "    <tr>\n",
              "      <th>4</th>\n",
              "      <td>NCD19</td>\n",
              "      <td>8.93</td>\n",
              "      <td>Low Fat</td>\n",
              "      <td>0.000000</td>\n",
              "      <td>Household</td>\n",
              "      <td>53.8614</td>\n",
              "      <td>OUT013</td>\n",
              "      <td>1987</td>\n",
              "      <td>High</td>\n",
              "      <td>Tier 3</td>\n",
              "      <td>Supermarket Type1</td>\n",
              "      <td>994.7052</td>\n",
              "    </tr>\n",
              "  </tbody>\n",
              "</table>\n",
              "</div>\n",
              "      <button class=\"colab-df-convert\" onclick=\"convertToInteractive('df-dc20d590-37fc-454b-88b8-314a1a374fdc')\"\n",
              "              title=\"Convert this dataframe to an interactive table.\"\n",
              "              style=\"display:none;\">\n",
              "\n",
              "  <svg xmlns=\"http://www.w3.org/2000/svg\" height=\"24px\"viewBox=\"0 0 24 24\"\n",
              "       width=\"24px\">\n",
              "    <path d=\"M0 0h24v24H0V0z\" fill=\"none\"/>\n",
              "    <path d=\"M18.56 5.44l.94 2.06.94-2.06 2.06-.94-2.06-.94-.94-2.06-.94 2.06-2.06.94zm-11 1L8.5 8.5l.94-2.06 2.06-.94-2.06-.94L8.5 2.5l-.94 2.06-2.06.94zm10 10l.94 2.06.94-2.06 2.06-.94-2.06-.94-.94-2.06-.94 2.06-2.06.94z\"/><path d=\"M17.41 7.96l-1.37-1.37c-.4-.4-.92-.59-1.43-.59-.52 0-1.04.2-1.43.59L10.3 9.45l-7.72 7.72c-.78.78-.78 2.05 0 2.83L4 21.41c.39.39.9.59 1.41.59.51 0 1.02-.2 1.41-.59l7.78-7.78 2.81-2.81c.8-.78.8-2.07 0-2.86zM5.41 20L4 18.59l7.72-7.72 1.47 1.35L5.41 20z\"/>\n",
              "  </svg>\n",
              "      </button>\n",
              "\n",
              "\n",
              "\n",
              "    <div id=\"df-7dfc6901-6470-4ed6-9f63-1839df7df974\">\n",
              "      <button class=\"colab-df-quickchart\" onclick=\"quickchart('df-7dfc6901-6470-4ed6-9f63-1839df7df974')\"\n",
              "              title=\"Suggest charts.\"\n",
              "              style=\"display:none;\">\n",
              "\n",
              "<svg xmlns=\"http://www.w3.org/2000/svg\" height=\"24px\"viewBox=\"0 0 24 24\"\n",
              "     width=\"24px\">\n",
              "    <g>\n",
              "        <path d=\"M19 3H5c-1.1 0-2 .9-2 2v14c0 1.1.9 2 2 2h14c1.1 0 2-.9 2-2V5c0-1.1-.9-2-2-2zM9 17H7v-7h2v7zm4 0h-2V7h2v10zm4 0h-2v-4h2v4z\"/>\n",
              "    </g>\n",
              "</svg>\n",
              "      </button>\n",
              "    </div>\n",
              "\n",
              "<style>\n",
              "  .colab-df-quickchart {\n",
              "    background-color: #E8F0FE;\n",
              "    border: none;\n",
              "    border-radius: 50%;\n",
              "    cursor: pointer;\n",
              "    display: none;\n",
              "    fill: #1967D2;\n",
              "    height: 32px;\n",
              "    padding: 0 0 0 0;\n",
              "    width: 32px;\n",
              "  }\n",
              "\n",
              "  .colab-df-quickchart:hover {\n",
              "    background-color: #E2EBFA;\n",
              "    box-shadow: 0px 1px 2px rgba(60, 64, 67, 0.3), 0px 1px 3px 1px rgba(60, 64, 67, 0.15);\n",
              "    fill: #174EA6;\n",
              "  }\n",
              "\n",
              "  [theme=dark] .colab-df-quickchart {\n",
              "    background-color: #3B4455;\n",
              "    fill: #D2E3FC;\n",
              "  }\n",
              "\n",
              "  [theme=dark] .colab-df-quickchart:hover {\n",
              "    background-color: #434B5C;\n",
              "    box-shadow: 0px 1px 3px 1px rgba(0, 0, 0, 0.15);\n",
              "    filter: drop-shadow(0px 1px 2px rgba(0, 0, 0, 0.3));\n",
              "    fill: #FFFFFF;\n",
              "  }\n",
              "</style>\n",
              "\n",
              "    <script>\n",
              "      async function quickchart(key) {\n",
              "        const containerElement = document.querySelector('#' + key);\n",
              "        const charts = await google.colab.kernel.invokeFunction(\n",
              "            'suggestCharts', [key], {});\n",
              "      }\n",
              "    </script>\n",
              "\n",
              "      <script>\n",
              "\n",
              "function displayQuickchartButton(domScope) {\n",
              "  let quickchartButtonEl =\n",
              "    domScope.querySelector('#df-7dfc6901-6470-4ed6-9f63-1839df7df974 button.colab-df-quickchart');\n",
              "  quickchartButtonEl.style.display =\n",
              "    google.colab.kernel.accessAllowed ? 'block' : 'none';\n",
              "}\n",
              "\n",
              "        displayQuickchartButton(document);\n",
              "      </script>\n",
              "      <style>\n",
              "    .colab-df-container {\n",
              "      display:flex;\n",
              "      flex-wrap:wrap;\n",
              "      gap: 12px;\n",
              "    }\n",
              "\n",
              "    .colab-df-convert {\n",
              "      background-color: #E8F0FE;\n",
              "      border: none;\n",
              "      border-radius: 50%;\n",
              "      cursor: pointer;\n",
              "      display: none;\n",
              "      fill: #1967D2;\n",
              "      height: 32px;\n",
              "      padding: 0 0 0 0;\n",
              "      width: 32px;\n",
              "    }\n",
              "\n",
              "    .colab-df-convert:hover {\n",
              "      background-color: #E2EBFA;\n",
              "      box-shadow: 0px 1px 2px rgba(60, 64, 67, 0.3), 0px 1px 3px 1px rgba(60, 64, 67, 0.15);\n",
              "      fill: #174EA6;\n",
              "    }\n",
              "\n",
              "    [theme=dark] .colab-df-convert {\n",
              "      background-color: #3B4455;\n",
              "      fill: #D2E3FC;\n",
              "    }\n",
              "\n",
              "    [theme=dark] .colab-df-convert:hover {\n",
              "      background-color: #434B5C;\n",
              "      box-shadow: 0px 1px 3px 1px rgba(0, 0, 0, 0.15);\n",
              "      filter: drop-shadow(0px 1px 2px rgba(0, 0, 0, 0.3));\n",
              "      fill: #FFFFFF;\n",
              "    }\n",
              "  </style>\n",
              "\n",
              "      <script>\n",
              "        const buttonEl =\n",
              "          document.querySelector('#df-dc20d590-37fc-454b-88b8-314a1a374fdc button.colab-df-convert');\n",
              "        buttonEl.style.display =\n",
              "          google.colab.kernel.accessAllowed ? 'block' : 'none';\n",
              "\n",
              "        async function convertToInteractive(key) {\n",
              "          const element = document.querySelector('#df-dc20d590-37fc-454b-88b8-314a1a374fdc');\n",
              "          const dataTable =\n",
              "            await google.colab.kernel.invokeFunction('convertToInteractive',\n",
              "                                                     [key], {});\n",
              "          if (!dataTable) return;\n",
              "\n",
              "          const docLinkHtml = 'Like what you see? Visit the ' +\n",
              "            '<a target=\"_blank\" href=https://colab.research.google.com/notebooks/data_table.ipynb>data table notebook</a>'\n",
              "            + ' to learn more about interactive tables.';\n",
              "          element.innerHTML = '';\n",
              "          dataTable['output_type'] = 'display_data';\n",
              "          await google.colab.output.renderOutput(dataTable, element);\n",
              "          const docLink = document.createElement('div');\n",
              "          docLink.innerHTML = docLinkHtml;\n",
              "          element.appendChild(docLink);\n",
              "        }\n",
              "      </script>\n",
              "    </div>\n",
              "  </div>\n"
            ]
          },
          "metadata": {},
          "execution_count": 6
        }
      ]
    },
    {
      "cell_type": "code",
      "source": [
        "#creat another df, so we do not loose the original data.\n",
        "df2 = df_sp.copy()"
      ],
      "metadata": {
        "id": "q4xWhyEJltXc"
      },
      "execution_count": 7,
      "outputs": []
    },
    {
      "cell_type": "markdown",
      "source": [
        "# **Data Cleaning**"
      ],
      "metadata": {
        "id": "UUiKLpzSmIvr"
      }
    },
    {
      "cell_type": "markdown",
      "source": [],
      "metadata": {
        "id": "uyvO78wc4fSJ"
      }
    },
    {
      "cell_type": "code",
      "source": [
        "df_sp.info()"
      ],
      "metadata": {
        "id": "xN5YWls8mGWx",
        "colab": {
          "base_uri": "https://localhost:8080/"
        },
        "outputId": "17f9d6c6-fb0b-40c6-b7a4-b62a5e87ebea"
      },
      "execution_count": 8,
      "outputs": [
        {
          "output_type": "stream",
          "name": "stdout",
          "text": [
            "<class 'pandas.core.frame.DataFrame'>\n",
            "RangeIndex: 8523 entries, 0 to 8522\n",
            "Data columns (total 12 columns):\n",
            " #   Column                     Non-Null Count  Dtype  \n",
            "---  ------                     --------------  -----  \n",
            " 0   Item_Identifier            8523 non-null   object \n",
            " 1   Item_Weight                7060 non-null   float64\n",
            " 2   Item_Fat_Content           8523 non-null   object \n",
            " 3   Item_Visibility            8523 non-null   float64\n",
            " 4   Item_Type                  8523 non-null   object \n",
            " 5   Item_MRP                   8523 non-null   float64\n",
            " 6   Outlet_Identifier          8523 non-null   object \n",
            " 7   Outlet_Establishment_Year  8523 non-null   int64  \n",
            " 8   Outlet_Size                6113 non-null   object \n",
            " 9   Outlet_Location_Type       8523 non-null   object \n",
            " 10  Outlet_Type                8523 non-null   object \n",
            " 11  Item_Outlet_Sales          8523 non-null   float64\n",
            "dtypes: float64(4), int64(1), object(7)\n",
            "memory usage: 799.2+ KB\n"
          ]
        }
      ]
    },
    {
      "cell_type": "code",
      "source": [
        "df_sp.describe()"
      ],
      "metadata": {
        "id": "Qcg3rl2CmUQB",
        "colab": {
          "base_uri": "https://localhost:8080/",
          "height": 300
        },
        "outputId": "73aaeb00-e81d-4d11-9eb9-a8126f72d5ec"
      },
      "execution_count": 9,
      "outputs": [
        {
          "output_type": "execute_result",
          "data": {
            "text/plain": [
              "       Item_Weight  Item_Visibility     Item_MRP  Outlet_Establishment_Year  \\\n",
              "count  7060.000000      8523.000000  8523.000000                8523.000000   \n",
              "mean     12.857645         0.066132   140.992782                1997.831867   \n",
              "std       4.643456         0.051598    62.275067                   8.371760   \n",
              "min       4.555000         0.000000    31.290000                1985.000000   \n",
              "25%       8.773750         0.026989    93.826500                1987.000000   \n",
              "50%      12.600000         0.053931   143.012800                1999.000000   \n",
              "75%      16.850000         0.094585   185.643700                2004.000000   \n",
              "max      21.350000         0.328391   266.888400                2009.000000   \n",
              "\n",
              "       Item_Outlet_Sales  \n",
              "count        8523.000000  \n",
              "mean         2181.288914  \n",
              "std          1706.499616  \n",
              "min            33.290000  \n",
              "25%           834.247400  \n",
              "50%          1794.331000  \n",
              "75%          3101.296400  \n",
              "max         13086.964800  "
            ],
            "text/html": [
              "\n",
              "\n",
              "  <div id=\"df-ebc60958-0d0c-484c-887e-4dd8e83a909c\">\n",
              "    <div class=\"colab-df-container\">\n",
              "      <div>\n",
              "<style scoped>\n",
              "    .dataframe tbody tr th:only-of-type {\n",
              "        vertical-align: middle;\n",
              "    }\n",
              "\n",
              "    .dataframe tbody tr th {\n",
              "        vertical-align: top;\n",
              "    }\n",
              "\n",
              "    .dataframe thead th {\n",
              "        text-align: right;\n",
              "    }\n",
              "</style>\n",
              "<table border=\"1\" class=\"dataframe\">\n",
              "  <thead>\n",
              "    <tr style=\"text-align: right;\">\n",
              "      <th></th>\n",
              "      <th>Item_Weight</th>\n",
              "      <th>Item_Visibility</th>\n",
              "      <th>Item_MRP</th>\n",
              "      <th>Outlet_Establishment_Year</th>\n",
              "      <th>Item_Outlet_Sales</th>\n",
              "    </tr>\n",
              "  </thead>\n",
              "  <tbody>\n",
              "    <tr>\n",
              "      <th>count</th>\n",
              "      <td>7060.000000</td>\n",
              "      <td>8523.000000</td>\n",
              "      <td>8523.000000</td>\n",
              "      <td>8523.000000</td>\n",
              "      <td>8523.000000</td>\n",
              "    </tr>\n",
              "    <tr>\n",
              "      <th>mean</th>\n",
              "      <td>12.857645</td>\n",
              "      <td>0.066132</td>\n",
              "      <td>140.992782</td>\n",
              "      <td>1997.831867</td>\n",
              "      <td>2181.288914</td>\n",
              "    </tr>\n",
              "    <tr>\n",
              "      <th>std</th>\n",
              "      <td>4.643456</td>\n",
              "      <td>0.051598</td>\n",
              "      <td>62.275067</td>\n",
              "      <td>8.371760</td>\n",
              "      <td>1706.499616</td>\n",
              "    </tr>\n",
              "    <tr>\n",
              "      <th>min</th>\n",
              "      <td>4.555000</td>\n",
              "      <td>0.000000</td>\n",
              "      <td>31.290000</td>\n",
              "      <td>1985.000000</td>\n",
              "      <td>33.290000</td>\n",
              "    </tr>\n",
              "    <tr>\n",
              "      <th>25%</th>\n",
              "      <td>8.773750</td>\n",
              "      <td>0.026989</td>\n",
              "      <td>93.826500</td>\n",
              "      <td>1987.000000</td>\n",
              "      <td>834.247400</td>\n",
              "    </tr>\n",
              "    <tr>\n",
              "      <th>50%</th>\n",
              "      <td>12.600000</td>\n",
              "      <td>0.053931</td>\n",
              "      <td>143.012800</td>\n",
              "      <td>1999.000000</td>\n",
              "      <td>1794.331000</td>\n",
              "    </tr>\n",
              "    <tr>\n",
              "      <th>75%</th>\n",
              "      <td>16.850000</td>\n",
              "      <td>0.094585</td>\n",
              "      <td>185.643700</td>\n",
              "      <td>2004.000000</td>\n",
              "      <td>3101.296400</td>\n",
              "    </tr>\n",
              "    <tr>\n",
              "      <th>max</th>\n",
              "      <td>21.350000</td>\n",
              "      <td>0.328391</td>\n",
              "      <td>266.888400</td>\n",
              "      <td>2009.000000</td>\n",
              "      <td>13086.964800</td>\n",
              "    </tr>\n",
              "  </tbody>\n",
              "</table>\n",
              "</div>\n",
              "      <button class=\"colab-df-convert\" onclick=\"convertToInteractive('df-ebc60958-0d0c-484c-887e-4dd8e83a909c')\"\n",
              "              title=\"Convert this dataframe to an interactive table.\"\n",
              "              style=\"display:none;\">\n",
              "\n",
              "  <svg xmlns=\"http://www.w3.org/2000/svg\" height=\"24px\"viewBox=\"0 0 24 24\"\n",
              "       width=\"24px\">\n",
              "    <path d=\"M0 0h24v24H0V0z\" fill=\"none\"/>\n",
              "    <path d=\"M18.56 5.44l.94 2.06.94-2.06 2.06-.94-2.06-.94-.94-2.06-.94 2.06-2.06.94zm-11 1L8.5 8.5l.94-2.06 2.06-.94-2.06-.94L8.5 2.5l-.94 2.06-2.06.94zm10 10l.94 2.06.94-2.06 2.06-.94-2.06-.94-.94-2.06-.94 2.06-2.06.94z\"/><path d=\"M17.41 7.96l-1.37-1.37c-.4-.4-.92-.59-1.43-.59-.52 0-1.04.2-1.43.59L10.3 9.45l-7.72 7.72c-.78.78-.78 2.05 0 2.83L4 21.41c.39.39.9.59 1.41.59.51 0 1.02-.2 1.41-.59l7.78-7.78 2.81-2.81c.8-.78.8-2.07 0-2.86zM5.41 20L4 18.59l7.72-7.72 1.47 1.35L5.41 20z\"/>\n",
              "  </svg>\n",
              "      </button>\n",
              "\n",
              "\n",
              "\n",
              "    <div id=\"df-b8f44fff-808d-44a0-a7a9-a6c78925648c\">\n",
              "      <button class=\"colab-df-quickchart\" onclick=\"quickchart('df-b8f44fff-808d-44a0-a7a9-a6c78925648c')\"\n",
              "              title=\"Suggest charts.\"\n",
              "              style=\"display:none;\">\n",
              "\n",
              "<svg xmlns=\"http://www.w3.org/2000/svg\" height=\"24px\"viewBox=\"0 0 24 24\"\n",
              "     width=\"24px\">\n",
              "    <g>\n",
              "        <path d=\"M19 3H5c-1.1 0-2 .9-2 2v14c0 1.1.9 2 2 2h14c1.1 0 2-.9 2-2V5c0-1.1-.9-2-2-2zM9 17H7v-7h2v7zm4 0h-2V7h2v10zm4 0h-2v-4h2v4z\"/>\n",
              "    </g>\n",
              "</svg>\n",
              "      </button>\n",
              "    </div>\n",
              "\n",
              "<style>\n",
              "  .colab-df-quickchart {\n",
              "    background-color: #E8F0FE;\n",
              "    border: none;\n",
              "    border-radius: 50%;\n",
              "    cursor: pointer;\n",
              "    display: none;\n",
              "    fill: #1967D2;\n",
              "    height: 32px;\n",
              "    padding: 0 0 0 0;\n",
              "    width: 32px;\n",
              "  }\n",
              "\n",
              "  .colab-df-quickchart:hover {\n",
              "    background-color: #E2EBFA;\n",
              "    box-shadow: 0px 1px 2px rgba(60, 64, 67, 0.3), 0px 1px 3px 1px rgba(60, 64, 67, 0.15);\n",
              "    fill: #174EA6;\n",
              "  }\n",
              "\n",
              "  [theme=dark] .colab-df-quickchart {\n",
              "    background-color: #3B4455;\n",
              "    fill: #D2E3FC;\n",
              "  }\n",
              "\n",
              "  [theme=dark] .colab-df-quickchart:hover {\n",
              "    background-color: #434B5C;\n",
              "    box-shadow: 0px 1px 3px 1px rgba(0, 0, 0, 0.15);\n",
              "    filter: drop-shadow(0px 1px 2px rgba(0, 0, 0, 0.3));\n",
              "    fill: #FFFFFF;\n",
              "  }\n",
              "</style>\n",
              "\n",
              "    <script>\n",
              "      async function quickchart(key) {\n",
              "        const containerElement = document.querySelector('#' + key);\n",
              "        const charts = await google.colab.kernel.invokeFunction(\n",
              "            'suggestCharts', [key], {});\n",
              "      }\n",
              "    </script>\n",
              "\n",
              "      <script>\n",
              "\n",
              "function displayQuickchartButton(domScope) {\n",
              "  let quickchartButtonEl =\n",
              "    domScope.querySelector('#df-b8f44fff-808d-44a0-a7a9-a6c78925648c button.colab-df-quickchart');\n",
              "  quickchartButtonEl.style.display =\n",
              "    google.colab.kernel.accessAllowed ? 'block' : 'none';\n",
              "}\n",
              "\n",
              "        displayQuickchartButton(document);\n",
              "      </script>\n",
              "      <style>\n",
              "    .colab-df-container {\n",
              "      display:flex;\n",
              "      flex-wrap:wrap;\n",
              "      gap: 12px;\n",
              "    }\n",
              "\n",
              "    .colab-df-convert {\n",
              "      background-color: #E8F0FE;\n",
              "      border: none;\n",
              "      border-radius: 50%;\n",
              "      cursor: pointer;\n",
              "      display: none;\n",
              "      fill: #1967D2;\n",
              "      height: 32px;\n",
              "      padding: 0 0 0 0;\n",
              "      width: 32px;\n",
              "    }\n",
              "\n",
              "    .colab-df-convert:hover {\n",
              "      background-color: #E2EBFA;\n",
              "      box-shadow: 0px 1px 2px rgba(60, 64, 67, 0.3), 0px 1px 3px 1px rgba(60, 64, 67, 0.15);\n",
              "      fill: #174EA6;\n",
              "    }\n",
              "\n",
              "    [theme=dark] .colab-df-convert {\n",
              "      background-color: #3B4455;\n",
              "      fill: #D2E3FC;\n",
              "    }\n",
              "\n",
              "    [theme=dark] .colab-df-convert:hover {\n",
              "      background-color: #434B5C;\n",
              "      box-shadow: 0px 1px 3px 1px rgba(0, 0, 0, 0.15);\n",
              "      filter: drop-shadow(0px 1px 2px rgba(0, 0, 0, 0.3));\n",
              "      fill: #FFFFFF;\n",
              "    }\n",
              "  </style>\n",
              "\n",
              "      <script>\n",
              "        const buttonEl =\n",
              "          document.querySelector('#df-ebc60958-0d0c-484c-887e-4dd8e83a909c button.colab-df-convert');\n",
              "        buttonEl.style.display =\n",
              "          google.colab.kernel.accessAllowed ? 'block' : 'none';\n",
              "\n",
              "        async function convertToInteractive(key) {\n",
              "          const element = document.querySelector('#df-ebc60958-0d0c-484c-887e-4dd8e83a909c');\n",
              "          const dataTable =\n",
              "            await google.colab.kernel.invokeFunction('convertToInteractive',\n",
              "                                                     [key], {});\n",
              "          if (!dataTable) return;\n",
              "\n",
              "          const docLinkHtml = 'Like what you see? Visit the ' +\n",
              "            '<a target=\"_blank\" href=https://colab.research.google.com/notebooks/data_table.ipynb>data table notebook</a>'\n",
              "            + ' to learn more about interactive tables.';\n",
              "          element.innerHTML = '';\n",
              "          dataTable['output_type'] = 'display_data';\n",
              "          await google.colab.output.renderOutput(dataTable, element);\n",
              "          const docLink = document.createElement('div');\n",
              "          docLink.innerHTML = docLinkHtml;\n",
              "          element.appendChild(docLink);\n",
              "        }\n",
              "      </script>\n",
              "    </div>\n",
              "  </div>\n"
            ]
          },
          "metadata": {},
          "execution_count": 9
        }
      ]
    },
    {
      "cell_type": "code",
      "source": [
        "df_sp.dtypes"
      ],
      "metadata": {
        "id": "WXiQVevYmXmY",
        "colab": {
          "base_uri": "https://localhost:8080/"
        },
        "outputId": "d942fc14-b5c0-412a-e218-56235d6d094b"
      },
      "execution_count": 10,
      "outputs": [
        {
          "output_type": "execute_result",
          "data": {
            "text/plain": [
              "Item_Identifier               object\n",
              "Item_Weight                  float64\n",
              "Item_Fat_Content              object\n",
              "Item_Visibility              float64\n",
              "Item_Type                     object\n",
              "Item_MRP                     float64\n",
              "Outlet_Identifier             object\n",
              "Outlet_Establishment_Year      int64\n",
              "Outlet_Size                   object\n",
              "Outlet_Location_Type          object\n",
              "Outlet_Type                   object\n",
              "Item_Outlet_Sales            float64\n",
              "dtype: object"
            ]
          },
          "metadata": {},
          "execution_count": 10
        }
      ]
    },
    {
      "cell_type": "code",
      "source": [
        "df_sp.shape"
      ],
      "metadata": {
        "id": "97GxGBiYm2PZ",
        "colab": {
          "base_uri": "https://localhost:8080/"
        },
        "outputId": "d7ae0aea-d136-4014-ffef-d7dfc680606f"
      },
      "execution_count": 11,
      "outputs": [
        {
          "output_type": "execute_result",
          "data": {
            "text/plain": [
              "(8523, 12)"
            ]
          },
          "metadata": {},
          "execution_count": 11
        }
      ]
    },
    {
      "cell_type": "markdown",
      "source": [
        "## Exploratory Data Analysis"
      ],
      "metadata": {
        "id": "D373jAHUpKG4"
      }
    },
    {
      "cell_type": "markdown",
      "source": [
        "1) How many rows and columns?\n",
        "\n"
      ],
      "metadata": {
        "id": "3M4b35fWoM2t"
      }
    },
    {
      "cell_type": "code",
      "source": [
        "num_rows = df_sp.shape[0]\n",
        "num_cols = df_sp.shape[1]\n",
        "message = f'There are {num_rows} rows and {num_cols} columns in the dataset.'\n",
        "print(message)"
      ],
      "metadata": {
        "id": "1umKemoBp8Mu",
        "colab": {
          "base_uri": "https://localhost:8080/"
        },
        "outputId": "ddafbd49-8797-478c-bbc3-0cc0c4363f56"
      },
      "execution_count": 12,
      "outputs": [
        {
          "output_type": "stream",
          "name": "stdout",
          "text": [
            "There are 8523 rows and 12 columns in the dataset.\n"
          ]
        }
      ]
    },
    {
      "cell_type": "markdown",
      "source": [
        "2) What are the datatypes of each variable?\n"
      ],
      "metadata": {
        "id": "7ZwJMS3eoa0G"
      }
    },
    {
      "cell_type": "code",
      "source": [
        "#what are the data types of each variable?\n",
        "df_sp.select_dtypes(include='object').dtypes"
      ],
      "metadata": {
        "id": "3ptpsRferb0J",
        "colab": {
          "base_uri": "https://localhost:8080/"
        },
        "outputId": "68129fd8-4648-4d90-8f2d-71ccb7f7d6e8"
      },
      "execution_count": 13,
      "outputs": [
        {
          "output_type": "execute_result",
          "data": {
            "text/plain": [
              "Item_Identifier         object\n",
              "Item_Fat_Content        object\n",
              "Item_Type               object\n",
              "Outlet_Identifier       object\n",
              "Outlet_Size             object\n",
              "Outlet_Location_Type    object\n",
              "Outlet_Type             object\n",
              "dtype: object"
            ]
          },
          "metadata": {},
          "execution_count": 13
        }
      ]
    },
    {
      "cell_type": "code",
      "source": [
        "#call up all the object columns and view rows\n",
        "df_sp.select_dtypes(include='int').dtypes\n"
      ],
      "metadata": {
        "colab": {
          "base_uri": "https://localhost:8080/"
        },
        "id": "acW0ZpU1gGUO",
        "outputId": "6f237490-d186-4ca0-ea57-b683c9f4cc3f"
      },
      "execution_count": 14,
      "outputs": [
        {
          "output_type": "execute_result",
          "data": {
            "text/plain": [
              "Outlet_Establishment_Year    int64\n",
              "dtype: object"
            ]
          },
          "metadata": {},
          "execution_count": 14
        }
      ]
    },
    {
      "cell_type": "code",
      "source": [
        "df_sp.select_dtypes(include='float64').dtypes"
      ],
      "metadata": {
        "colab": {
          "base_uri": "https://localhost:8080/"
        },
        "id": "9a4npRfJhb4B",
        "outputId": "afa19dac-bd25-4bf5-defa-cf6fae2be058"
      },
      "execution_count": 15,
      "outputs": [
        {
          "output_type": "execute_result",
          "data": {
            "text/plain": [
              "Item_Weight          float64\n",
              "Item_Visibility      float64\n",
              "Item_MRP             float64\n",
              "Item_Outlet_Sales    float64\n",
              "dtype: object"
            ]
          },
          "metadata": {},
          "execution_count": 15
        }
      ]
    },
    {
      "cell_type": "markdown",
      "source": [
        "3) Are there duplicates? If so, drop any duplicates."
      ],
      "metadata": {
        "id": "9F_7SeoOo7gc"
      }
    },
    {
      "cell_type": "code",
      "source": [
        "#ID any duplicates?\n",
        "df_sp.duplicated().sum()"
      ],
      "metadata": {
        "id": "m78SLGEeuwdR",
        "colab": {
          "base_uri": "https://localhost:8080/"
        },
        "outputId": "4d7cbfe2-0fb4-47f2-d6be-f5315f667ab7"
      },
      "execution_count": 16,
      "outputs": [
        {
          "output_type": "execute_result",
          "data": {
            "text/plain": [
              "0"
            ]
          },
          "metadata": {},
          "execution_count": 16
        }
      ]
    },
    {
      "cell_type": "markdown",
      "source": [
        "There are no duplicate codes."
      ],
      "metadata": {
        "id": "D12pt2PBiEIz"
      }
    },
    {
      "cell_type": "markdown",
      "source": [
        "4) Identify missing values."
      ],
      "metadata": {
        "id": "TeBWmV6Qo80y"
      }
    },
    {
      "cell_type": "code",
      "source": [
        "#check for missing values\n",
        "df_sp.isnull().sum()"
      ],
      "metadata": {
        "id": "QTggeAXqyXl4",
        "colab": {
          "base_uri": "https://localhost:8080/"
        },
        "outputId": "8804784d-8f6f-4192-a049-739a800766ea"
      },
      "execution_count": 17,
      "outputs": [
        {
          "output_type": "execute_result",
          "data": {
            "text/plain": [
              "Item_Identifier                 0\n",
              "Item_Weight                  1463\n",
              "Item_Fat_Content                0\n",
              "Item_Visibility                 0\n",
              "Item_Type                       0\n",
              "Item_MRP                        0\n",
              "Outlet_Identifier               0\n",
              "Outlet_Establishment_Year       0\n",
              "Outlet_Size                  2410\n",
              "Outlet_Location_Type            0\n",
              "Outlet_Type                     0\n",
              "Item_Outlet_Sales               0\n",
              "dtype: int64"
            ]
          },
          "metadata": {},
          "execution_count": 17
        }
      ]
    },
    {
      "cell_type": "code",
      "source": [
        "#convert missing values to %\n",
        "df_sp.isnull().sum()/df_sp.shape[0]*100"
      ],
      "metadata": {
        "id": "EIbhimg0y0nf",
        "colab": {
          "base_uri": "https://localhost:8080/"
        },
        "outputId": "44759500-0708-461d-cf16-2e19d1519190"
      },
      "execution_count": 18,
      "outputs": [
        {
          "output_type": "execute_result",
          "data": {
            "text/plain": [
              "Item_Identifier               0.000000\n",
              "Item_Weight                  17.165317\n",
              "Item_Fat_Content              0.000000\n",
              "Item_Visibility               0.000000\n",
              "Item_Type                     0.000000\n",
              "Item_MRP                      0.000000\n",
              "Outlet_Identifier             0.000000\n",
              "Outlet_Establishment_Year     0.000000\n",
              "Outlet_Size                  28.276428\n",
              "Outlet_Location_Type          0.000000\n",
              "Outlet_Type                   0.000000\n",
              "Item_Outlet_Sales             0.000000\n",
              "dtype: float64"
            ]
          },
          "metadata": {},
          "execution_count": 18
        }
      ]
    },
    {
      "cell_type": "markdown",
      "source": [
        "Item wieght has 1463 missing values and outlet size has 2410 missing values.\n"
      ],
      "metadata": {
        "id": "b_jVzJvs2bu_"
      }
    },
    {
      "cell_type": "markdown",
      "source": [
        "- Missing Values:\n",
        "  - There are `1463` missing values in the `Item_Weight` column.  \n",
        "  - There are `2410` missing values in the `Outlet_Size` column.\n",
        "\n",
        "- In order to make informed decisions about how to handle missing data, we will do some additional EDA."
      ],
      "metadata": {
        "id": "TI6ZCVoIiq7g"
      }
    },
    {
      "cell_type": "markdown",
      "source": [
        "## Clean Data"
      ],
      "metadata": {
        "id": "DGsOG6nepD3G"
      }
    },
    {
      "cell_type": "markdown",
      "source": [
        "5) Address the missing values by using a placeholder value.\n"
      ],
      "metadata": {
        "id": "ui0GpNsYojnk"
      }
    },
    {
      "cell_type": "code",
      "source": [
        "## Using three seaborn styles: dark_background, seaborn-muted and seaborn-poster.\n",
        "plt.style.use(['dark_background','seaborn-muted', 'seaborn-poster'])"
      ],
      "metadata": {
        "id": "JVBNIvtj4ZVl",
        "colab": {
          "base_uri": "https://localhost:8080/"
        },
        "outputId": "580a6f00-7358-4d80-a331-a58a964340c2"
      },
      "execution_count": 19,
      "outputs": [
        {
          "output_type": "stream",
          "name": "stderr",
          "text": [
            "<ipython-input-19-1d20c34fce50>:2: MatplotlibDeprecationWarning: The seaborn styles shipped by Matplotlib are deprecated since 3.6, as they no longer correspond to the styles shipped by seaborn. However, they will remain available as 'seaborn-v0_8-<style>'. Alternatively, directly use the seaborn API instead.\n",
            "  plt.style.use(['dark_background','seaborn-muted', 'seaborn-poster'])\n",
            "<ipython-input-19-1d20c34fce50>:2: MatplotlibDeprecationWarning: The seaborn styles shipped by Matplotlib are deprecated since 3.6, as they no longer correspond to the styles shipped by seaborn. However, they will remain available as 'seaborn-v0_8-<style>'. Alternatively, directly use the seaborn API instead.\n",
            "  plt.style.use(['dark_background','seaborn-muted', 'seaborn-poster'])\n"
          ]
        }
      ]
    },
    {
      "cell_type": "code",
      "source": [
        "plt.figure(figsize=(5, 5))\n",
        "ax = sns.countplot(data = df_sp, x = 'Outlet_Size');"
      ],
      "metadata": {
        "colab": {
          "base_uri": "https://localhost:8080/",
          "height": 492
        },
        "id": "R2ZJzQuXj4HV",
        "outputId": "181d57f5-73b5-4341-84e8-13d401a42db4"
      },
      "execution_count": 20,
      "outputs": [
        {
          "output_type": "display_data",
          "data": {
            "text/plain": [
              "<Figure size 500x500 with 1 Axes>"
            ],
            "image/png": "[encoded data removed]"
          },
          "metadata": {}
        }
      ]
    },
    {
      "cell_type": "markdown",
      "source": [
        " - This graph shows that there are over 2500 Medium size outlets and 2500 Small size outlets.\n",
        "  - `Strategy #1`: To deal with the missing values, we could simply `drop` the missing values.\n",
        "  - `Strategy #2`: To deal with the missing values, we could fill them in with the `most frequent` for this feature.\n",
        "  - `Strategy #3`: To deal with the missing values, we could fill them in with the word `Missing` for this feature.\n",
        "\n",
        "- We will select `Strategy #3` to fill in the missing values with the word `mMissing` so that the values will be filled in, but we will still be aware that those values are unknown."
      ],
      "metadata": {
        "id": "m_OVVxCokPpa"
      }
    },
    {
      "cell_type": "code",
      "source": [
        "df_sp['Outlet_Size'].isna().sum()"
      ],
      "metadata": {
        "colab": {
          "base_uri": "https://localhost:8080/"
        },
        "id": "CuuTt1FvkNSF",
        "outputId": "094775cf-f051-4c63-cf86-b9fc80ec4160"
      },
      "execution_count": 21,
      "outputs": [
        {
          "output_type": "execute_result",
          "data": {
            "text/plain": [
              "2410"
            ]
          },
          "metadata": {},
          "execution_count": 21
        }
      ]
    },
    {
      "cell_type": "code",
      "source": [
        "#lets start with the Categorical variables\n",
        "df_sp['Outlet_Size'].value_counts()"
      ],
      "metadata": {
        "id": "Wu5i_lR74jou",
        "colab": {
          "base_uri": "https://localhost:8080/"
        },
        "outputId": "0b99e05a-7e39-437a-b01d-490fe0d206dd"
      },
      "execution_count": 22,
      "outputs": [
        {
          "output_type": "execute_result",
          "data": {
            "text/plain": [
              "Medium    2793\n",
              "Small     2388\n",
              "High       932\n",
              "Name: Outlet_Size, dtype: int64"
            ]
          },
          "metadata": {},
          "execution_count": 22
        }
      ]
    },
    {
      "cell_type": "code",
      "source": [
        "#now we will replace the null values with missing\n",
        "df_sp['Outlet_Size'].fillna('Missing', inplace = True)\n",
        "df_sp['Outlet_Size'].value_counts()"
      ],
      "metadata": {
        "colab": {
          "base_uri": "https://localhost:8080/"
        },
        "id": "nALjd0nBlR88",
        "outputId": "d371c353-85ef-4702-a7b4-249e5a4e8686"
      },
      "execution_count": 23,
      "outputs": [
        {
          "output_type": "execute_result",
          "data": {
            "text/plain": [
              "Medium     2793\n",
              "Missing    2410\n",
              "Small      2388\n",
              "High        932\n",
              "Name: Outlet_Size, dtype: int64"
            ]
          },
          "metadata": {},
          "execution_count": 23
        }
      ]
    },
    {
      "cell_type": "code",
      "source": [
        "plt.figure(figsize=(5, 5))\n",
        "ax = sns.countplot(data = df_sp, x = 'Outlet_Size');"
      ],
      "metadata": {
        "colab": {
          "base_uri": "https://localhost:8080/",
          "height": 492
        },
        "id": "VmqRaKkimEkT",
        "outputId": "62df7087-37be-4597-9eb9-3f056903e247"
      },
      "execution_count": 24,
      "outputs": [
        {
          "output_type": "display_data",
          "data": {
            "text/plain": [
              "<Figure size 500x500 with 1 Axes>"
            ],
            "image/png": "[encoded data removed]"
          },
          "metadata": {}
        }
      ]
    },
    {
      "cell_type": "code",
      "source": [
        "#Now to check for any other missing values\n",
        "df_sp.isnull().sum()"
      ],
      "metadata": {
        "colab": {
          "base_uri": "https://localhost:8080/"
        },
        "id": "Z6SPgAUvmg1-",
        "outputId": "c42c1893-786d-4bb5-b7e7-7556da7f1a88"
      },
      "execution_count": 25,
      "outputs": [
        {
          "output_type": "execute_result",
          "data": {
            "text/plain": [
              "Item_Identifier                 0\n",
              "Item_Weight                  1463\n",
              "Item_Fat_Content                0\n",
              "Item_Visibility                 0\n",
              "Item_Type                       0\n",
              "Item_MRP                        0\n",
              "Outlet_Identifier               0\n",
              "Outlet_Establishment_Year       0\n",
              "Outlet_Size                     0\n",
              "Outlet_Location_Type            0\n",
              "Outlet_Type                     0\n",
              "Item_Outlet_Sales               0\n",
              "dtype: int64"
            ]
          },
          "metadata": {},
          "execution_count": 25
        }
      ]
    },
    {
      "cell_type": "code",
      "source": [
        "plt.figure(figsize=(5, 5))\n",
        "ax = sns.histplot(data = df_sp, x = 'Item_Weight');"
      ],
      "metadata": {
        "colab": {
          "base_uri": "https://localhost:8080/",
          "height": 492
        },
        "id": "6YYN6mQYoCoM",
        "outputId": "78f3f5a1-4392-4e4d-843e-4959e41a8672"
      },
      "execution_count": 26,
      "outputs": [
        {
          "output_type": "display_data",
          "data": {
            "text/plain": [
              "<Figure size 500x500 with 1 Axes>"
            ],
            "image/png": "[encoded data removed]"
          },
          "metadata": {}
        }
      ]
    },
    {
      "cell_type": "code",
      "source": [
        "df_sp['Item_Weight'].mean()"
      ],
      "metadata": {
        "id": "RmwmuGyD_cGQ",
        "colab": {
          "base_uri": "https://localhost:8080/"
        },
        "outputId": "efcb694d-8584-4df7-eb74-8362fe28f914"
      },
      "execution_count": 27,
      "outputs": [
        {
          "output_type": "execute_result",
          "data": {
            "text/plain": [
              "12.857645184135976"
            ]
          },
          "metadata": {},
          "execution_count": 27
        }
      ]
    },
    {
      "cell_type": "code",
      "source": [
        "df_sp['Item_Weight'].median()"
      ],
      "metadata": {
        "colab": {
          "base_uri": "https://localhost:8080/"
        },
        "id": "4In84TURpWki",
        "outputId": "489dc35b-2391-400a-92b2-5367d5ace653"
      },
      "execution_count": 28,
      "outputs": [
        {
          "output_type": "execute_result",
          "data": {
            "text/plain": [
              "12.6"
            ]
          },
          "metadata": {},
          "execution_count": 28
        }
      ]
    },
    {
      "cell_type": "code",
      "source": [
        "df_sp['Item_Weight'].mode()"
      ],
      "metadata": {
        "colab": {
          "base_uri": "https://localhost:8080/"
        },
        "id": "CchZQojCpduu",
        "outputId": "5b9e645d-d347-4245-be7c-ddc52fac6928"
      },
      "execution_count": 29,
      "outputs": [
        {
          "output_type": "execute_result",
          "data": {
            "text/plain": [
              "0    12.15\n",
              "Name: Item_Weight, dtype: float64"
            ]
          },
          "metadata": {},
          "execution_count": 29
        }
      ]
    },
    {
      "cell_type": "markdown",
      "source": [
        "- This histogram shows that the majority of the Item wieights are around 12.5 grams.\n",
        "\n",
        "  - `Strategy #1`: To deal with the missing values, we could simply `drop` the missing values.\n",
        "  - `Strategy #2`: To deal with the missing values, we could fill them in with the `most frequent` for this feature.\n",
        "  - `Strategy #3`: To deal with the missing values, we could fill them in with the `median/mean value` for this feature.\n",
        "\n",
        "- To maintain as much data as possible, we will not drop the data. So we will choose either `Strategy #2` or `Strategy #3`. To make this choice we will do a bit more investigating."
      ],
      "metadata": {
        "id": "tZ1GUjzRpwXM"
      }
    },
    {
      "cell_type": "code",
      "source": [
        "# we will use the most frequent value, to fill in the missing values.\n",
        "Most_frequent = df_sp['Item_Weight'].mode()[0]"
      ],
      "metadata": {
        "id": "DCs-Q19qqUEJ"
      },
      "execution_count": 30,
      "outputs": []
    },
    {
      "cell_type": "markdown",
      "source": [
        "# **6) Confirm that there are no missing values after addressing them.**"
      ],
      "metadata": {
        "id": "1Gv72Z3esmsY"
      }
    },
    {
      "cell_type": "code",
      "source": [
        "df_sp.isnull().sum()"
      ],
      "metadata": {
        "colab": {
          "base_uri": "https://localhost:8080/"
        },
        "id": "M2KnSiifqprf",
        "outputId": "756af7dd-8fcd-44bd-eee0-e2b3ce2ccec9"
      },
      "execution_count": 31,
      "outputs": [
        {
          "output_type": "execute_result",
          "data": {
            "text/plain": [
              "Item_Identifier                 0\n",
              "Item_Weight                  1463\n",
              "Item_Fat_Content                0\n",
              "Item_Visibility                 0\n",
              "Item_Type                       0\n",
              "Item_MRP                        0\n",
              "Outlet_Identifier               0\n",
              "Outlet_Establishment_Year       0\n",
              "Outlet_Size                     0\n",
              "Outlet_Location_Type            0\n",
              "Outlet_Type                     0\n",
              "Item_Outlet_Sales               0\n",
              "dtype: int64"
            ]
          },
          "metadata": {},
          "execution_count": 31
        }
      ]
    },
    {
      "cell_type": "code",
      "source": [
        "print(df_sp['Item_Weight'].mean())\n",
        "print(df_sp['Item_Weight'].median())\n",
        "print(df_sp['Item_Weight'].mode())"
      ],
      "metadata": {
        "colab": {
          "base_uri": "https://localhost:8080/"
        },
        "id": "hri95iLhrVfj",
        "outputId": "971fafa3-b4c7-4302-af06-d8250870ca93"
      },
      "execution_count": 32,
      "outputs": [
        {
          "output_type": "stream",
          "name": "stdout",
          "text": [
            "12.857645184135976\n",
            "12.6\n",
            "0    12.15\n",
            "Name: Item_Weight, dtype: float64\n"
          ]
        }
      ]
    },
    {
      "cell_type": "markdown",
      "source": [
        "As the 'Item_Weight' is a float64, need to convert it to int64, but we can't due to the missing values"
      ],
      "metadata": {
        "id": "dLPupMghmyZX"
      }
    },
    {
      "cell_type": "code",
      "source": [
        "plt.figure(figsize=(5, 5))\n",
        "ax = sns.countplot(data = df_sp, x = 'Item_Weight');\n"
      ],
      "metadata": {
        "id": "v8DNDZfH7Tzr",
        "colab": {
          "base_uri": "https://localhost:8080/",
          "height": 492
        },
        "outputId": "ff15a7a4-80a8-4c01-ab4e-90a7d90ea829"
      },
      "execution_count": 33,
      "outputs": [
        {
          "output_type": "display_data",
          "data": {
            "text/plain": [
              "<Figure size 500x500 with 1 Axes>"
            ],
            "image/png": "[encoded data removed]"
          },
          "metadata": {}
        }
      ]
    },
    {
      "cell_type": "markdown",
      "source": [
        "# **7) Find and fix any inconsistent categories of data (for example: fix cat, Cat, and cats so that they are consistent).**"
      ],
      "metadata": {
        "id": "rqjQu-optJM5"
      }
    },
    {
      "cell_type": "code",
      "source": [
        "df_sp.select_dtypes(include='float64').dtypes"
      ],
      "metadata": {
        "colab": {
          "base_uri": "https://localhost:8080/"
        },
        "id": "IXSzgqOntU3p",
        "outputId": "69f45626-9b32-4e80-a855-480df2bfcf5a"
      },
      "execution_count": 34,
      "outputs": [
        {
          "output_type": "execute_result",
          "data": {
            "text/plain": [
              "Item_Weight          float64\n",
              "Item_Visibility      float64\n",
              "Item_MRP             float64\n",
              "Item_Outlet_Sales    float64\n",
              "dtype: object"
            ]
          },
          "metadata": {},
          "execution_count": 34
        }
      ]
    },
    {
      "cell_type": "code",
      "source": [
        "df_sp['Item_Outlet_Sales'].value_counts()"
      ],
      "metadata": {
        "colab": {
          "base_uri": "https://localhost:8080/"
        },
        "id": "QGfjLTgEvgHJ",
        "outputId": "88ad2875-d69f-4e62-922b-96c9492213d7"
      },
      "execution_count": 35,
      "outputs": [
        {
          "output_type": "execute_result",
          "data": {
            "text/plain": [
              "958.7520     17\n",
              "1342.2528    16\n",
              "703.0848     15\n",
              "1845.5976    15\n",
              "1278.3360    14\n",
              "             ..\n",
              "4124.6310     1\n",
              "6622.7126     1\n",
              "1614.5650     1\n",
              "5602.7070     1\n",
              "2778.3834     1\n",
              "Name: Item_Outlet_Sales, Length: 3493, dtype: int64"
            ]
          },
          "metadata": {},
          "execution_count": 35
        }
      ]
    },
    {
      "cell_type": "code",
      "source": [
        "df_sp.select_dtypes(include='int').dtypes"
      ],
      "metadata": {
        "colab": {
          "base_uri": "https://localhost:8080/"
        },
        "id": "J_vsRB6_tXOg",
        "outputId": "56f51845-97df-410e-9dfb-b478ee145999"
      },
      "execution_count": 36,
      "outputs": [
        {
          "output_type": "execute_result",
          "data": {
            "text/plain": [
              "Outlet_Establishment_Year    int64\n",
              "dtype: object"
            ]
          },
          "metadata": {},
          "execution_count": 36
        }
      ]
    },
    {
      "cell_type": "code",
      "source": [
        "df_sp.select_dtypes(include='object').dtypes"
      ],
      "metadata": {
        "colab": {
          "base_uri": "https://localhost:8080/"
        },
        "id": "jUi0WVMmtZVw",
        "outputId": "2929579a-5987-41d9-eb70-8f0eca10a1fe"
      },
      "execution_count": 37,
      "outputs": [
        {
          "output_type": "execute_result",
          "data": {
            "text/plain": [
              "Item_Identifier         object\n",
              "Item_Fat_Content        object\n",
              "Item_Type               object\n",
              "Outlet_Identifier       object\n",
              "Outlet_Size             object\n",
              "Outlet_Location_Type    object\n",
              "Outlet_Type             object\n",
              "dtype: object"
            ]
          },
          "metadata": {},
          "execution_count": 37
        }
      ]
    },
    {
      "cell_type": "markdown",
      "source": [],
      "metadata": {
        "id": "FSqWQjsftUBK"
      }
    },
    {
      "cell_type": "code",
      "source": [
        "df_sp.describe()['Item_Weight']"
      ],
      "metadata": {
        "id": "ojdfA50lCBiu",
        "colab": {
          "base_uri": "https://localhost:8080/"
        },
        "outputId": "e094e5a9-f7e5-4f5e-bb9f-3f3b42f063df"
      },
      "execution_count": 38,
      "outputs": [
        {
          "output_type": "execute_result",
          "data": {
            "text/plain": [
              "count    7060.000000\n",
              "mean       12.857645\n",
              "std         4.643456\n",
              "min         4.555000\n",
              "25%         8.773750\n",
              "50%        12.600000\n",
              "75%        16.850000\n",
              "max        21.350000\n",
              "Name: Item_Weight, dtype: float64"
            ]
          },
          "metadata": {},
          "execution_count": 38
        }
      ]
    },
    {
      "cell_type": "code",
      "source": [
        "from re import M\n",
        "#Will use the most frequent value, to fill in the missing values.\n",
        "Most_frequent = df_sp['Item_Weight'].mode()[0]\n",
        "Most_frequent"
      ],
      "metadata": {
        "id": "Yw7eT0jt81Lc",
        "colab": {
          "base_uri": "https://localhost:8080/"
        },
        "outputId": "2c66109b-33c9-4b42-ce89-00c1ea4991d2"
      },
      "execution_count": 39,
      "outputs": [
        {
          "output_type": "execute_result",
          "data": {
            "text/plain": [
              "12.15"
            ]
          },
          "metadata": {},
          "execution_count": 39
        }
      ]
    },
    {
      "cell_type": "code",
      "source": [
        "#fill in the missing values with the most frequent value\n",
        "#df_sp['Item_Weight'].fillna(Most_frequent, inplace = True)"
      ],
      "metadata": {
        "id": "cr-iyoOz9b42"
      },
      "execution_count": 40,
      "outputs": []
    },
    {
      "cell_type": "code",
      "source": [
        "df_sp.isnull().sum()"
      ],
      "metadata": {
        "id": "sUXw6uv99hPN",
        "colab": {
          "base_uri": "https://localhost:8080/"
        },
        "outputId": "76ee6f42-c202-495d-e92a-cd84d85036c7"
      },
      "execution_count": 41,
      "outputs": [
        {
          "output_type": "execute_result",
          "data": {
            "text/plain": [
              "Item_Identifier                 0\n",
              "Item_Weight                  1463\n",
              "Item_Fat_Content                0\n",
              "Item_Visibility                 0\n",
              "Item_Type                       0\n",
              "Item_MRP                        0\n",
              "Outlet_Identifier               0\n",
              "Outlet_Establishment_Year       0\n",
              "Outlet_Size                     0\n",
              "Outlet_Location_Type            0\n",
              "Outlet_Type                     0\n",
              "Item_Outlet_Sales               0\n",
              "dtype: int64"
            ]
          },
          "metadata": {},
          "execution_count": 41
        }
      ]
    },
    {
      "cell_type": "code",
      "source": [
        "#same approach will take place for outlet size.\n",
        "fig, ax = plt.subplots(figsize=(5,5))\n",
        "ax = sns.histplot(data = df_sp, x = 'Outlet_Size');"
      ],
      "metadata": {
        "id": "Kyx3YXBX-D4a",
        "colab": {
          "base_uri": "https://localhost:8080/",
          "height": 492
        },
        "outputId": "acb90c82-8c5c-43dd-b486-cb8302c6b4de"
      },
      "execution_count": 42,
      "outputs": [
        {
          "output_type": "display_data",
          "data": {
            "text/plain": [
              "<Figure size 500x500 with 1 Axes>"
            ],
            "image/png": "[encoded data removed]"
          },
          "metadata": {}
        }
      ]
    },
    {
      "cell_type": "code",
      "source": [
        "df_sp['Outlet_Size'].value_counts()"
      ],
      "metadata": {
        "id": "YQ4GwNvO_GVl",
        "colab": {
          "base_uri": "https://localhost:8080/"
        },
        "outputId": "a59cc13c-0e2f-4d29-f04c-511e86e9e4bb"
      },
      "execution_count": 43,
      "outputs": [
        {
          "output_type": "execute_result",
          "data": {
            "text/plain": [
              "Medium     2793\n",
              "Missing    2410\n",
              "Small      2388\n",
              "High        932\n",
              "Name: Outlet_Size, dtype: int64"
            ]
          },
          "metadata": {},
          "execution_count": 43
        }
      ]
    },
    {
      "cell_type": "code",
      "source": [
        "#count outlet size null values\n",
        "df_sp['Outlet_Size'].isna().sum()"
      ],
      "metadata": {
        "id": "9wTde5HTBgnk",
        "colab": {
          "base_uri": "https://localhost:8080/"
        },
        "outputId": "7ebe15f9-b57d-42fc-af83-100750d3e3ee"
      },
      "execution_count": 44,
      "outputs": [
        {
          "output_type": "execute_result",
          "data": {
            "text/plain": [
              "0"
            ]
          },
          "metadata": {},
          "execution_count": 44
        }
      ]
    },
    {
      "cell_type": "code",
      "source": [
        "#id data types in outlet size\n",
        "df_sp['Outlet_Size'].dtypes"
      ],
      "metadata": {
        "id": "onqelNyPEQe7",
        "colab": {
          "base_uri": "https://localhost:8080/"
        },
        "outputId": "d8281000-30a4-4478-a0f4-015c53d2ae44"
      },
      "execution_count": 45,
      "outputs": [
        {
          "output_type": "execute_result",
          "data": {
            "text/plain": [
              "dtype('O')"
            ]
          },
          "metadata": {},
          "execution_count": 45
        }
      ]
    },
    {
      "cell_type": "markdown",
      "source": [
        "As the data entered for outlet is an object, we will  fill in the missing values to Missing.\n",
        "\n",
        "We can also drop the missing values from the data set, however its best paractice to include it in the data so we are able to report on it to exco. Which can be addressed with those collecting the data."
      ],
      "metadata": {
        "id": "jMEOhCmfHiKP"
      }
    },
    {
      "cell_type": "code",
      "source": [
        "df_sp['Outlet_Size'] = df_sp['Outlet_Size'].fillna(\"Missing\")\n",
        "df_sp['Outlet_Size'].value_counts(dropna=False)"
      ],
      "metadata": {
        "id": "hHNSeSvdKkKt",
        "colab": {
          "base_uri": "https://localhost:8080/"
        },
        "outputId": "9c98e67b-c505-4a08-e454-04c36545bb61"
      },
      "execution_count": 46,
      "outputs": [
        {
          "output_type": "execute_result",
          "data": {
            "text/plain": [
              "Medium     2793\n",
              "Missing    2410\n",
              "Small      2388\n",
              "High        932\n",
              "Name: Outlet_Size, dtype: int64"
            ]
          },
          "metadata": {},
          "execution_count": 46
        }
      ]
    },
    {
      "cell_type": "markdown",
      "source": [
        "6) Confirm that there are no missing values after addressing them.\n"
      ],
      "metadata": {
        "id": "df0wOUnHol5v"
      }
    },
    {
      "cell_type": "code",
      "source": [
        "df_sp.isnull().sum()"
      ],
      "metadata": {
        "id": "3XgZ19P4MIde",
        "colab": {
          "base_uri": "https://localhost:8080/"
        },
        "outputId": "11f7c11e-9f40-4a14-eb37-3e5ef77d81d1"
      },
      "execution_count": 47,
      "outputs": [
        {
          "output_type": "execute_result",
          "data": {
            "text/plain": [
              "Item_Identifier                 0\n",
              "Item_Weight                  1463\n",
              "Item_Fat_Content                0\n",
              "Item_Visibility                 0\n",
              "Item_Type                       0\n",
              "Item_MRP                        0\n",
              "Outlet_Identifier               0\n",
              "Outlet_Establishment_Year       0\n",
              "Outlet_Size                     0\n",
              "Outlet_Location_Type            0\n",
              "Outlet_Type                     0\n",
              "Item_Outlet_Sales               0\n",
              "dtype: int64"
            ]
          },
          "metadata": {},
          "execution_count": 47
        }
      ]
    },
    {
      "cell_type": "markdown",
      "source": [
        "7) Find and fix any inconsistent categories of data (for example: fix cat, Cat, and cats so that they are consistent).\n"
      ],
      "metadata": {
        "id": "ml0a37RMooBi"
      }
    },
    {
      "cell_type": "code",
      "source": [
        "data_types = df_sp.dtypes\n",
        "str_cols = data_types[data_types=='object'].index\n",
        "str_cols"
      ],
      "metadata": {
        "id": "pPtJqJ9OQ9Vh",
        "colab": {
          "base_uri": "https://localhost:8080/"
        },
        "outputId": "e282fc10-08a8-4014-a08e-87767e738e95"
      },
      "execution_count": 48,
      "outputs": [
        {
          "output_type": "execute_result",
          "data": {
            "text/plain": [
              "Index(['Item_Identifier', 'Item_Fat_Content', 'Item_Type', 'Outlet_Identifier',\n",
              "       'Outlet_Size', 'Outlet_Location_Type', 'Outlet_Type'],\n",
              "      dtype='object')"
            ]
          },
          "metadata": {},
          "execution_count": 48
        }
      ]
    },
    {
      "cell_type": "markdown",
      "source": [
        "![Data Dictionary.png](data:image/png;base64,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)"
      ],
      "metadata": {
        "id": "X6rftPzd5GJ1"
      }
    },
    {
      "cell_type": "code",
      "source": [
        "pd.set_option('display.max_rows', None)\n",
        "for col in str_cols:\n",
        "    print(f'- {col}:')\n",
        "    print(df_sp[col].value_counts(dropna=False))\n",
        "    print(\"\\n\\n\")"
      ],
      "metadata": {
        "id": "VPByp70MRLX-",
        "colab": {
          "base_uri": "https://localhost:8080/"
        },
        "outputId": "52c35c65-ef80-4a2e-a0f1-47af09f48fe7"
      },
      "execution_count": 49,
      "outputs": [
        {
          "output_type": "stream",
          "name": "stdout",
          "text": [
            "- Item_Identifier:\n",
            "FDW13    10\n",
            "FDG33    10\n",
            "NCY18     9\n",
            "FDD38     9\n",
            "DRE49     9\n",
            "FDV60     9\n",
            "NCQ06     9\n",
            "FDF52     9\n",
            "FDX04     9\n",
            "NCJ30     9\n",
            "FDV38     9\n",
            "NCF42     9\n",
            "FDT07     9\n",
            "FDW26     9\n",
            "NCL31     9\n",
            "FDU12     9\n",
            "FDG09     9\n",
            "FDQ40     9\n",
            "FDX20     9\n",
            "NCI54     9\n",
            "FDX31     9\n",
            "FDP25     9\n",
            "FDW49     9\n",
            "FDF56     9\n",
            "FDO19     9\n",
            "DRN47     9\n",
            "NCB18     9\n",
            "FDE11     8\n",
            "NCX05     8\n",
            "FDQ39     8\n",
            "FDT55     8\n",
            "FDO32     8\n",
            "FDT40     8\n",
            "FDZ20     8\n",
            "FDH27     8\n",
            "FDY49     8\n",
            "FDS33     8\n",
            "FDR04     8\n",
            "FDR43     8\n",
            "FDR59     8\n",
            "FDJ55     8\n",
            "FDT24     8\n",
            "FDY55     8\n",
            "FDV09     8\n",
            "FDU23     8\n",
            "FDY47     8\n",
            "DRD25     8\n",
            "FDK58     8\n",
            "FDL58     8\n",
            "FDX58     8\n",
            "FDR44     8\n",
            "FDP28     8\n",
            "FDA39     8\n",
            "FDH28     8\n",
            "DRF27     8\n",
            "FDX21     8\n",
            "FDY56     8\n",
            "FDF05     8\n",
            "FDL20     8\n",
            "FDY03     8\n",
            "NCK05     8\n",
            "FDS55     8\n",
            "DRA59     8\n",
            "FDG24     8\n",
            "NCE54     8\n",
            "FDZ21     8\n",
            "FDA04     8\n",
            "FDW24     8\n",
            "FDT49     8\n",
            "DRF23     8\n",
            "FDD05     8\n",
            "FDH10     8\n",
            "FDX50     8\n",
            "FDT32     8\n",
            "FDK20     8\n",
            "FDU13     8\n",
            "FDN56     8\n",
            "FDZ26     8\n",
            "FDL34     8\n",
            "DRF01     8\n",
            "FDG38     8\n",
            "NCE31     8\n",
            "NCL53     8\n",
            "NCB31     8\n",
            "NCQ05     8\n",
            "FDT21     8\n",
            "NCV06     8\n",
            "DRJ24     8\n",
            "FDI41     8\n",
            "FDO52     8\n",
            "FDR23     8\n",
            "FDG57     8\n",
            "FDZ33     8\n",
            "DRF03     8\n",
            "FDA13     8\n",
            "FDF22     8\n",
            "DRP35     8\n",
            "NCV41     8\n",
            "FDF16     8\n",
            "FDB17     8\n",
            "NCK29     8\n",
            "FDJ44     8\n",
            "FDX45     8\n",
            "NCY29     8\n",
            "NCO54     8\n",
            "FDR52     8\n",
            "NCQ43     8\n",
            "FDR48     8\n",
            "FDA50     8\n",
            "NCM07     8\n",
            "FDW48     8\n",
            "NCI29     8\n",
            "FDP11     8\n",
            "FDH33     8\n",
            "FDF04     8\n",
            "FDD29     8\n",
            "FDR46     8\n",
            "DRK12     8\n",
            "FDA15     8\n",
            "FDJ58     8\n",
            "FDS52     8\n",
            "FDC14     8\n",
            "FDU19     8\n",
            "NCC18     8\n",
            "FDA44     8\n",
            "FDL10     8\n",
            "FDI22     8\n",
            "NCK53     8\n",
            "NCX29     8\n",
            "FDO37     8\n",
            "FDV20     8\n",
            "DRI03     8\n",
            "DRK35     8\n",
            "NCP05     8\n",
            "FDO10     8\n",
            "FDV26     8\n",
            "NCS53     8\n",
            "FDR21     7\n",
            "FDU34     7\n",
            "FDU46     7\n",
            "FDG34     7\n",
            "FDW28     7\n",
            "FDE16     7\n",
            "FDP60     7\n",
            "NCP18     7\n",
            "FDB15     7\n",
            "NCJ18     7\n",
            "NCR05     7\n",
            "FDV28     7\n",
            "FDK21     7\n",
            "NCX54     7\n",
            "FDV57     7\n",
            "FDA07     7\n",
            "FDW09     7\n",
            "DRM23     7\n",
            "FDK08     7\n",
            "NCZ30     7\n",
            "FDZ15     7\n",
            "FDK38     7\n",
            "NCS54     7\n",
            "FDU20     7\n",
            "FDA02     7\n",
            "FDH57     7\n",
            "FDF57     7\n",
            "FDU25     7\n",
            "FDV04     7\n",
            "DRD15     7\n",
            "FDY15     7\n",
            "FDB58     7\n",
            "FDI26     7\n",
            "FDI20     7\n",
            "FDH26     7\n",
            "NCW53     7\n",
            "FDZ58     7\n",
            "FDH50     7\n",
            "FDS01     7\n",
            "FDW34     7\n",
            "FDX26     7\n",
            "FDC29     7\n",
            "FDQ10     7\n",
            "DRI01     7\n",
            "FDY33     7\n",
            "DRE03     7\n",
            "NCN53     7\n",
            "NCK18     7\n",
            "FDJ22     7\n",
            "FDR37     7\n",
            "FDX47     7\n",
            "FDY13     7\n",
            "FDN04     7\n",
            "NCZ18     7\n",
            "FDW38     7\n",
            "FDU26     7\n",
            "NCX18     7\n",
            "FDL48     7\n",
            "DRF25     7\n",
            "FDR55     7\n",
            "FDL40     7\n",
            "FDH48     7\n",
            "FDR02     7\n",
            "FDW19     7\n",
            "FDC46     7\n",
            "FDD57     7\n",
            "FDL52     7\n",
            "FDH19     7\n",
            "NCE19     7\n",
            "FDB04     7\n",
            "FDW07     7\n",
            "FDC59     7\n",
            "FDS59     7\n",
            "NCL29     7\n",
            "FDC50     7\n",
            "DRA24     7\n",
            "NCS30     7\n",
            "FDT46     7\n",
            "FDS27     7\n",
            "FDJ57     7\n",
            "FDJ45     7\n",
            "FDY07     7\n",
            "FDX32     7\n",
            "FDR22     7\n",
            "NCY41     7\n",
            "FDQ08     7\n",
            "FDS47     7\n",
            "FDS19     7\n",
            "FDP49     7\n",
            "FDZ08     7\n",
            "FDR27     7\n",
            "DRI11     7\n",
            "NCG43     7\n",
            "NCI31     7\n",
            "FDU02     7\n",
            "FDM08     7\n",
            "DRM59     7\n",
            "NCH55     7\n",
            "DRD37     7\n",
            "NCV54     7\n",
            "FDK26     7\n",
            "FDY02     7\n",
            "FDN15     7\n",
            "FDO34     7\n",
            "FDY35     7\n",
            "FDN12     7\n",
            "FDS28     7\n",
            "FDP03     7\n",
            "NCP50     7\n",
            "NCQ38     7\n",
            "FDH21     7\n",
            "FDP10     7\n",
            "FDV01     7\n",
            "NCQ53     7\n",
            "FDH17     7\n",
            "NCZ06     7\n",
            "NCU17     7\n",
            "DRM37     7\n",
            "FDW12     7\n",
            "NCB30     7\n",
            "FDF21     7\n",
            "FDO22     7\n",
            "NCP06     7\n",
            "FDI57     7\n",
            "FDI45     7\n",
            "FDS32     7\n",
            "FDU38     7\n",
            "FDE17     7\n",
            "FDW50     7\n",
            "FDI14     7\n",
            "FDU21     7\n",
            "FDS16     7\n",
            "FDB34     7\n",
            "NCD54     7\n",
            "FDC41     7\n",
            "FDD39     7\n",
            "FDL13     7\n",
            "NCM06     7\n",
            "FDJ21     7\n",
            "FDM36     7\n",
            "FDO57     7\n",
            "FDE51     7\n",
            "FDP24     7\n",
            "FDL38     7\n",
            "DRL37     7\n",
            "FDV19     7\n",
            "FDN21     7\n",
            "NCE07     7\n",
            "FDR58     7\n",
            "FDZ52     7\n",
            "FDC17     7\n",
            "FDZ23     7\n",
            "FDL46     7\n",
            "FDG32     7\n",
            "FDT34     7\n",
            "FDH56     7\n",
            "NCH30     7\n",
            "FDO23     7\n",
            "FDP39     7\n",
            "FDD50     7\n",
            "NCX42     7\n",
            "NCM29     7\n",
            "FDO24     7\n",
            "FDG08     7\n",
            "FDD10     7\n",
            "FDM58     7\n",
            "FDI07     7\n",
            "FDY57     7\n",
            "FDB56     7\n",
            "FDP27     7\n",
            "FDI32     7\n",
            "FDS31     7\n",
            "FDM15     7\n",
            "FDN01     7\n",
            "NCM43     7\n",
            "DRD12     7\n",
            "FDQ26     7\n",
            "FDT03     7\n",
            "FDQ56     7\n",
            "FDK51     7\n",
            "FDL22     7\n",
            "DRI25     7\n",
            "FDK40     7\n",
            "FDJ48     7\n",
            "DRD24     7\n",
            "FDB36     7\n",
            "FDJ09     7\n",
            "FDB14     7\n",
            "FDI04     7\n",
            "DRL60     7\n",
            "FDV39     7\n",
            "FDW32     7\n",
            "FDQ34     7\n",
            "DRB48     7\n",
            "FDX40     7\n",
            "FDS40     7\n",
            "NCZ54     7\n",
            "DRJ11     7\n",
            "FDQ36     7\n",
            "FDC16     7\n",
            "FDL36     7\n",
            "FDG50     7\n",
            "DRK49     7\n",
            "FDS13     7\n",
            "FDT25     7\n",
            "FDN57     7\n",
            "DRL35     7\n",
            "DRE48     7\n",
            "DRG37     7\n",
            "FDV45     7\n",
            "FDV16     7\n",
            "FDS04     7\n",
            "FDT43     7\n",
            "FDH14     7\n",
            "FDS57     7\n",
            "NCM30     7\n",
            "FDA32     7\n",
            "FDD17     7\n",
            "FDT12     7\n",
            "FDR01     7\n",
            "NCO17     7\n",
            "NCL05     7\n",
            "DRL01     7\n",
            "NCO29     7\n",
            "FDR09     7\n",
            "FDI21     7\n",
            "FDR15     7\n",
            "FDX19     7\n",
            "FDA01     7\n",
            "NCN07     7\n",
            "FDK03     7\n",
            "FDR35     7\n",
            "NCA06     7\n",
            "FDM44     7\n",
            "FDY31     7\n",
            "DRQ35     7\n",
            "NCG07     7\n",
            "FDX36     7\n",
            "NCR53     7\n",
            "DRD13     7\n",
            "NCO05     7\n",
            "NCS06     7\n",
            "DRG23     7\n",
            "FDZ35     7\n",
            "FDO60     7\n",
            "NCL18     7\n",
            "FDN60     7\n",
            "DRC25     7\n",
            "FDS45     7\n",
            "FDU36     7\n",
            "FDY59     7\n",
            "FDE33     7\n",
            "NCH07     7\n",
            "NCK17     6\n",
            "FDG44     6\n",
            "FDD26     6\n",
            "NCU18     6\n",
            "FDD41     6\n",
            "NCK07     6\n",
            "NCN43     6\n",
            "FDW47     6\n",
            "FDH38     6\n",
            "FDK02     6\n",
            "NCU42     6\n",
            "FDD11     6\n",
            "FDZ56     6\n",
            "FDH20     6\n",
            "FDS37     6\n",
            "FDT36     6\n",
            "FDO25     6\n",
            "FDY48     6\n",
            "FDF26     6\n",
            "FDI52     6\n",
            "FDO39     6\n",
            "NCF30     6\n",
            "FDS35     6\n",
            "FDW56     6\n",
            "FDN02     6\n",
            "FDV46     6\n",
            "DRB25     6\n",
            "FDJ04     6\n",
            "FDZ44     6\n",
            "NCO06     6\n",
            "FDK34     6\n",
            "FDO45     6\n",
            "DRE27     6\n",
            "FDT10     6\n",
            "FDF08     6\n",
            "DRJ39     6\n",
            "FDV48     6\n",
            "DRK11     6\n",
            "FDE46     6\n",
            "NCO42     6\n",
            "FDD04     6\n",
            "FDF34     6\n",
            "FDH58     6\n",
            "DRI23     6\n",
            "FDH41     6\n",
            "FDI34     6\n",
            "NCA05     6\n",
            "FDD56     6\n",
            "FDX16     6\n",
            "FDQ13     6\n",
            "FDZ09     6\n",
            "FDJ60     6\n",
            "FDX03     6\n",
            "FDZ12     6\n",
            "FDK55     6\n",
            "FDQ31     6\n",
            "NCC07     6\n",
            "DRD60     6\n",
            "FDY50     6\n",
            "FDB49     6\n",
            "FDR19     6\n",
            "FDD51     6\n",
            "DRE12     6\n",
            "FDU40     6\n",
            "FDW46     6\n",
            "FDZ25     6\n",
            "FDA21     6\n",
            "NCS29     6\n",
            "DRO47     6\n",
            "DRG15     6\n",
            "FDZ39     6\n",
            "FDL24     6\n",
            "FDH60     6\n",
            "FDQ21     6\n",
            "NCN14     6\n",
            "DRN35     6\n",
            "NCL41     6\n",
            "FDX11     6\n",
            "FDP19     6\n",
            "NCJ05     6\n",
            "FDT50     6\n",
            "FDC34     6\n",
            "FDO12     6\n",
            "FDQ15     6\n",
            "FDU24     6\n",
            "FDN23     6\n",
            "FDK09     6\n",
            "FDS44     6\n",
            "NCR30     6\n",
            "FDS36     6\n",
            "FDT11     6\n",
            "FDG31     6\n",
            "NCG30     6\n",
            "FDQ52     6\n",
            "FDU33     6\n",
            "FDE59     6\n",
            "FDT26     6\n",
            "FDZ48     6\n",
            "NCZ17     6\n",
            "FDI60     6\n",
            "FDP44     6\n",
            "FDU07     6\n",
            "FDU51     6\n",
            "FDS11     6\n",
            "DRE15     6\n",
            "FDD52     6\n",
            "FDH05     6\n",
            "NCI42     6\n",
            "FDR32     6\n",
            "NCN30     6\n",
            "FDK33     6\n",
            "FDX37     6\n",
            "NCD18     6\n",
            "FDZ45     6\n",
            "DRK13     6\n",
            "FDB23     6\n",
            "FDO50     6\n",
            "FDT58     6\n",
            "FDN46     6\n",
            "FDE29     6\n",
            "FDY04     6\n",
            "FDQ32     6\n",
            "FDC45     6\n",
            "FDL45     6\n",
            "FDN38     6\n",
            "FDL57     6\n",
            "FDI56     6\n",
            "NCU54     6\n",
            "FDV47     6\n",
            "FDG56     6\n",
            "FDZ04     6\n",
            "FDL09     6\n",
            "FDX43     6\n",
            "FDB08     6\n",
            "FDK52     6\n",
            "NCO02     6\n",
            "FDO20     6\n",
            "FDD47     6\n",
            "FDF12     6\n",
            "FDW02     6\n",
            "FDO46     6\n",
            "FDZ49     6\n",
            "FDM04     6\n",
            "FDX56     6\n",
            "NCX30     6\n",
            "DRI47     6\n",
            "DRF37     6\n",
            "FDA20     6\n",
            "FDB60     6\n",
            "FDI15     6\n",
            "FDI50     6\n",
            "FDU39     6\n",
            "FDZ59     6\n",
            "DRN37     6\n",
            "FDG26     6\n",
            "NCO41     6\n",
            "DRH36     6\n",
            "FDG47     6\n",
            "FDY52     6\n",
            "FDA49     6\n",
            "FDQ58     6\n",
            "NCM05     6\n",
            "FDG16     6\n",
            "FDO40     6\n",
            "DRF13     6\n",
            "FDK25     6\n",
            "FDC20     6\n",
            "FDB32     6\n",
            "FDL33     6\n",
            "FDC44     6\n",
            "FDC47     6\n",
            "FDQ46     6\n",
            "NCB43     6\n",
            "FDV22     6\n",
            "FDD21     6\n",
            "FDH47     6\n",
            "FDL39     6\n",
            "FDN34     6\n",
            "NCE30     6\n",
            "FDE41     6\n",
            "FDS24     6\n",
            "FDB40     6\n",
            "FDO09     6\n",
            "DRC01     6\n",
            "DRJ01     6\n",
            "NCP29     6\n",
            "FDI08     6\n",
            "FDD09     6\n",
            "FDX01     6\n",
            "FDJ53     6\n",
            "FDO58     6\n",
            "NCC54     6\n",
            "NCH18     6\n",
            "FDT48     6\n",
            "FDH44     6\n",
            "FDD14     6\n",
            "NCN19     6\n",
            "NCI30     6\n",
            "FDR33     6\n",
            "NCA53     6\n",
            "FDW45     6\n",
            "NCP55     6\n",
            "FDS56     6\n",
            "DRL49     6\n",
            "NCN05     6\n",
            "FDY36     6\n",
            "FDG46     6\n",
            "FDJ10     6\n",
            "FDV44     6\n",
            "FDW59     6\n",
            "FDM51     6\n",
            "NCT30     6\n",
            "FDK45     6\n",
            "FDA28     6\n",
            "FDY10     6\n",
            "NCH43     6\n",
            "FDS23     6\n",
            "FDD46     6\n",
            "FDG10     6\n",
            "NCT42     6\n",
            "FDU15     6\n",
            "FDP33     6\n",
            "FDL08     6\n",
            "DRA12     6\n",
            "DRM47     6\n",
            "NCR38     6\n",
            "FDZ16     6\n",
            "FDN39     6\n",
            "NCF31     6\n",
            "FDU44     6\n",
            "FDE34     6\n",
            "FDL43     6\n",
            "FDX34     6\n",
            "FDH53     6\n",
            "FDR12     6\n",
            "FDQ09     6\n",
            "FDW39     6\n",
            "FDC53     6\n",
            "FDV32     6\n",
            "FDT08     6\n",
            "FDJ34     6\n",
            "FDS12     6\n",
            "FDE24     6\n",
            "FDR08     6\n",
            "FDL56     6\n",
            "NCQ50     6\n",
            "FDH40     6\n",
            "FDF09     6\n",
            "FDS15     6\n",
            "NCQ42     6\n",
            "FDE10     6\n",
            "FDX15     6\n",
            "FDD44     6\n",
            "FDG45     6\n",
            "FDX33     6\n",
            "FDH45     6\n",
            "FDC35     6\n",
            "FDX46     6\n",
            "FDJ38     6\n",
            "NCB42     6\n",
            "FDK14     6\n",
            "FDC08     6\n",
            "FDQ48     6\n",
            "FDY21     6\n",
            "FDX60     6\n",
            "FDD58     6\n",
            "DRE60     6\n",
            "FDG29     6\n",
            "FDJ41     6\n",
            "FDK24     6\n",
            "FDD08     6\n",
            "FDF41     6\n",
            "FDF20     6\n",
            "FDN58     6\n",
            "FDQ45     6\n",
            "DRK59     6\n",
            "FDV49     6\n",
            "DRH39     6\n",
            "FDX23     6\n",
            "FDD40     6\n",
            "FDG59     6\n",
            "FDV51     6\n",
            "FDB29     6\n",
            "NCK19     6\n",
            "FDA46     6\n",
            "FDC02     6\n",
            "FDN09     6\n",
            "FDB45     6\n",
            "NCK54     6\n",
            "NCR17     6\n",
            "FDM25     6\n",
            "FDK41     6\n",
            "FDT09     6\n",
            "FDT28     6\n",
            "FDG12     6\n",
            "DRJ59     6\n",
            "FDM28     6\n",
            "FDT31     6\n",
            "NCO30     6\n",
            "FDW44     6\n",
            "NCR41     6\n",
            "DRI37     6\n",
            "FDG53     6\n",
            "FDZ10     6\n",
            "FDV37     6\n",
            "FDR60     6\n",
            "FDZ55     6\n",
            "NCF07     6\n",
            "DRZ11     6\n",
            "FDA47     6\n",
            "DRI51     6\n",
            "FDM01     6\n",
            "FDK43     6\n",
            "DRC27     6\n",
            "DRJ13     6\n",
            "FDB35     6\n",
            "DRY23     6\n",
            "FDX57     6\n",
            "FDX44     6\n",
            "FDA10     6\n",
            "NCI43     6\n",
            "DRH25     6\n",
            "NCI17     6\n",
            "NCU05     6\n",
            "FDC33     6\n",
            "NCB19     6\n",
            "FDS48     6\n",
            "FDU32     6\n",
            "FDO08     6\n",
            "DRH37     6\n",
            "FDB27     6\n",
            "FDK15     6\n",
            "FDS03     6\n",
            "FDB51     6\n",
            "FDY28     6\n",
            "FDX07     6\n",
            "FDE05     6\n",
            "NCI18     6\n",
            "FDN13     6\n",
            "FDT57     6\n",
            "NCO26     6\n",
            "DRF49     6\n",
            "FDI28     6\n",
            "FDW51     6\n",
            "NCD19     6\n",
            "FDG21     6\n",
            "NCH54     6\n",
            "FDR26     6\n",
            "FDW35     6\n",
            "FDA23     6\n",
            "FDP22     6\n",
            "FDL04     6\n",
            "FDE04     6\n",
            "NCW29     6\n",
            "FDV15     6\n",
            "FDH35     6\n",
            "FDW27     6\n",
            "FDA08     6\n",
            "FDH32     6\n",
            "FDE36     6\n",
            "FDR20     6\n",
            "FDI16     6\n",
            "FDA03     6\n",
            "FDI19     6\n",
            "FDY45     6\n",
            "FDY40     6\n",
            "FDF24     6\n",
            "FDL51     6\n",
            "NCP30     6\n",
            "NCJ29     6\n",
            "DRF36     6\n",
            "NCX41     6\n",
            "FDT59     6\n",
            "FDB41     6\n",
            "FDE32     6\n",
            "FDW23     6\n",
            "FDO15     6\n",
            "FDT20     6\n",
            "FDU11     6\n",
            "FDX09     6\n",
            "FDZ38     6\n",
            "DRH03     6\n",
            "NCJ42     6\n",
            "NCF18     5\n",
            "NCV53     5\n",
            "FDG02     5\n",
            "FDB53     5\n",
            "FDB02     5\n",
            "FDN24     5\n",
            "FDP45     5\n",
            "FDV59     5\n",
            "DRJ49     5\n",
            "FDX55     5\n",
            "FDX24     5\n",
            "FDP26     5\n",
            "FDG35     5\n",
            "FDK04     5\n",
            "FDQ07     5\n",
            "FDR34     5\n",
            "FDO01     5\n",
            "NCO43     5\n",
            "FDQ03     5\n",
            "FDB12     5\n",
            "DRB13     5\n",
            "FDN48     5\n",
            "FDY34     5\n",
            "FDP52     5\n",
            "FDQ49     5\n",
            "FDA25     5\n",
            "FDW55     5\n",
            "FDM13     5\n",
            "FDN28     5\n",
            "FDV52     5\n",
            "FDV25     5\n",
            "FDJ56     5\n",
            "FDZ07     5\n",
            "FDB52     5\n",
            "NCJ17     5\n",
            "FDT22     5\n",
            "FDJ26     5\n",
            "FDL32     5\n",
            "FDO21     5\n",
            "NCG18     5\n",
            "NCA41     5\n",
            "FDO31     5\n",
            "FDP57     5\n",
            "DRH51     5\n",
            "FDF45     5\n",
            "FDT27     5\n",
            "FDU57     5\n",
            "FDP23     5\n",
            "FDR24     5\n",
            "FDR25     5\n",
            "FDU58     5\n",
            "FDG20     5\n",
            "DRG13     5\n",
            "FDZ36     5\n",
            "FDM27     5\n",
            "NCA29     5\n",
            "FDJ36     5\n",
            "FDP59     5\n",
            "NCT06     5\n",
            "FDI33     5\n",
            "FDY44     5\n",
            "FDV02     5\n",
            "FDE20     5\n",
            "DRG27     5\n",
            "NCT54     5\n",
            "FDZ40     5\n",
            "DRL47     5\n",
            "NCY06     5\n",
            "FDP07     5\n",
            "NCX06     5\n",
            "FDK16     5\n",
            "NCN55     5\n",
            "FDZ60     5\n",
            "FDE40     5\n",
            "FDX49     5\n",
            "FDK27     5\n",
            "NCM53     5\n",
            "FDP31     5\n",
            "FDI24     5\n",
            "FDM10     5\n",
            "FDH02     5\n",
            "FDG52     5\n",
            "FDP34     5\n",
            "FDW21     5\n",
            "NCD42     5\n",
            "FDQ16     5\n",
            "FDW11     5\n",
            "NCA17     5\n",
            "NCT17     5\n",
            "FDQ12     5\n",
            "FDY24     5\n",
            "FDS49     5\n",
            "FDU50     5\n",
            "FDQ25     5\n",
            "FDZ43     5\n",
            "FDE26     5\n",
            "FDD02     5\n",
            "NCC30     5\n",
            "FDP16     5\n",
            "FDA11     5\n",
            "FDB11     5\n",
            "FDP56     5\n",
            "FDS34     5\n",
            "NCB06     5\n",
            "FDA45     5\n",
            "DRJ23     5\n",
            "FDT56     5\n",
            "FDB20     5\n",
            "FDH34     5\n",
            "FDF35     5\n",
            "DRD27     5\n",
            "FDT60     5\n",
            "FDP37     5\n",
            "FDS43     5\n",
            "NCA30     5\n",
            "FDF29     5\n",
            "FDY25     5\n",
            "FDX51     5\n",
            "FDT16     5\n",
            "FDK44     5\n",
            "FDR47     5\n",
            "NCF19     5\n",
            "NCN42     5\n",
            "NCM17     5\n",
            "FDW57     5\n",
            "DRD01     5\n",
            "NCW54     5\n",
            "FDY16     5\n",
            "FDJ08     5\n",
            "FDT39     5\n",
            "FDE08     5\n",
            "FDC28     5\n",
            "FDB57     5\n",
            "FDC04     5\n",
            "FDV03     5\n",
            "FDK36     5\n",
            "FDU04     5\n",
            "FDE09     5\n",
            "FDF33     5\n",
            "FDQ11     5\n",
            "FDI40     5\n",
            "NCQ54     5\n",
            "FDR31     5\n",
            "FDB21     5\n",
            "FDL03     5\n",
            "FDM50     5\n",
            "FDF46     5\n",
            "DRK47     5\n",
            "NCI55     5\n",
            "FDA33     5\n",
            "FDN25     5\n",
            "FDP09     5\n",
            "FDL16     5\n",
            "NCS18     5\n",
            "FDX25     5\n",
            "FDV50     5\n",
            "FDG60     5\n",
            "FDJ16     5\n",
            "NCR18     5\n",
            "DRJ51     5\n",
            "FDD35     5\n",
            "DRG48     5\n",
            "FDN08     5\n",
            "FDQ44     5\n",
            "FDD03     5\n",
            "NCF43     5\n",
            "DRK01     5\n",
            "FDS25     5\n",
            "FDH09     5\n",
            "FDY38     5\n",
            "NCR54     5\n",
            "FDE23     5\n",
            "FDD53     5\n",
            "NCH29     5\n",
            "FDW25     5\n",
            "FDS26     5\n",
            "FDL21     5\n",
            "NCY17     5\n",
            "NCM26     5\n",
            "DRG49     5\n",
            "FDI46     5\n",
            "FDJ15     5\n",
            "NCD06     5\n",
            "FDE22     5\n",
            "FDB26     5\n",
            "FDM45     5\n",
            "NCI06     5\n",
            "FDU37     5\n",
            "DRG03     5\n",
            "FDV10     5\n",
            "FDQ47     5\n",
            "NCW06     5\n",
            "FDO16     5\n",
            "NCY05     5\n",
            "DRE25     5\n",
            "NCJ31     5\n",
            "FDC26     5\n",
            "NCO18     5\n",
            "FDP48     5\n",
            "FDB03     5\n",
            "NCC43     5\n",
            "FDU22     5\n",
            "FDR28     5\n",
            "FDR36     5\n",
            "FDB39     5\n",
            "DRK37     5\n",
            "FDX52     5\n",
            "NCL55     5\n",
            "FDK48     5\n",
            "FDR14     5\n",
            "FDX27     5\n",
            "NCN26     5\n",
            "FDO38     5\n",
            "FDJ20     5\n",
            "DRH13     5\n",
            "NCJ54     5\n",
            "NCM54     5\n",
            "FDK10     5\n",
            "FDV23     5\n",
            "FDB22     5\n",
            "NCN18     5\n",
            "NCE06     5\n",
            "NCY53     5\n",
            "FDN16     5\n",
            "NCH42     5\n",
            "NCW42     5\n",
            "DRC36     5\n",
            "FDC21     5\n",
            "FDR49     5\n",
            "FDY12     5\n",
            "NCO14     5\n",
            "DRH23     5\n",
            "NCL19     5\n",
            "DRH01     5\n",
            "DRG01     5\n",
            "FDB38     5\n",
            "NCQ30     5\n",
            "NCS17     5\n",
            "FDM02     5\n",
            "FDT15     5\n",
            "NCJ19     5\n",
            "FDZ22     5\n",
            "FDX59     5\n",
            "NCQ41     5\n",
            "NCW41     5\n",
            "FDB09     5\n",
            "DRG36     5\n",
            "NCD31     5\n",
            "NCV29     5\n",
            "NCV05     5\n",
            "NCP17     5\n",
            "DRM49     5\n",
            "FDX39     5\n",
            "DRI39     5\n",
            "FDE35     5\n",
            "NCN29     5\n",
            "FDZ28     5\n",
            "FDO13     5\n",
            "FDA09     5\n",
            "FDQ51     5\n",
            "FDE14     5\n",
            "NCK06     5\n",
            "FDO36     5\n",
            "NCN41     5\n",
            "FDQ23     5\n",
            "FDE02     5\n",
            "FDB59     5\n",
            "FDH31     5\n",
            "FDY26     5\n",
            "DRE13     5\n",
            "DRK39     5\n",
            "FDX13     5\n",
            "FDC10     5\n",
            "FDV07     5\n",
            "NCU30     5\n",
            "NCE42     5\n",
            "NCV30     5\n",
            "FDM46     5\n",
            "FDE45     5\n",
            "FDF32     5\n",
            "DRL11     5\n",
            "FDQ24     5\n",
            "FDU14     5\n",
            "NCZ41     5\n",
            "FDC09     5\n",
            "FDC58     5\n",
            "FDM56     5\n",
            "FDZ01     5\n",
            "DRG51     5\n",
            "FDS58     5\n",
            "FDY51     5\n",
            "FDS46     5\n",
            "FDY39     5\n",
            "FDA52     5\n",
            "FDU28     5\n",
            "FDN49     5\n",
            "NCN06     5\n",
            "FDY27     5\n",
            "FDX35     5\n",
            "FDA34     5\n",
            "FDS21     5\n",
            "DRK23     5\n",
            "FDO27     5\n",
            "FDB16     5\n",
            "FDF44     5\n",
            "FDZ47     5\n",
            "NCO55     5\n",
            "NCH06     5\n",
            "NCK30     5\n",
            "FDZ27     5\n",
            "DRE37     5\n",
            "FDN32     5\n",
            "FDC32     5\n",
            "DRG11     5\n",
            "FDL12     5\n",
            "DRZ24     5\n",
            "NCE18     5\n",
            "FDA27     5\n",
            "NCE43     5\n",
            "FDL44     5\n",
            "FDQ01     5\n",
            "FDN03     5\n",
            "FDM03     5\n",
            "FDQ20     5\n",
            "FDZ03     5\n",
            "FDT23     5\n",
            "FDO28     5\n",
            "FDB50     5\n",
            "FDH16     5\n",
            "FDC51     5\n",
            "FDK28     5\n",
            "NCN54     5\n",
            "FDE28     5\n",
            "FDZ51     5\n",
            "FDT04     5\n",
            "FDT52     5\n",
            "FDH24     5\n",
            "FDB37     5\n",
            "FDI38     5\n",
            "NCA42     5\n",
            "FDX38     5\n",
            "FDM20     5\n",
            "FDT13     5\n",
            "FDA56     5\n",
            "FDA43     5\n",
            "FDT14     5\n",
            "FDD34     5\n",
            "NCZ53     5\n",
            "FDQ59     5\n",
            "FDV40     5\n",
            "FDU27     5\n",
            "FDZ57     5\n",
            "FDB33     5\n",
            "FDS02     5\n",
            "FDT37     5\n",
            "FDJ52     5\n",
            "FDX08     5\n",
            "FDN10     5\n",
            "FDY37     5\n",
            "FDP08     5\n",
            "FDA19     5\n",
            "NCZ42     5\n",
            "FDM21     5\n",
            "NCP42     5\n",
            "FDM60     5\n",
            "FDO56     5\n",
            "FDT19     5\n",
            "FDP38     5\n",
            "NCT41     5\n",
            "FDY20     5\n",
            "FDA26     5\n",
            "FDM39     5\n",
            "FDE53     5\n",
            "FDA40     5\n",
            "FDC22     5\n",
            "FDV34     5\n",
            "FDC40     5\n",
            "NCG42     5\n",
            "FDZ31     5\n",
            "FDE44     5\n",
            "FDM24     5\n",
            "FDP12     5\n",
            "FDR10     5\n",
            "FDB44     5\n",
            "FDQ37     5\n",
            "FDF11     5\n",
            "FDW31     5\n",
            "FDY11     5\n",
            "FDP40     5\n",
            "FDP04     5\n",
            "FDQ14     5\n",
            "NCP43     5\n",
            "FDY60     5\n",
            "DRN36     5\n",
            "FDK22     5\n",
            "FDC38     4\n",
            "NCO53     4\n",
            "FDK50     4\n",
            "NCU53     4\n",
            "NCC31     4\n",
            "FDD28     4\n",
            "FDC48     4\n",
            "FDP46     4\n",
            "NCN17     4\n",
            "FDD33     4\n",
            "NCP53     4\n",
            "FDP21     4\n",
            "NCQ17     4\n",
            "FDB28     4\n",
            "FDO03     4\n",
            "FDP58     4\n",
            "NCA18     4\n",
            "FDY01     4\n",
            "FDN40     4\n",
            "FDU35     4\n",
            "DRO59     4\n",
            "NCD55     4\n",
            "FDB46     4\n",
            "FDY14     4\n",
            "FDW33     4\n",
            "NCL07     4\n",
            "FDV36     4\n",
            "FDR11     4\n",
            "FDW16     4\n",
            "FDF59     4\n",
            "FDG58     4\n",
            "FDT51     4\n",
            "FDU31     4\n",
            "FDI58     4\n",
            "FDF39     4\n",
            "NCS05     4\n",
            "FDA35     4\n",
            "DRB24     4\n",
            "FDA55     4\n",
            "FDN27     4\n",
            "NCC19     4\n",
            "NCZ29     4\n",
            "NCQ18     4\n",
            "FDW20     4\n",
            "FDJ46     4\n",
            "FDX48     4\n",
            "DRH11     4\n",
            "FDL50     4\n",
            "FDX10     4\n",
            "NCY42     4\n",
            "FDJ12     4\n",
            "FDX12     4\n",
            "FDN33     4\n",
            "FDV11     4\n",
            "FDZ02     4\n",
            "FDD45     4\n",
            "FDS60     4\n",
            "FDS07     4\n",
            "FDH04     4\n",
            "NCL17     4\n",
            "FDS20     4\n",
            "FDT02     4\n",
            "FDN45     4\n",
            "NCR50     4\n",
            "DRI49     4\n",
            "NCJ43     4\n",
            "FDK56     4\n",
            "NCG54     4\n",
            "FDG04     4\n",
            "FDE57     4\n",
            "FDN22     4\n",
            "FDV21     4\n",
            "FDM34     4\n",
            "NCJ06     4\n",
            "FDG05     4\n",
            "FDZ46     4\n",
            "FDJ32     4\n",
            "FDW52     4\n",
            "FDS14     4\n",
            "NCR29     4\n",
            "FDI44     4\n",
            "FDC05     4\n",
            "NCS42     4\n",
            "NCT29     4\n",
            "DRM48     4\n",
            "FDO48     4\n",
            "NCP54     4\n",
            "FDJ33     4\n",
            "NCP02     4\n",
            "DRO35     4\n",
            "DRL23     4\n",
            "FDF53     4\n",
            "NCK42     4\n",
            "NCA54     4\n",
            "FDT01     4\n",
            "FDD16     4\n",
            "FDO04     4\n",
            "FDW08     4\n",
            "FDL02     4\n",
            "FDS10     4\n",
            "FDE58     4\n",
            "FDL14     4\n",
            "FDJ14     4\n",
            "FDU55     4\n",
            "FDV24     4\n",
            "NCT18     4\n",
            "FDE56     4\n",
            "FDT45     4\n",
            "FDA36     4\n",
            "FDC03     4\n",
            "DRH49     4\n",
            "FDN31     4\n",
            "FDU59     4\n",
            "FDK60     4\n",
            "FDV33     4\n",
            "FDA16     4\n",
            "NCY30     4\n",
            "FDL27     4\n",
            "FDM57     4\n",
            "FDO49     4\n",
            "FDV12     4\n",
            "NCM41     4\n",
            "FDS50     4\n",
            "FDU01     4\n",
            "FDF10     4\n",
            "FDO44     4\n",
            "DRI13     4\n",
            "FDW03     4\n",
            "NCL30     4\n",
            "FDU08     4\n",
            "FDW43     4\n",
            "FDX02     4\n",
            "FDH12     4\n",
            "FDS09     4\n",
            "DRH15     4\n",
            "FDX22     4\n",
            "NCG06     4\n",
            "FDN44     4\n",
            "FDG17     4\n",
            "NCT05     4\n",
            "NCC42     4\n",
            "FDZ13     4\n",
            "FDC39     4\n",
            "FDR51     4\n",
            "FDP13     4\n",
            "DRN11     4\n",
            "FDU45     4\n",
            "FDC11     4\n",
            "NCR06     4\n",
            "DRN59     4\n",
            "NCV17     4\n",
            "NCB55     4\n",
            "FDI27     4\n",
            "FDC15     4\n",
            "NCC06     4\n",
            "FDM32     4\n",
            "FDD59     4\n",
            "DRC13     4\n",
            "FDQ55     4\n",
            "NCW17     4\n",
            "FDC52     4\n",
            "NCO07     4\n",
            "NCD43     4\n",
            "FDI02     4\n",
            "DRF60     4\n",
            "FDY08     4\n",
            "NCS38     4\n",
            "FDG41     4\n",
            "FDC60     4\n",
            "FDV35     4\n",
            "FDY19     4\n",
            "NCD07     4\n",
            "FDF40     4\n",
            "DRJ47     4\n",
            "FDG22     4\n",
            "FDU52     4\n",
            "FDQ19     4\n",
            "FDF14     4\n",
            "FDM52     4\n",
            "FDG40     4\n",
            "NCU41     4\n",
            "FDW40     4\n",
            "FDJ07     4\n",
            "DRJ25     4\n",
            "FDQ27     4\n",
            "FDQ33     4\n",
            "FDI12     4\n",
            "FDJ02     4\n",
            "FDC57     4\n",
            "FDQ28     4\n",
            "FDU49     4\n",
            "FDM22     4\n",
            "FDW01     4\n",
            "FDE47     4\n",
            "FDR07     4\n",
            "DRC12     4\n",
            "FDA31     4\n",
            "NCB54     4\n",
            "NCM19     4\n",
            "FDI09     4\n",
            "FDQ57     4\n",
            "FDM09     4\n",
            "FDR45     4\n",
            "FDP20     4\n",
            "FDD36     4\n",
            "DRD49     4\n",
            "FDW36     4\n",
            "FDF47     4\n",
            "FDV08     4\n",
            "DRP47     4\n",
            "NCF54     4\n",
            "FDL26     4\n",
            "FDI48     4\n",
            "DRM35     4\n",
            "NCM31     4\n",
            "FDJ27     4\n",
            "FDZ32     4\n",
            "FDU10     4\n",
            "FDX14     4\n",
            "FDP32     4\n",
            "FDY22     4\n",
            "FDR56     4\n",
            "DRF15     4\n",
            "FDJ03     4\n",
            "NCW18     4\n",
            "FDA38     4\n",
            "FDM33     4\n",
            "NCP41     4\n",
            "FDB05     4\n",
            "NCY54     4\n",
            "FDH08     4\n",
            "FDO11     4\n",
            "FDJ28     4\n",
            "FDV13     4\n",
            "NCL06     3\n",
            "NCM55     3\n",
            "FDK32     3\n",
            "FDV43     3\n",
            "FDE50     3\n",
            "FDH46     3\n",
            "FDD20     3\n",
            "FDZ14     3\n",
            "FDL28     3\n",
            "NCU06     3\n",
            "FDW14     3\n",
            "FDT47     3\n",
            "FDN20     3\n",
            "NCT53     3\n",
            "DRC49     3\n",
            "FDS39     3\n",
            "NCU29     3\n",
            "NCP14     3\n",
            "FDY09     3\n",
            "FDM14     3\n",
            "FDI05     3\n",
            "FDS22     3\n",
            "FDN51     3\n",
            "FDV56     3\n",
            "NCX17     3\n",
            "FDU16     3\n",
            "NCF55     3\n",
            "FDA14     3\n",
            "NCQ02     3\n",
            "DRM11     3\n",
            "FDV58     3\n",
            "FDL25     3\n",
            "FDV55     3\n",
            "FDP01     3\n",
            "FDG14     3\n",
            "FDQ22     3\n",
            "FDD23     3\n",
            "FDC37     3\n",
            "DRJ35     3\n",
            "FDJ40     3\n",
            "FDS51     3\n",
            "DRG39     3\n",
            "FDK46     3\n",
            "FDW22     3\n",
            "FDU47     3\n",
            "FDA51     3\n",
            "FDP36     3\n",
            "FDR16     3\n",
            "FDV27     3\n",
            "FDT38     3\n",
            "FDW15     3\n",
            "FDL15     3\n",
            "NCL42     3\n",
            "FDY58     3\n",
            "DRF51     3\n",
            "NCK31     3\n",
            "FDC56     3\n",
            "FDS08     3\n",
            "FDY32     3\n",
            "FDF02     3\n",
            "FDP51     3\n",
            "FDO51     3\n",
            "FDI53     3\n",
            "FDH52     3\n",
            "FDA57     3\n",
            "FDX28     3\n",
            "FDJ50     3\n",
            "FDQ04     3\n",
            "NCM18     3\n",
            "NCB07     3\n",
            "FDW60     3\n",
            "FDF28     3\n",
            "FDU48     3\n",
            "FDZ34     3\n",
            "FDZ19     3\n",
            "NCE55     3\n",
            "FDU03     3\n",
            "FDW04     3\n",
            "NCQ29     3\n",
            "FDZ37     3\n",
            "NCF06     3\n",
            "FDF58     3\n",
            "FDA37     3\n",
            "NCD30     3\n",
            "DRJ37     3\n",
            "FDF17     3\n",
            "FDM40     3\n",
            "FDU60     3\n",
            "FDN50     3\n",
            "NCR42     3\n",
            "NCV42     3\n",
            "NCZ05     3\n",
            "FDR13     3\n",
            "FDA58     3\n",
            "DRB01     3\n",
            "FDF50     3\n",
            "FDU56     3\n",
            "FDT44     3\n",
            "DRH59     3\n",
            "FDV14     3\n",
            "FDI10     3\n",
            "FDA22     3\n",
            "FDW37     3\n",
            "NCG55     3\n",
            "FDR39     3\n",
            "FDV31     3\n",
            "FDD32     3\n",
            "FDM12     3\n",
            "NCL54     3\n",
            "FDR40     3\n",
            "FDY46     3\n",
            "FDI35     3\n",
            "FDE21     3\n",
            "NCW30     2\n",
            "FDD22     2\n",
            "DRG25     2\n",
            "FDB10     2\n",
            "FDI36     2\n",
            "FDP15     2\n",
            "FDA48     2\n",
            "FDG28     2\n",
            "FDU43     2\n",
            "FDE38     2\n",
            "FDT33     2\n",
            "FDM16     2\n",
            "NCV18     2\n",
            "FDR57     2\n",
            "FDF38     2\n",
            "FDW58     2\n",
            "DRE01     2\n",
            "NCG19     2\n",
            "FDM38     2\n",
            "NCX53     2\n",
            "FDD48     2\n",
            "FDH22     2\n",
            "FDB47     2\n",
            "FDW10     2\n",
            "DRI59     2\n",
            "FDR03     2\n",
            "DRL59     2\n",
            "FDZ50     2\n",
            "DRC24     2\n",
            "NCC55     2\n",
            "FDE39     2\n",
            "FDU09     2\n",
            "NCS41     2\n",
            "NCW05     2\n",
            "NCM42     2\n",
            "FDK57     1\n",
            "FDN52     1\n",
            "FDT35     1\n",
            "FDE52     1\n",
            "FDY43     1\n",
            "FDQ60     1\n",
            "FDO33     1\n",
            "DRF48     1\n",
            "FDC23     1\n",
            "Name: Item_Identifier, dtype: int64\n",
            "\n",
            "\n",
            "\n",
            "- Item_Fat_Content:\n",
            "Low Fat    5089\n",
            "Regular    2889\n",
            "LF          316\n",
            "reg         117\n",
            "low fat     112\n",
            "Name: Item_Fat_Content, dtype: int64\n",
            "\n",
            "\n",
            "\n",
            "- Item_Type:\n",
            "Fruits and Vegetables    1232\n",
            "Snack Foods              1200\n",
            "Household                 910\n",
            "Frozen Foods              856\n",
            "Dairy                     682\n",
            "Canned                    649\n",
            "Baking Goods              648\n",
            "Health and Hygiene        520\n",
            "Soft Drinks               445\n",
            "Meat                      425\n",
            "Breads                    251\n",
            "Hard Drinks               214\n",
            "Others                    169\n",
            "Starchy Foods             148\n",
            "Breakfast                 110\n",
            "Seafood                    64\n",
            "Name: Item_Type, dtype: int64\n",
            "\n",
            "\n",
            "\n",
            "- Outlet_Identifier:\n",
            "OUT027    935\n",
            "OUT013    932\n",
            "OUT049    930\n",
            "OUT046    930\n",
            "OUT035    930\n",
            "OUT045    929\n",
            "OUT018    928\n",
            "OUT017    926\n",
            "OUT010    555\n",
            "OUT019    528\n",
            "Name: Outlet_Identifier, dtype: int64\n",
            "\n",
            "\n",
            "\n",
            "- Outlet_Size:\n",
            "Medium     2793\n",
            "Missing    2410\n",
            "Small      2388\n",
            "High        932\n",
            "Name: Outlet_Size, dtype: int64\n",
            "\n",
            "\n",
            "\n",
            "- Outlet_Location_Type:\n",
            "Tier 3    3350\n",
            "Tier 2    2785\n",
            "Tier 1    2388\n",
            "Name: Outlet_Location_Type, dtype: int64\n",
            "\n",
            "\n",
            "\n",
            "- Outlet_Type:\n",
            "Supermarket Type1    5577\n",
            "Grocery Store        1083\n",
            "Supermarket Type3     935\n",
            "Supermarket Type2     928\n",
            "Name: Outlet_Type, dtype: int64\n",
            "\n",
            "\n",
            "\n"
          ]
        }
      ]
    },
    {
      "cell_type": "code",
      "source": [
        "#item content fat needs to be addressed:\n",
        "df_sp['Item_Fat_Content'].value_counts()"
      ],
      "metadata": {
        "colab": {
          "base_uri": "https://localhost:8080/"
        },
        "id": "eW44Uu4NuFcj",
        "outputId": "441ae560-ac8b-4cfc-f179-7e1c99bef97d"
      },
      "execution_count": 50,
      "outputs": [
        {
          "output_type": "execute_result",
          "data": {
            "text/plain": [
              "Low Fat    5089\n",
              "Regular    2889\n",
              "LF          316\n",
              "reg         117\n",
              "low fat     112\n",
              "Name: Item_Fat_Content, dtype: int64"
            ]
          },
          "metadata": {},
          "execution_count": 50
        }
      ]
    },
    {
      "cell_type": "code",
      "source": [
        "#here we will rename, LF and low fat to low fat\n",
        "df_sp['Item_Fat_Content'] = df_sp['Item_Fat_Content'].replace({'LF':'Low Fat', 'low fat':'Low Fat', 'reg':'Regular'})"
      ],
      "metadata": {
        "id": "sJujWoFzuSAC"
      },
      "execution_count": 51,
      "outputs": []
    },
    {
      "cell_type": "code",
      "source": [
        "#then we will rename, reg with Regular\n",
        "df_sp['Item_Fat_Content'].value_counts()"
      ],
      "metadata": {
        "colab": {
          "base_uri": "https://localhost:8080/"
        },
        "id": "99U1bXO8udHd",
        "outputId": "736e75c1-03d1-4acd-f15a-2f73657cd54d"
      },
      "execution_count": 52,
      "outputs": [
        {
          "output_type": "execute_result",
          "data": {
            "text/plain": [
              "Low Fat    5517\n",
              "Regular    3006\n",
              "Name: Item_Fat_Content, dtype: int64"
            ]
          },
          "metadata": {},
          "execution_count": 52
        }
      ]
    },
    {
      "cell_type": "code",
      "source": [
        "df_sp['Outlet_Type'].value_counts()"
      ],
      "metadata": {
        "id": "zF-E5egmp4jL",
        "colab": {
          "base_uri": "https://localhost:8080/"
        },
        "outputId": "ff79089b-0420-4e3f-e057-98be65479d0c"
      },
      "execution_count": 53,
      "outputs": [
        {
          "output_type": "execute_result",
          "data": {
            "text/plain": [
              "Supermarket Type1    5577\n",
              "Grocery Store        1083\n",
              "Supermarket Type3     935\n",
              "Supermarket Type2     928\n",
              "Name: Outlet_Type, dtype: int64"
            ]
          },
          "metadata": {},
          "execution_count": 53
        }
      ]
    },
    {
      "cell_type": "code",
      "source": [
        "df_sp['Outlet_Type'] = df_sp['Outlet_Type'].replace({'Grocery Store': 'Supermarket Type4'})\n"
      ],
      "metadata": {
        "id": "mcEP25gwqF_-"
      },
      "execution_count": 54,
      "outputs": []
    },
    {
      "cell_type": "code",
      "source": [
        "df_sp['Outlet_Type'].value_counts().sort_index()"
      ],
      "metadata": {
        "id": "yCcq7ToWr3rD",
        "colab": {
          "base_uri": "https://localhost:8080/"
        },
        "outputId": "8539cf27-90eb-43ea-ded4-a614aa5ae681"
      },
      "execution_count": 55,
      "outputs": [
        {
          "output_type": "execute_result",
          "data": {
            "text/plain": [
              "Supermarket Type1    5577\n",
              "Supermarket Type2     928\n",
              "Supermarket Type3     935\n",
              "Supermarket Type4    1083\n",
              "Name: Outlet_Type, dtype: int64"
            ]
          },
          "metadata": {},
          "execution_count": 55
        }
      ]
    },
    {
      "cell_type": "code",
      "source": [
        "df_sp['Item_Weight'] = df_sp['Item_Weight'].astype('int64')"
      ],
      "metadata": {
        "id": "jm-d9qIdzcQg",
        "colab": {
          "base_uri": "https://localhost:8080/",
          "height": 311
        },
        "outputId": "03de6fab-cd45-4521-dfa3-ba3d2e07fac8"
      },
      "execution_count": 56,
      "outputs": [
        {
          "output_type": "error",
          "ename": "IntCastingNaNError",
          "evalue": "ignored",
          "traceback": [
            "\u001b[0;31m---------------------------------------------------------------------------\u001b[0m",
            "\u001b[0;31mIntCastingNaNError\u001b[0m                        Traceback (most recent call last)",
            "\u001b[0;32m<ipython-input-56-e8d196a6645d>\u001b[0m in \u001b[0;36m<cell line: 1>\u001b[0;34m()\u001b[0m\n\u001b[0;32m----> 1\u001b[0;31m \u001b[0mdf_sp\u001b[0m\u001b[0;34m[\u001b[0m\u001b[0;34m'Item_Weight'\u001b[0m\u001b[0;34m]\u001b[0m \u001b[0;34m=\u001b[0m \u001b[0mdf_sp\u001b[0m\u001b[0;34m[\u001b[0m\u001b[0;34m'Item_Weight'\u001b[0m\u001b[0;34m]\u001b[0m\u001b[0;34m.\u001b[0m\u001b[0mastype\u001b[0m\u001b[0;34m(\u001b[0m\u001b[0;34m'int64'\u001b[0m\u001b[0;34m)\u001b[0m\u001b[0;34m\u001b[0m\u001b[0;34m\u001b[0m\u001b[0m\n\u001b[0m",
            "\u001b[0;32m/usr/local/lib/python3.10/dist-packages/pandas/core/generic.py\u001b[0m in \u001b[0;36mastype\u001b[0;34m(self, dtype, copy, errors)\u001b[0m\n\u001b[1;32m   6238\u001b[0m         \u001b[0;32melse\u001b[0m\u001b[0;34m:\u001b[0m\u001b[0;34m\u001b[0m\u001b[0;34m\u001b[0m\u001b[0m\n\u001b[1;32m   6239\u001b[0m             \u001b[0;31m# else, only a single dtype is given\u001b[0m\u001b[0;34m\u001b[0m\u001b[0;34m\u001b[0m\u001b[0m\n\u001b[0;32m-> 6240\u001b[0;31m             \u001b[0mnew_data\u001b[0m \u001b[0;34m=\u001b[0m \u001b[0mself\u001b[0m\u001b[0;34m.\u001b[0m\u001b[0m_mgr\u001b[0m\u001b[0;34m.\u001b[0m\u001b[0mastype\u001b[0m\u001b[0;34m(\u001b[0m\u001b[0mdtype\u001b[0m\u001b[0;34m=\u001b[0m\u001b[0mdtype\u001b[0m\u001b[0;34m,\u001b[0m \u001b[0mcopy\u001b[0m\u001b[0;34m=\u001b[0m\u001b[0mcopy\u001b[0m\u001b[0;34m,\u001b[0m \u001b[0merrors\u001b[0m\u001b[0;34m=\u001b[0m\u001b[0merrors\u001b[0m\u001b[0;34m)\u001b[0m\u001b[0;34m\u001b[0m\u001b[0;34m\u001b[0m\u001b[0m\n\u001b[0m\u001b[1;32m   6241\u001b[0m             \u001b[0;32mreturn\u001b[0m \u001b[0mself\u001b[0m\u001b[0;34m.\u001b[0m\u001b[0m_constructor\u001b[0m\u001b[0;34m(\u001b[0m\u001b[0mnew_data\u001b[0m\u001b[0;34m)\u001b[0m\u001b[0;34m.\u001b[0m\u001b[0m__finalize__\u001b[0m\u001b[0;34m(\u001b[0m\u001b[0mself\u001b[0m\u001b[0;34m,\u001b[0m \u001b[0mmethod\u001b[0m\u001b[0;34m=\u001b[0m\u001b[0;34m\"astype\"\u001b[0m\u001b[0;34m)\u001b[0m\u001b[0;34m\u001b[0m\u001b[0;34m\u001b[0m\u001b[0m\n\u001b[1;32m   6242\u001b[0m \u001b[0;34m\u001b[0m\u001b[0m\n",
            "\u001b[0;32m/usr/local/lib/python3.10/dist-packages/pandas/core/internals/managers.py\u001b[0m in \u001b[0;36mastype\u001b[0;34m(self, dtype, copy, errors)\u001b[0m\n\u001b[1;32m    446\u001b[0m \u001b[0;34m\u001b[0m\u001b[0m\n\u001b[1;32m    447\u001b[0m     \u001b[0;32mdef\u001b[0m \u001b[0mastype\u001b[0m\u001b[0;34m(\u001b[0m\u001b[0mself\u001b[0m\u001b[0;34m:\u001b[0m \u001b[0mT\u001b[0m\u001b[0;34m,\u001b[0m \u001b[0mdtype\u001b[0m\u001b[0;34m,\u001b[0m \u001b[0mcopy\u001b[0m\u001b[0;34m:\u001b[0m \u001b[0mbool\u001b[0m \u001b[0;34m=\u001b[0m \u001b[0;32mFalse\u001b[0m\u001b[0;34m,\u001b[0m \u001b[0merrors\u001b[0m\u001b[0;34m:\u001b[0m \u001b[0mstr\u001b[0m \u001b[0;34m=\u001b[0m \u001b[0;34m\"raise\"\u001b[0m\u001b[0;34m)\u001b[0m \u001b[0;34m->\u001b[0m \u001b[0mT\u001b[0m\u001b[0;34m:\u001b[0m\u001b[0;34m\u001b[0m\u001b[0;34m\u001b[0m\u001b[0m\n\u001b[0;32m--> 448\u001b[0;31m         \u001b[0;32mreturn\u001b[0m \u001b[0mself\u001b[0m\u001b[0;34m.\u001b[0m\u001b[0mapply\u001b[0m\u001b[0;34m(\u001b[0m\u001b[0;34m\"astype\"\u001b[0m\u001b[0;34m,\u001b[0m \u001b[0mdtype\u001b[0m\u001b[0;34m=\u001b[0m\u001b[0mdtype\u001b[0m\u001b[0;34m,\u001b[0m \u001b[0mcopy\u001b[0m\u001b[0;34m=\u001b[0m\u001b[0mcopy\u001b[0m\u001b[0;34m,\u001b[0m \u001b[0merrors\u001b[0m\u001b[0;34m=\u001b[0m\u001b[0merrors\u001b[0m\u001b[0;34m)\u001b[0m\u001b[0;34m\u001b[0m\u001b[0;34m\u001b[0m\u001b[0m\n\u001b[0m\u001b[1;32m    449\u001b[0m \u001b[0;34m\u001b[0m\u001b[0m\n\u001b[1;32m    450\u001b[0m     def convert(\n",
            "\u001b[0;32m/usr/local/lib/python3.10/dist-packages/pandas/core/internals/managers.py\u001b[0m in \u001b[0;36mapply\u001b[0;34m(self, f, align_keys, ignore_failures, **kwargs)\u001b[0m\n\u001b[1;32m    350\u001b[0m                     \u001b[0mapplied\u001b[0m \u001b[0;34m=\u001b[0m \u001b[0mb\u001b[0m\u001b[0;34m.\u001b[0m\u001b[0mapply\u001b[0m\u001b[0;34m(\u001b[0m\u001b[0mf\u001b[0m\u001b[0;34m,\u001b[0m \u001b[0;34m**\u001b[0m\u001b[0mkwargs\u001b[0m\u001b[0;34m)\u001b[0m\u001b[0;34m\u001b[0m\u001b[0;34m\u001b[0m\u001b[0m\n\u001b[1;32m    351\u001b[0m                 \u001b[0;32melse\u001b[0m\u001b[0;34m:\u001b[0m\u001b[0;34m\u001b[0m\u001b[0;34m\u001b[0m\u001b[0m\n\u001b[0;32m--> 352\u001b[0;31m                     \u001b[0mapplied\u001b[0m \u001b[0;34m=\u001b[0m \u001b[0mgetattr\u001b[0m\u001b[0;34m(\u001b[0m\u001b[0mb\u001b[0m\u001b[0;34m,\u001b[0m \u001b[0mf\u001b[0m\u001b[0;34m)\u001b[0m\u001b[0;34m(\u001b[0m\u001b[0;34m**\u001b[0m\u001b[0mkwargs\u001b[0m\u001b[0;34m)\u001b[0m\u001b[0;34m\u001b[0m\u001b[0;34m\u001b[0m\u001b[0m\n\u001b[0m\u001b[1;32m    353\u001b[0m             \u001b[0;32mexcept\u001b[0m \u001b[0;34m(\u001b[0m\u001b[0mTypeError\u001b[0m\u001b[0;34m,\u001b[0m \u001b[0mNotImplementedError\u001b[0m\u001b[0;34m)\u001b[0m\u001b[0;34m:\u001b[0m\u001b[0;34m\u001b[0m\u001b[0;34m\u001b[0m\u001b[0m\n\u001b[1;32m    354\u001b[0m                 \u001b[0;32mif\u001b[0m \u001b[0;32mnot\u001b[0m \u001b[0mignore_failures\u001b[0m\u001b[0;34m:\u001b[0m\u001b[0;34m\u001b[0m\u001b[0;34m\u001b[0m\u001b[0m\n",
            "\u001b[0;32m/usr/local/lib/python3.10/dist-packages/pandas/core/internals/blocks.py\u001b[0m in \u001b[0;36mastype\u001b[0;34m(self, dtype, copy, errors)\u001b[0m\n\u001b[1;32m    524\u001b[0m         \u001b[0mvalues\u001b[0m \u001b[0;34m=\u001b[0m \u001b[0mself\u001b[0m\u001b[0;34m.\u001b[0m\u001b[0mvalues\u001b[0m\u001b[0;34m\u001b[0m\u001b[0;34m\u001b[0m\u001b[0m\n\u001b[1;32m    525\u001b[0m \u001b[0;34m\u001b[0m\u001b[0m\n\u001b[0;32m--> 526\u001b[0;31m         \u001b[0mnew_values\u001b[0m \u001b[0;34m=\u001b[0m \u001b[0mastype_array_safe\u001b[0m\u001b[0;34m(\u001b[0m\u001b[0mvalues\u001b[0m\u001b[0;34m,\u001b[0m \u001b[0mdtype\u001b[0m\u001b[0;34m,\u001b[0m \u001b[0mcopy\u001b[0m\u001b[0;34m=\u001b[0m\u001b[0mcopy\u001b[0m\u001b[0;34m,\u001b[0m \u001b[0merrors\u001b[0m\u001b[0;34m=\u001b[0m\u001b[0merrors\u001b[0m\u001b[0;34m)\u001b[0m\u001b[0;34m\u001b[0m\u001b[0;34m\u001b[0m\u001b[0m\n\u001b[0m\u001b[1;32m    527\u001b[0m \u001b[0;34m\u001b[0m\u001b[0m\n\u001b[1;32m    528\u001b[0m         \u001b[0mnew_values\u001b[0m \u001b[0;34m=\u001b[0m \u001b[0mmaybe_coerce_values\u001b[0m\u001b[0;34m(\u001b[0m\u001b[0mnew_values\u001b[0m\u001b[0;34m)\u001b[0m\u001b[0;34m\u001b[0m\u001b[0;34m\u001b[0m\u001b[0m\n",
            "\u001b[0;32m/usr/local/lib/python3.10/dist-packages/pandas/core/dtypes/astype.py\u001b[0m in \u001b[0;36mastype_array_safe\u001b[0;34m(values, dtype, copy, errors)\u001b[0m\n\u001b[1;32m    297\u001b[0m \u001b[0;34m\u001b[0m\u001b[0m\n\u001b[1;32m    298\u001b[0m     \u001b[0;32mtry\u001b[0m\u001b[0;34m:\u001b[0m\u001b[0;34m\u001b[0m\u001b[0;34m\u001b[0m\u001b[0m\n\u001b[0;32m--> 299\u001b[0;31m         \u001b[0mnew_values\u001b[0m \u001b[0;34m=\u001b[0m \u001b[0mastype_array\u001b[0m\u001b[0;34m(\u001b[0m\u001b[0mvalues\u001b[0m\u001b[0;34m,\u001b[0m \u001b[0mdtype\u001b[0m\u001b[0;34m,\u001b[0m \u001b[0mcopy\u001b[0m\u001b[0;34m=\u001b[0m\u001b[0mcopy\u001b[0m\u001b[0;34m)\u001b[0m\u001b[0;34m\u001b[0m\u001b[0;34m\u001b[0m\u001b[0m\n\u001b[0m\u001b[1;32m    300\u001b[0m     \u001b[0;32mexcept\u001b[0m \u001b[0;34m(\u001b[0m\u001b[0mValueError\u001b[0m\u001b[0;34m,\u001b[0m \u001b[0mTypeError\u001b[0m\u001b[0;34m)\u001b[0m\u001b[0;34m:\u001b[0m\u001b[0;34m\u001b[0m\u001b[0;34m\u001b[0m\u001b[0m\n\u001b[1;32m    301\u001b[0m         \u001b[0;31m# e.g. astype_nansafe can fail on object-dtype of strings\u001b[0m\u001b[0;34m\u001b[0m\u001b[0;34m\u001b[0m\u001b[0m\n",
            "\u001b[0;32m/usr/local/lib/python3.10/dist-packages/pandas/core/dtypes/astype.py\u001b[0m in \u001b[0;36mastype_array\u001b[0;34m(values, dtype, copy)\u001b[0m\n\u001b[1;32m    228\u001b[0m \u001b[0;34m\u001b[0m\u001b[0m\n\u001b[1;32m    229\u001b[0m     \u001b[0;32melse\u001b[0m\u001b[0;34m:\u001b[0m\u001b[0;34m\u001b[0m\u001b[0;34m\u001b[0m\u001b[0m\n\u001b[0;32m--> 230\u001b[0;31m         \u001b[0mvalues\u001b[0m \u001b[0;34m=\u001b[0m \u001b[0mastype_nansafe\u001b[0m\u001b[0;34m(\u001b[0m\u001b[0mvalues\u001b[0m\u001b[0;34m,\u001b[0m \u001b[0mdtype\u001b[0m\u001b[0;34m,\u001b[0m \u001b[0mcopy\u001b[0m\u001b[0;34m=\u001b[0m\u001b[0mcopy\u001b[0m\u001b[0;34m)\u001b[0m\u001b[0;34m\u001b[0m\u001b[0;34m\u001b[0m\u001b[0m\n\u001b[0m\u001b[1;32m    231\u001b[0m \u001b[0;34m\u001b[0m\u001b[0m\n\u001b[1;32m    232\u001b[0m     \u001b[0;31m# in pandas we don't store numpy str dtypes, so convert to object\u001b[0m\u001b[0;34m\u001b[0m\u001b[0;34m\u001b[0m\u001b[0m\n",
            "\u001b[0;32m/usr/local/lib/python3.10/dist-packages/pandas/core/dtypes/astype.py\u001b[0m in \u001b[0;36mastype_nansafe\u001b[0;34m(arr, dtype, copy, skipna)\u001b[0m\n\u001b[1;32m    138\u001b[0m \u001b[0;34m\u001b[0m\u001b[0m\n\u001b[1;32m    139\u001b[0m     \u001b[0;32melif\u001b[0m \u001b[0mnp\u001b[0m\u001b[0;34m.\u001b[0m\u001b[0missubdtype\u001b[0m\u001b[0;34m(\u001b[0m\u001b[0marr\u001b[0m\u001b[0;34m.\u001b[0m\u001b[0mdtype\u001b[0m\u001b[0;34m,\u001b[0m \u001b[0mnp\u001b[0m\u001b[0;34m.\u001b[0m\u001b[0mfloating\u001b[0m\u001b[0;34m)\u001b[0m \u001b[0;32mand\u001b[0m \u001b[0mis_integer_dtype\u001b[0m\u001b[0;34m(\u001b[0m\u001b[0mdtype\u001b[0m\u001b[0;34m)\u001b[0m\u001b[0;34m:\u001b[0m\u001b[0;34m\u001b[0m\u001b[0;34m\u001b[0m\u001b[0m\n\u001b[0;32m--> 140\u001b[0;31m         \u001b[0;32mreturn\u001b[0m \u001b[0m_astype_float_to_int_nansafe\u001b[0m\u001b[0;34m(\u001b[0m\u001b[0marr\u001b[0m\u001b[0;34m,\u001b[0m \u001b[0mdtype\u001b[0m\u001b[0;34m,\u001b[0m \u001b[0mcopy\u001b[0m\u001b[0;34m)\u001b[0m\u001b[0;34m\u001b[0m\u001b[0;34m\u001b[0m\u001b[0m\n\u001b[0m\u001b[1;32m    141\u001b[0m \u001b[0;34m\u001b[0m\u001b[0m\n\u001b[1;32m    142\u001b[0m     \u001b[0;32melif\u001b[0m \u001b[0mis_object_dtype\u001b[0m\u001b[0;34m(\u001b[0m\u001b[0marr\u001b[0m\u001b[0;34m.\u001b[0m\u001b[0mdtype\u001b[0m\u001b[0;34m)\u001b[0m\u001b[0;34m:\u001b[0m\u001b[0;34m\u001b[0m\u001b[0;34m\u001b[0m\u001b[0m\n",
            "\u001b[0;32m/usr/local/lib/python3.10/dist-packages/pandas/core/dtypes/astype.py\u001b[0m in \u001b[0;36m_astype_float_to_int_nansafe\u001b[0;34m(values, dtype, copy)\u001b[0m\n\u001b[1;32m    180\u001b[0m     \"\"\"\n\u001b[1;32m    181\u001b[0m     \u001b[0;32mif\u001b[0m \u001b[0;32mnot\u001b[0m \u001b[0mnp\u001b[0m\u001b[0;34m.\u001b[0m\u001b[0misfinite\u001b[0m\u001b[0;34m(\u001b[0m\u001b[0mvalues\u001b[0m\u001b[0;34m)\u001b[0m\u001b[0;34m.\u001b[0m\u001b[0mall\u001b[0m\u001b[0;34m(\u001b[0m\u001b[0;34m)\u001b[0m\u001b[0;34m:\u001b[0m\u001b[0;34m\u001b[0m\u001b[0;34m\u001b[0m\u001b[0m\n\u001b[0;32m--> 182\u001b[0;31m         raise IntCastingNaNError(\n\u001b[0m\u001b[1;32m    183\u001b[0m             \u001b[0;34m\"Cannot convert non-finite values (NA or inf) to integer\"\u001b[0m\u001b[0;34m\u001b[0m\u001b[0;34m\u001b[0m\u001b[0m\n\u001b[1;32m    184\u001b[0m         )\n",
            "\u001b[0;31mIntCastingNaNError\u001b[0m: Cannot convert non-finite values (NA or inf) to integer"
          ]
        }
      ]
    },
    {
      "cell_type": "markdown",
      "source": [
        "\n",
        "8) For any numerical columns, obtain the summary statistics of each (min, max, mean)."
      ],
      "metadata": {
        "id": "zqeLAQc4ormf"
      }
    },
    {
      "cell_type": "code",
      "source": [
        "df_sp.describe()"
      ],
      "metadata": {
        "id": "T4Y3vMACuyDV",
        "colab": {
          "base_uri": "https://localhost:8080/",
          "height": 300
        },
        "outputId": "e29ddae6-a495-4c68-a3f7-b90b729ce626"
      },
      "execution_count": 58,
      "outputs": [
        {
          "output_type": "execute_result",
          "data": {
            "text/plain": [
              "       Item_Weight  Item_Visibility     Item_MRP  Outlet_Establishment_Year  \\\n",
              "count  7060.000000      8523.000000  8523.000000                8523.000000   \n",
              "mean     12.857645         0.066132   140.992782                1997.831867   \n",
              "std       4.643456         0.051598    62.275067                   8.371760   \n",
              "min       4.555000         0.000000    31.290000                1985.000000   \n",
              "25%       8.773750         0.026989    93.826500                1987.000000   \n",
              "50%      12.600000         0.053931   143.012800                1999.000000   \n",
              "75%      16.850000         0.094585   185.643700                2004.000000   \n",
              "max      21.350000         0.328391   266.888400                2009.000000   \n",
              "\n",
              "       Item_Outlet_Sales  \n",
              "count        8523.000000  \n",
              "mean         2181.288914  \n",
              "std          1706.499616  \n",
              "min            33.290000  \n",
              "25%           834.247400  \n",
              "50%          1794.331000  \n",
              "75%          3101.296400  \n",
              "max         13086.964800  "
            ],
            "text/html": [
              "\n",
              "\n",
              "  <div id=\"df-1c486e5a-1859-4b29-b750-08b47ffe9f66\">\n",
              "    <div class=\"colab-df-container\">\n",
              "      <div>\n",
              "<style scoped>\n",
              "    .dataframe tbody tr th:only-of-type {\n",
              "        vertical-align: middle;\n",
              "    }\n",
              "\n",
              "    .dataframe tbody tr th {\n",
              "        vertical-align: top;\n",
              "    }\n",
              "\n",
              "    .dataframe thead th {\n",
              "        text-align: right;\n",
              "    }\n",
              "</style>\n",
              "<table border=\"1\" class=\"dataframe\">\n",
              "  <thead>\n",
              "    <tr style=\"text-align: right;\">\n",
              "      <th></th>\n",
              "      <th>Item_Weight</th>\n",
              "      <th>Item_Visibility</th>\n",
              "      <th>Item_MRP</th>\n",
              "      <th>Outlet_Establishment_Year</th>\n",
              "      <th>Item_Outlet_Sales</th>\n",
              "    </tr>\n",
              "  </thead>\n",
              "  <tbody>\n",
              "    <tr>\n",
              "      <th>count</th>\n",
              "      <td>7060.000000</td>\n",
              "      <td>8523.000000</td>\n",
              "      <td>8523.000000</td>\n",
              "      <td>8523.000000</td>\n",
              "      <td>8523.000000</td>\n",
              "    </tr>\n",
              "    <tr>\n",
              "      <th>mean</th>\n",
              "      <td>12.857645</td>\n",
              "      <td>0.066132</td>\n",
              "      <td>140.992782</td>\n",
              "      <td>1997.831867</td>\n",
              "      <td>2181.288914</td>\n",
              "    </tr>\n",
              "    <tr>\n",
              "      <th>std</th>\n",
              "      <td>4.643456</td>\n",
              "      <td>0.051598</td>\n",
              "      <td>62.275067</td>\n",
              "      <td>8.371760</td>\n",
              "      <td>1706.499616</td>\n",
              "    </tr>\n",
              "    <tr>\n",
              "      <th>min</th>\n",
              "      <td>4.555000</td>\n",
              "      <td>0.000000</td>\n",
              "      <td>31.290000</td>\n",
              "      <td>1985.000000</td>\n",
              "      <td>33.290000</td>\n",
              "    </tr>\n",
              "    <tr>\n",
              "      <th>25%</th>\n",
              "      <td>8.773750</td>\n",
              "      <td>0.026989</td>\n",
              "      <td>93.826500</td>\n",
              "      <td>1987.000000</td>\n",
              "      <td>834.247400</td>\n",
              "    </tr>\n",
              "    <tr>\n",
              "      <th>50%</th>\n",
              "      <td>12.600000</td>\n",
              "      <td>0.053931</td>\n",
              "      <td>143.012800</td>\n",
              "      <td>1999.000000</td>\n",
              "      <td>1794.331000</td>\n",
              "    </tr>\n",
              "    <tr>\n",
              "      <th>75%</th>\n",
              "      <td>16.850000</td>\n",
              "      <td>0.094585</td>\n",
              "      <td>185.643700</td>\n",
              "      <td>2004.000000</td>\n",
              "      <td>3101.296400</td>\n",
              "    </tr>\n",
              "    <tr>\n",
              "      <th>max</th>\n",
              "      <td>21.350000</td>\n",
              "      <td>0.328391</td>\n",
              "      <td>266.888400</td>\n",
              "      <td>2009.000000</td>\n",
              "      <td>13086.964800</td>\n",
              "    </tr>\n",
              "  </tbody>\n",
              "</table>\n",
              "</div>\n",
              "      <button class=\"colab-df-convert\" onclick=\"convertToInteractive('df-1c486e5a-1859-4b29-b750-08b47ffe9f66')\"\n",
              "              title=\"Convert this dataframe to an interactive table.\"\n",
              "              style=\"display:none;\">\n",
              "\n",
              "  <svg xmlns=\"http://www.w3.org/2000/svg\" height=\"24px\"viewBox=\"0 0 24 24\"\n",
              "       width=\"24px\">\n",
              "    <path d=\"M0 0h24v24H0V0z\" fill=\"none\"/>\n",
              "    <path d=\"M18.56 5.44l.94 2.06.94-2.06 2.06-.94-2.06-.94-.94-2.06-.94 2.06-2.06.94zm-11 1L8.5 8.5l.94-2.06 2.06-.94-2.06-.94L8.5 2.5l-.94 2.06-2.06.94zm10 10l.94 2.06.94-2.06 2.06-.94-2.06-.94-.94-2.06-.94 2.06-2.06.94z\"/><path d=\"M17.41 7.96l-1.37-1.37c-.4-.4-.92-.59-1.43-.59-.52 0-1.04.2-1.43.59L10.3 9.45l-7.72 7.72c-.78.78-.78 2.05 0 2.83L4 21.41c.39.39.9.59 1.41.59.51 0 1.02-.2 1.41-.59l7.78-7.78 2.81-2.81c.8-.78.8-2.07 0-2.86zM5.41 20L4 18.59l7.72-7.72 1.47 1.35L5.41 20z\"/>\n",
              "  </svg>\n",
              "      </button>\n",
              "\n",
              "\n",
              "\n",
              "    <div id=\"df-bdcca357-29e6-4f67-a465-d90444b06e71\">\n",
              "      <button class=\"colab-df-quickchart\" onclick=\"quickchart('df-bdcca357-29e6-4f67-a465-d90444b06e71')\"\n",
              "              title=\"Suggest charts.\"\n",
              "              style=\"display:none;\">\n",
              "\n",
              "<svg xmlns=\"http://www.w3.org/2000/svg\" height=\"24px\"viewBox=\"0 0 24 24\"\n",
              "     width=\"24px\">\n",
              "    <g>\n",
              "        <path d=\"M19 3H5c-1.1 0-2 .9-2 2v14c0 1.1.9 2 2 2h14c1.1 0 2-.9 2-2V5c0-1.1-.9-2-2-2zM9 17H7v-7h2v7zm4 0h-2V7h2v10zm4 0h-2v-4h2v4z\"/>\n",
              "    </g>\n",
              "</svg>\n",
              "      </button>\n",
              "    </div>\n",
              "\n",
              "<style>\n",
              "  .colab-df-quickchart {\n",
              "    background-color: #E8F0FE;\n",
              "    border: none;\n",
              "    border-radius: 50%;\n",
              "    cursor: pointer;\n",
              "    display: none;\n",
              "    fill: #1967D2;\n",
              "    height: 32px;\n",
              "    padding: 0 0 0 0;\n",
              "    width: 32px;\n",
              "  }\n",
              "\n",
              "  .colab-df-quickchart:hover {\n",
              "    background-color: #E2EBFA;\n",
              "    box-shadow: 0px 1px 2px rgba(60, 64, 67, 0.3), 0px 1px 3px 1px rgba(60, 64, 67, 0.15);\n",
              "    fill: #174EA6;\n",
              "  }\n",
              "\n",
              "  [theme=dark] .colab-df-quickchart {\n",
              "    background-color: #3B4455;\n",
              "    fill: #D2E3FC;\n",
              "  }\n",
              "\n",
              "  [theme=dark] .colab-df-quickchart:hover {\n",
              "    background-color: #434B5C;\n",
              "    box-shadow: 0px 1px 3px 1px rgba(0, 0, 0, 0.15);\n",
              "    filter: drop-shadow(0px 1px 2px rgba(0, 0, 0, 0.3));\n",
              "    fill: #FFFFFF;\n",
              "  }\n",
              "</style>\n",
              "\n",
              "    <script>\n",
              "      async function quickchart(key) {\n",
              "        const containerElement = document.querySelector('#' + key);\n",
              "        const charts = await google.colab.kernel.invokeFunction(\n",
              "            'suggestCharts', [key], {});\n",
              "      }\n",
              "    </script>\n",
              "\n",
              "      <script>\n",
              "\n",
              "function displayQuickchartButton(domScope) {\n",
              "  let quickchartButtonEl =\n",
              "    domScope.querySelector('#df-bdcca357-29e6-4f67-a465-d90444b06e71 button.colab-df-quickchart');\n",
              "  quickchartButtonEl.style.display =\n",
              "    google.colab.kernel.accessAllowed ? 'block' : 'none';\n",
              "}\n",
              "\n",
              "        displayQuickchartButton(document);\n",
              "      </script>\n",
              "      <style>\n",
              "    .colab-df-container {\n",
              "      display:flex;\n",
              "      flex-wrap:wrap;\n",
              "      gap: 12px;\n",
              "    }\n",
              "\n",
              "    .colab-df-convert {\n",
              "      background-color: #E8F0FE;\n",
              "      border: none;\n",
              "      border-radius: 50%;\n",
              "      cursor: pointer;\n",
              "      display: none;\n",
              "      fill: #1967D2;\n",
              "      height: 32px;\n",
              "      padding: 0 0 0 0;\n",
              "      width: 32px;\n",
              "    }\n",
              "\n",
              "    .colab-df-convert:hover {\n",
              "      background-color: #E2EBFA;\n",
              "      box-shadow: 0px 1px 2px rgba(60, 64, 67, 0.3), 0px 1px 3px 1px rgba(60, 64, 67, 0.15);\n",
              "      fill: #174EA6;\n",
              "    }\n",
              "\n",
              "    [theme=dark] .colab-df-convert {\n",
              "      background-color: #3B4455;\n",
              "      fill: #D2E3FC;\n",
              "    }\n",
              "\n",
              "    [theme=dark] .colab-df-convert:hover {\n",
              "      background-color: #434B5C;\n",
              "      box-shadow: 0px 1px 3px 1px rgba(0, 0, 0, 0.15);\n",
              "      filter: drop-shadow(0px 1px 2px rgba(0, 0, 0, 0.3));\n",
              "      fill: #FFFFFF;\n",
              "    }\n",
              "  </style>\n",
              "\n",
              "      <script>\n",
              "        const buttonEl =\n",
              "          document.querySelector('#df-1c486e5a-1859-4b29-b750-08b47ffe9f66 button.colab-df-convert');\n",
              "        buttonEl.style.display =\n",
              "          google.colab.kernel.accessAllowed ? 'block' : 'none';\n",
              "\n",
              "        async function convertToInteractive(key) {\n",
              "          const element = document.querySelector('#df-1c486e5a-1859-4b29-b750-08b47ffe9f66');\n",
              "          const dataTable =\n",
              "            await google.colab.kernel.invokeFunction('convertToInteractive',\n",
              "                                                     [key], {});\n",
              "          if (!dataTable) return;\n",
              "\n",
              "          const docLinkHtml = 'Like what you see? Visit the ' +\n",
              "            '<a target=\"_blank\" href=https://colab.research.google.com/notebooks/data_table.ipynb>data table notebook</a>'\n",
              "            + ' to learn more about interactive tables.';\n",
              "          element.innerHTML = '';\n",
              "          dataTable['output_type'] = 'display_data';\n",
              "          await google.colab.output.renderOutput(dataTable, element);\n",
              "          const docLink = document.createElement('div');\n",
              "          docLink.innerHTML = docLinkHtml;\n",
              "          element.appendChild(docLink);\n",
              "        }\n",
              "      </script>\n",
              "    </div>\n",
              "  </div>\n"
            ]
          },
          "metadata": {},
          "execution_count": 58
        }
      ]
    },
    {
      "cell_type": "code",
      "source": [
        "stats =  df_sp.describe()\n",
        "stats.loc[['mean','min','max']]"
      ],
      "metadata": {
        "id": "tv0uhzDfvP67",
        "colab": {
          "base_uri": "https://localhost:8080/",
          "height": 144
        },
        "outputId": "c5828704-2ced-4a84-d613-9fa1d3809eb7"
      },
      "execution_count": 59,
      "outputs": [
        {
          "output_type": "execute_result",
          "data": {
            "text/plain": [
              "      Item_Weight  Item_Visibility    Item_MRP  Outlet_Establishment_Year  \\\n",
              "mean    12.857645         0.066132  140.992782                1997.831867   \n",
              "min      4.555000         0.000000   31.290000                1985.000000   \n",
              "max     21.350000         0.328391  266.888400                2009.000000   \n",
              "\n",
              "      Item_Outlet_Sales  \n",
              "mean        2181.288914  \n",
              "min           33.290000  \n",
              "max        13086.964800  "
            ],
            "text/html": [
              "\n",
              "\n",
              "  <div id=\"df-9fbd8e74-e36e-4966-8312-53e27880c5d1\">\n",
              "    <div class=\"colab-df-container\">\n",
              "      <div>\n",
              "<style scoped>\n",
              "    .dataframe tbody tr th:only-of-type {\n",
              "        vertical-align: middle;\n",
              "    }\n",
              "\n",
              "    .dataframe tbody tr th {\n",
              "        vertical-align: top;\n",
              "    }\n",
              "\n",
              "    .dataframe thead th {\n",
              "        text-align: right;\n",
              "    }\n",
              "</style>\n",
              "<table border=\"1\" class=\"dataframe\">\n",
              "  <thead>\n",
              "    <tr style=\"text-align: right;\">\n",
              "      <th></th>\n",
              "      <th>Item_Weight</th>\n",
              "      <th>Item_Visibility</th>\n",
              "      <th>Item_MRP</th>\n",
              "      <th>Outlet_Establishment_Year</th>\n",
              "      <th>Item_Outlet_Sales</th>\n",
              "    </tr>\n",
              "  </thead>\n",
              "  <tbody>\n",
              "    <tr>\n",
              "      <th>mean</th>\n",
              "      <td>12.857645</td>\n",
              "      <td>0.066132</td>\n",
              "      <td>140.992782</td>\n",
              "      <td>1997.831867</td>\n",
              "      <td>2181.288914</td>\n",
              "    </tr>\n",
              "    <tr>\n",
              "      <th>min</th>\n",
              "      <td>4.555000</td>\n",
              "      <td>0.000000</td>\n",
              "      <td>31.290000</td>\n",
              "      <td>1985.000000</td>\n",
              "      <td>33.290000</td>\n",
              "    </tr>\n",
              "    <tr>\n",
              "      <th>max</th>\n",
              "      <td>21.350000</td>\n",
              "      <td>0.328391</td>\n",
              "      <td>266.888400</td>\n",
              "      <td>2009.000000</td>\n",
              "      <td>13086.964800</td>\n",
              "    </tr>\n",
              "  </tbody>\n",
              "</table>\n",
              "</div>\n",
              "      <button class=\"colab-df-convert\" onclick=\"convertToInteractive('df-9fbd8e74-e36e-4966-8312-53e27880c5d1')\"\n",
              "              title=\"Convert this dataframe to an interactive table.\"\n",
              "              style=\"display:none;\">\n",
              "\n",
              "  <svg xmlns=\"http://www.w3.org/2000/svg\" height=\"24px\"viewBox=\"0 0 24 24\"\n",
              "       width=\"24px\">\n",
              "    <path d=\"M0 0h24v24H0V0z\" fill=\"none\"/>\n",
              "    <path d=\"M18.56 5.44l.94 2.06.94-2.06 2.06-.94-2.06-.94-.94-2.06-.94 2.06-2.06.94zm-11 1L8.5 8.5l.94-2.06 2.06-.94-2.06-.94L8.5 2.5l-.94 2.06-2.06.94zm10 10l.94 2.06.94-2.06 2.06-.94-2.06-.94-.94-2.06-.94 2.06-2.06.94z\"/><path d=\"M17.41 7.96l-1.37-1.37c-.4-.4-.92-.59-1.43-.59-.52 0-1.04.2-1.43.59L10.3 9.45l-7.72 7.72c-.78.78-.78 2.05 0 2.83L4 21.41c.39.39.9.59 1.41.59.51 0 1.02-.2 1.41-.59l7.78-7.78 2.81-2.81c.8-.78.8-2.07 0-2.86zM5.41 20L4 18.59l7.72-7.72 1.47 1.35L5.41 20z\"/>\n",
              "  </svg>\n",
              "      </button>\n",
              "\n",
              "\n",
              "\n",
              "    <div id=\"df-0ba6a44a-9380-4007-b4ba-8c997b2da91d\">\n",
              "      <button class=\"colab-df-quickchart\" onclick=\"quickchart('df-0ba6a44a-9380-4007-b4ba-8c997b2da91d')\"\n",
              "              title=\"Suggest charts.\"\n",
              "              style=\"display:none;\">\n",
              "\n",
              "<svg xmlns=\"http://www.w3.org/2000/svg\" height=\"24px\"viewBox=\"0 0 24 24\"\n",
              "     width=\"24px\">\n",
              "    <g>\n",
              "        <path d=\"M19 3H5c-1.1 0-2 .9-2 2v14c0 1.1.9 2 2 2h14c1.1 0 2-.9 2-2V5c0-1.1-.9-2-2-2zM9 17H7v-7h2v7zm4 0h-2V7h2v10zm4 0h-2v-4h2v4z\"/>\n",
              "    </g>\n",
              "</svg>\n",
              "      </button>\n",
              "    </div>\n",
              "\n",
              "<style>\n",
              "  .colab-df-quickchart {\n",
              "    background-color: #E8F0FE;\n",
              "    border: none;\n",
              "    border-radius: 50%;\n",
              "    cursor: pointer;\n",
              "    display: none;\n",
              "    fill: #1967D2;\n",
              "    height: 32px;\n",
              "    padding: 0 0 0 0;\n",
              "    width: 32px;\n",
              "  }\n",
              "\n",
              "  .colab-df-quickchart:hover {\n",
              "    background-color: #E2EBFA;\n",
              "    box-shadow: 0px 1px 2px rgba(60, 64, 67, 0.3), 0px 1px 3px 1px rgba(60, 64, 67, 0.15);\n",
              "    fill: #174EA6;\n",
              "  }\n",
              "\n",
              "  [theme=dark] .colab-df-quickchart {\n",
              "    background-color: #3B4455;\n",
              "    fill: #D2E3FC;\n",
              "  }\n",
              "\n",
              "  [theme=dark] .colab-df-quickchart:hover {\n",
              "    background-color: #434B5C;\n",
              "    box-shadow: 0px 1px 3px 1px rgba(0, 0, 0, 0.15);\n",
              "    filter: drop-shadow(0px 1px 2px rgba(0, 0, 0, 0.3));\n",
              "    fill: #FFFFFF;\n",
              "  }\n",
              "</style>\n",
              "\n",
              "    <script>\n",
              "      async function quickchart(key) {\n",
              "        const containerElement = document.querySelector('#' + key);\n",
              "        const charts = await google.colab.kernel.invokeFunction(\n",
              "            'suggestCharts', [key], {});\n",
              "      }\n",
              "    </script>\n",
              "\n",
              "      <script>\n",
              "\n",
              "function displayQuickchartButton(domScope) {\n",
              "  let quickchartButtonEl =\n",
              "    domScope.querySelector('#df-0ba6a44a-9380-4007-b4ba-8c997b2da91d button.colab-df-quickchart');\n",
              "  quickchartButtonEl.style.display =\n",
              "    google.colab.kernel.accessAllowed ? 'block' : 'none';\n",
              "}\n",
              "\n",
              "        displayQuickchartButton(document);\n",
              "      </script>\n",
              "      <style>\n",
              "    .colab-df-container {\n",
              "      display:flex;\n",
              "      flex-wrap:wrap;\n",
              "      gap: 12px;\n",
              "    }\n",
              "\n",
              "    .colab-df-convert {\n",
              "      background-color: #E8F0FE;\n",
              "      border: none;\n",
              "      border-radius: 50%;\n",
              "      cursor: pointer;\n",
              "      display: none;\n",
              "      fill: #1967D2;\n",
              "      height: 32px;\n",
              "      padding: 0 0 0 0;\n",
              "      width: 32px;\n",
              "    }\n",
              "\n",
              "    .colab-df-convert:hover {\n",
              "      background-color: #E2EBFA;\n",
              "      box-shadow: 0px 1px 2px rgba(60, 64, 67, 0.3), 0px 1px 3px 1px rgba(60, 64, 67, 0.15);\n",
              "      fill: #174EA6;\n",
              "    }\n",
              "\n",
              "    [theme=dark] .colab-df-convert {\n",
              "      background-color: #3B4455;\n",
              "      fill: #D2E3FC;\n",
              "    }\n",
              "\n",
              "    [theme=dark] .colab-df-convert:hover {\n",
              "      background-color: #434B5C;\n",
              "      box-shadow: 0px 1px 3px 1px rgba(0, 0, 0, 0.15);\n",
              "      filter: drop-shadow(0px 1px 2px rgba(0, 0, 0, 0.3));\n",
              "      fill: #FFFFFF;\n",
              "    }\n",
              "  </style>\n",
              "\n",
              "      <script>\n",
              "        const buttonEl =\n",
              "          document.querySelector('#df-9fbd8e74-e36e-4966-8312-53e27880c5d1 button.colab-df-convert');\n",
              "        buttonEl.style.display =\n",
              "          google.colab.kernel.accessAllowed ? 'block' : 'none';\n",
              "\n",
              "        async function convertToInteractive(key) {\n",
              "          const element = document.querySelector('#df-9fbd8e74-e36e-4966-8312-53e27880c5d1');\n",
              "          const dataTable =\n",
              "            await google.colab.kernel.invokeFunction('convertToInteractive',\n",
              "                                                     [key], {});\n",
              "          if (!dataTable) return;\n",
              "\n",
              "          const docLinkHtml = 'Like what you see? Visit the ' +\n",
              "            '<a target=\"_blank\" href=https://colab.research.google.com/notebooks/data_table.ipynb>data table notebook</a>'\n",
              "            + ' to learn more about interactive tables.';\n",
              "          element.innerHTML = '';\n",
              "          dataTable['output_type'] = 'display_data';\n",
              "          await google.colab.output.renderOutput(dataTable, element);\n",
              "          const docLink = document.createElement('div');\n",
              "          docLink.innerHTML = docLinkHtml;\n",
              "          element.appendChild(docLink);\n",
              "        }\n",
              "      </script>\n",
              "    </div>\n",
              "  </div>\n"
            ]
          },
          "metadata": {},
          "execution_count": 59
        }
      ]
    },
    {
      "cell_type": "markdown",
      "source": [
        "# **For Part 3, your task is to complete any statistical analyses that might help you understand, explain, or model with your data. This must include at least one of each:**\n",
        "\n",
        "\n",
        "*   Histograms to view the distributions of numerical features in your\n",
        "dataset.\n",
        "*   \n",
        "Boxplots to view statistical summaries of numerical features in your dataset.\n",
        "* Countplots to view the frequency of each class of categorial features in your dataset.\n",
        "* Heatmap to view the correlation between features.\n",
        "\n",
        "Please feel free to add more than the minimum. Remember this is your chance to display your skills!\n",
        "\n",
        "Commit your work to GitHub.\n",
        "\n",
        "**Turn in a link to your GitHub repo! We will continue to work on the project a little bit each week.**"
      ],
      "metadata": {
        "id": "JZCE1DAY4oYr"
      }
    },
    {
      "cell_type": "code",
      "source": [
        "# Checking info again\n",
        "df_sp.info()"
      ],
      "metadata": {
        "id": "KWUJ_ecw6lyp",
        "colab": {
          "base_uri": "https://localhost:8080/"
        },
        "outputId": "389344fe-0c49-437c-a087-00ba00298312"
      },
      "execution_count": 60,
      "outputs": [
        {
          "output_type": "stream",
          "name": "stdout",
          "text": [
            "<class 'pandas.core.frame.DataFrame'>\n",
            "RangeIndex: 8523 entries, 0 to 8522\n",
            "Data columns (total 12 columns):\n",
            " #   Column                     Non-Null Count  Dtype  \n",
            "---  ------                     --------------  -----  \n",
            " 0   Item_Identifier            8523 non-null   object \n",
            " 1   Item_Weight                7060 non-null   float64\n",
            " 2   Item_Fat_Content           8523 non-null   object \n",
            " 3   Item_Visibility            8523 non-null   float64\n",
            " 4   Item_Type                  8523 non-null   object \n",
            " 5   Item_MRP                   8523 non-null   float64\n",
            " 6   Outlet_Identifier          8523 non-null   object \n",
            " 7   Outlet_Establishment_Year  8523 non-null   int64  \n",
            " 8   Outlet_Size                8523 non-null   object \n",
            " 9   Outlet_Location_Type       8523 non-null   object \n",
            " 10  Outlet_Type                8523 non-null   object \n",
            " 11  Item_Outlet_Sales          8523 non-null   float64\n",
            "dtypes: float64(4), int64(1), object(7)\n",
            "memory usage: 799.2+ KB\n"
          ]
        }
      ]
    },
    {
      "cell_type": "code",
      "source": [
        "num_cols = df_sp.select_dtypes('number').columns\n",
        "num_cols"
      ],
      "metadata": {
        "colab": {
          "base_uri": "https://localhost:8080/"
        },
        "id": "J6AFS6gp77_W",
        "outputId": "0a249c31-8861-4be6-e0b3-f166febc2471"
      },
      "execution_count": 61,
      "outputs": [
        {
          "output_type": "execute_result",
          "data": {
            "text/plain": [
              "Index(['Item_Weight', 'Item_Visibility', 'Item_MRP',\n",
              "       'Outlet_Establishment_Year', 'Item_Outlet_Sales'],\n",
              "      dtype='object')"
            ]
          },
          "metadata": {},
          "execution_count": 61
        }
      ]
    },
    {
      "cell_type": "markdown",
      "source": [
        "\n"
      ],
      "metadata": {
        "id": "KSVj6A9_ARkJ"
      }
    },
    {
      "cell_type": "code",
      "source": [
        "g = sns.displot(data=df_sp, x='Item_MRP', aspect = 2)\n",
        "\n",
        "median = df_sp['Item_MRP'].median()\n",
        "\n",
        "g.ax.set_title('Distribution of Maximum Retail Prices of Products', fontsize = 20)\n",
        "\n",
        "g.ax.axvline(median, color='k', ls='--',\n",
        "            label=f'Median MRP=R{median:,.2f}')\n",
        "g.ax.legend();"
      ],
      "metadata": {
        "colab": {
          "base_uri": "https://localhost:8080/",
          "height": 536
        },
        "id": "pX4vnPifAiMX",
        "outputId": "74afee2e-33f6-4f64-e881-8e88867489b7"
      },
      "execution_count": 62,
      "outputs": [
        {
          "output_type": "display_data",
          "data": {
            "text/plain": [
              "<Figure size 1000x500 with 1 Axes>"
            ],
            "image/png": "[encoded data removed]"
          },
          "metadata": {}
        }
      ]
    },
    {
      "cell_type": "markdown",
      "source": [
        "MRPs are widely distributed amongst food items. There is one particularly low count around $70 range.\n",
        "\n"
      ],
      "metadata": {
        "id": "1Ky11oewBb59"
      }
    },
    {
      "cell_type": "markdown",
      "source": [
        "Next we look at a boxplot for the Item Visibility across all products."
      ],
      "metadata": {
        "id": "whJ7bQsQBriW"
      }
    },
    {
      "cell_type": "code",
      "source": [
        "fig, ax = plt.subplots(figsize=(10,5))\n",
        "sns.boxplot(data=df_sp, x='Item_Visibility');"
      ],
      "metadata": {
        "colab": {
          "base_uri": "https://localhost:8080/",
          "height": 492
        },
        "id": "herNJnZTBuSw",
        "outputId": "9ae8ac9f-a50d-4394-d595-0b7e4b3604c4"
      },
      "execution_count": 63,
      "outputs": [
        {
          "output_type": "display_data",
          "data": {
            "text/plain": [
              "<Figure size 1000x500 with 1 Axes>"
            ],
            "image/png": "[encoded data removed]"
          },
          "metadata": {}
        }
      ]
    },
    {
      "cell_type": "markdown",
      "source": [
        "The above indicates there are many outliers consisting of disproportionately higher percentages of total display area in stores allocated to particular products. Most items have relatively lower visibility in stores."
      ],
      "metadata": {
        "id": "05upSHkXCEGy"
      }
    },
    {
      "cell_type": "code",
      "source": [
        "def plot_numeric(df,col):\n",
        "  \"\"\"EDA function to plot a histogram and boxplot for the selected column\"\"\"\n",
        "  ## make the figure and axes sharing the same x-axis\n",
        "  fig, axes = plt.subplots(nrows=2, figsize=(10,5), sharex=True)\n",
        "\n",
        "  ## Use seaborn plots with ax=axes[i]\n",
        "  sns.histplot(data=df_sp,x = col,ax = axes[0])\n",
        "  mean_value = df_sp[col].mean()\n",
        "  axes[0].axvline(mean_value,color='red', ls='--',\n",
        "           label=f\"Mean Value = R{mean_value:,.2f}\",);\n",
        "\n",
        "  med_value = df_sp[col].median()\n",
        "  axes[0].axvline(med_value,color='black', ls='--',\n",
        "           label=f\"Median Value = R{med_value:,.2f}\");\n",
        "\n",
        "\n",
        "  sns.boxplot(data=df_sp, x = col, ax = axes[1])\n",
        "\n",
        "  ## Updating title of top graph\n",
        "  axes[0].set_title(f'EDA for {col}')\n",
        "\n",
        "  ## Fixing any overlapping labels and showing\n",
        "  plt.tight_layout()\n",
        "  plt.show()"
      ],
      "metadata": {
        "id": "Q-oD2OhnCHTU"
      },
      "execution_count": 64,
      "outputs": []
    },
    {
      "cell_type": "code",
      "source": [
        "plot_numeric(df_sp,'Item_Weight')"
      ],
      "metadata": {
        "colab": {
          "base_uri": "https://localhost:8080/",
          "height": 507
        },
        "id": "7g2r3idCCJhh",
        "outputId": "061c38f7-3594-4a99-9f61-9a220ce76b2f"
      },
      "execution_count": 65,
      "outputs": [
        {
          "output_type": "display_data",
          "data": {
            "text/plain": [
              "<Figure size 1000x500 with 2 Axes>"
            ],
            "image/png": "[encoded data removed]"
          },
          "metadata": {}
        }
      ]
    },
    {
      "cell_type": "code",
      "source": [
        "#Between 25% and 75%, i.e. the interquartile range, we have half of the item weights concentrated between 9.31 and 16.\n",
        "plot_numeric(df_sp,'Item_Outlet_Sales')"
      ],
      "metadata": {
        "colab": {
          "base_uri": "https://localhost:8080/",
          "height": 507
        },
        "id": "uQQ_nEldCm1g",
        "outputId": "aae8f0ba-0d10-49c5-e50d-4b1f2ccbfd04"
      },
      "execution_count": 66,
      "outputs": [
        {
          "output_type": "display_data",
          "data": {
            "text/plain": [
              "<Figure size 1000x500 with 2 Axes>"
            ],
            "image/png": "[encoded data removed]"
          },
          "metadata": {}
        }
      ]
    },
    {
      "cell_type": "markdown",
      "source": [
        "Outlet Sales are heavily distributed until the 3100 mark. Beyond the 6400 mark we find many outliers.\n",
        "\n",
        "Finally, we explore the different correlations between quantitative columns:\n"
      ],
      "metadata": {
        "id": "vadJJ0rLCzA2"
      }
    },
    {
      "cell_type": "markdown",
      "source": [
        "# **Heatmap to view the correlation between features.**"
      ],
      "metadata": {
        "id": "akCefP73DbiT"
      }
    },
    {
      "cell_type": "code",
      "source": [
        "sns.heatmap(df_sp.corr(),annot=True,cmap='coolwarm');"
      ],
      "metadata": {
        "colab": {
          "base_uri": "https://localhost:8080/",
          "height": 1000
        },
        "id": "L8KlKV_rDeBw",
        "outputId": "8072cbe9-c7c4-4fd2-caac-6aa1435bb1c3"
      },
      "execution_count": 67,
      "outputs": [
        {
          "output_type": "stream",
          "name": "stderr",
          "text": [
            "<ipython-input-67-d5cac0883f82>:1: FutureWarning: The default value of numeric_only in DataFrame.corr is deprecated. In a future version, it will default to False. Select only valid columns or specify the value of numeric_only to silence this warning.\n",
            "  sns.heatmap(df_sp.corr(),annot=True,cmap='coolwarm');\n"
          ]
        },
        {
          "output_type": "display_data",
          "data": {
            "text/plain": [
              "<Figure size 1280x880 with 2 Axes>"
            ],
            "image/png": "[encoded data removed]"
          },
          "metadata": {}
        }
      ]
    },
    {
      "cell_type": "markdown",
      "source": [
        "# **Project 1 - Part 4 (Core):**\n",
        "We will continue to work on your sales prediction project. The goal of this is to help the retailer understand the properties of products and outlets that play crucial roles in increasing sales.\n",
        "The target is Item_Outlet_Sales\n",
        "\n",
        "For Part 4, your task is to inspect the features:  \n",
        "For feature inspection, we want to be fully aware of any null values present so that we can make informed choices about data preparation for machine learning in the next course. Therefore, before you proceed,  \n",
        "\n",
        "**Remove the placeholders you added in week 2 and replace them with null values.**\n",
        "\n",
        "This will allow our functions to report the presence and frequency of null values as part of our EDA.​"
      ],
      "metadata": {
        "id": "tF-fJjICbdVC"
      }
    },
    {
      "cell_type": "code",
      "source": [
        "df_sp.isnull().sum()"
      ],
      "metadata": {
        "colab": {
          "base_uri": "https://localhost:8080/"
        },
        "id": "6CoozS3n2rPH",
        "outputId": "7b138867-3cf1-4340-cffc-ee5105104e68"
      },
      "execution_count": 85,
      "outputs": [
        {
          "output_type": "execute_result",
          "data": {
            "text/plain": [
              "Item_Identifier              0\n",
              "Item_Weight                  0\n",
              "Item_Fat_Content             0\n",
              "Item_Visibility              0\n",
              "Item_Type                    0\n",
              "Item_MRP                     0\n",
              "Outlet_Identifier            0\n",
              "Outlet_Establishment_Year    0\n",
              "Outlet_Size                  0\n",
              "Outlet_Location_Type         0\n",
              "Outlet_Type                  0\n",
              "Item_Outlet_Sales            0\n",
              "dtype: int64"
            ]
          },
          "metadata": {},
          "execution_count": 85
        }
      ]
    },
    {
      "cell_type": "code",
      "source": [
        "df_sp['Item_Weight'].replace(Most_frequent, np.nan, inplace=True)\n",
        "\n",
        "#df_sp['Item_Weight'].fillna(Most_frequent, inplace = True)"
      ],
      "metadata": {
        "id": "5_Abl4ptbwks"
      },
      "execution_count": 83,
      "outputs": []
    },
    {
      "cell_type": "code",
      "source": [
        "#Check for null values\n",
        "df_sp.isna().sum()"
      ],
      "metadata": {
        "colab": {
          "base_uri": "https://localhost:8080/"
        },
        "id": "aQpkhb_3EA2d",
        "outputId": "e2b3daa6-3a79-4fa2-d320-80e9a012bdef"
      },
      "execution_count": 84,
      "outputs": [
        {
          "output_type": "execute_result",
          "data": {
            "text/plain": [
              "Item_Identifier              0\n",
              "Item_Weight                  0\n",
              "Item_Fat_Content             0\n",
              "Item_Visibility              0\n",
              "Item_Type                    0\n",
              "Item_MRP                     0\n",
              "Outlet_Identifier            0\n",
              "Outlet_Establishment_Year    0\n",
              "Outlet_Size                  0\n",
              "Outlet_Location_Type         0\n",
              "Outlet_Type                  0\n",
              "Item_Outlet_Sales            0\n",
              "dtype: int64"
            ]
          },
          "metadata": {},
          "execution_count": 84
        }
      ]
    },
    {
      "cell_type": "markdown",
      "source": [
        "![Data Dictionary.png](data:image/png;base64,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)"
      ],
      "metadata": {
        "id": "Z8OnsCGsbUdA"
      }
    },
    {
      "cell_type": "code",
      "source": [
        "df = df_sp\n",
        "df.head()\n"
      ],
      "metadata": {
        "colab": {
          "base_uri": "https://localhost:8080/",
          "height": 206
        },
        "id": "PgVPG9tDHn_p",
        "outputId": "f559d123-e937-436c-b958-f90043f13479"
      },
      "execution_count": 75,
      "outputs": [
        {
          "output_type": "execute_result",
          "data": {
            "text/plain": [
              "  Item_Identifier  Item_Weight Item_Fat_Content  Item_Visibility  \\\n",
              "0           FDA15         9.30          Low Fat         0.016047   \n",
              "1           DRC01         5.92          Regular         0.019278   \n",
              "2           FDN15        17.50          Low Fat         0.016760   \n",
              "3           FDX07        19.20          Regular         0.000000   \n",
              "4           NCD19         8.93          Low Fat         0.000000   \n",
              "\n",
              "               Item_Type  Item_MRP Outlet_Identifier  \\\n",
              "0                  Dairy  249.8092            OUT049   \n",
              "1            Soft Drinks   48.2692            OUT018   \n",
              "2                   Meat  141.6180            OUT049   \n",
              "3  Fruits and Vegetables  182.0950            OUT010   \n",
              "4              Household   53.8614            OUT013   \n",
              "\n",
              "   Outlet_Establishment_Year Outlet_Size Outlet_Location_Type  \\\n",
              "0                       1999      Medium               Tier 1   \n",
              "1                       2009      Medium               Tier 3   \n",
              "2                       1999      Medium               Tier 1   \n",
              "3                       1998     Missing               Tier 3   \n",
              "4                       1987        High               Tier 3   \n",
              "\n",
              "         Outlet_Type  Item_Outlet_Sales  \n",
              "0  Supermarket Type1          3735.1380  \n",
              "1  Supermarket Type2           443.4228  \n",
              "2  Supermarket Type1          2097.2700  \n",
              "3  Supermarket Type4           732.3800  \n",
              "4  Supermarket Type1           994.7052  "
            ],
            "text/html": [
              "\n",
              "\n",
              "  <div id=\"df-5c9b45e1-480d-438c-af78-824a2f73ac0a\">\n",
              "    <div class=\"colab-df-container\">\n",
              "      <div>\n",
              "<style scoped>\n",
              "    .dataframe tbody tr th:only-of-type {\n",
              "        vertical-align: middle;\n",
              "    }\n",
              "\n",
              "    .dataframe tbody tr th {\n",
              "        vertical-align: top;\n",
              "    }\n",
              "\n",
              "    .dataframe thead th {\n",
              "        text-align: right;\n",
              "    }\n",
              "</style>\n",
              "<table border=\"1\" class=\"dataframe\">\n",
              "  <thead>\n",
              "    <tr style=\"text-align: right;\">\n",
              "      <th></th>\n",
              "      <th>Item_Identifier</th>\n",
              "      <th>Item_Weight</th>\n",
              "      <th>Item_Fat_Content</th>\n",
              "      <th>Item_Visibility</th>\n",
              "      <th>Item_Type</th>\n",
              "      <th>Item_MRP</th>\n",
              "      <th>Outlet_Identifier</th>\n",
              "      <th>Outlet_Establishment_Year</th>\n",
              "      <th>Outlet_Size</th>\n",
              "      <th>Outlet_Location_Type</th>\n",
              "      <th>Outlet_Type</th>\n",
              "      <th>Item_Outlet_Sales</th>\n",
              "    </tr>\n",
              "  </thead>\n",
              "  <tbody>\n",
              "    <tr>\n",
              "      <th>0</th>\n",
              "      <td>FDA15</td>\n",
              "      <td>9.30</td>\n",
              "      <td>Low Fat</td>\n",
              "      <td>0.016047</td>\n",
              "      <td>Dairy</td>\n",
              "      <td>249.8092</td>\n",
              "      <td>OUT049</td>\n",
              "      <td>1999</td>\n",
              "      <td>Medium</td>\n",
              "      <td>Tier 1</td>\n",
              "      <td>Supermarket Type1</td>\n",
              "      <td>3735.1380</td>\n",
              "    </tr>\n",
              "    <tr>\n",
              "      <th>1</th>\n",
              "      <td>DRC01</td>\n",
              "      <td>5.92</td>\n",
              "      <td>Regular</td>\n",
              "      <td>0.019278</td>\n",
              "      <td>Soft Drinks</td>\n",
              "      <td>48.2692</td>\n",
              "      <td>OUT018</td>\n",
              "      <td>2009</td>\n",
              "      <td>Medium</td>\n",
              "      <td>Tier 3</td>\n",
              "      <td>Supermarket Type2</td>\n",
              "      <td>443.4228</td>\n",
              "    </tr>\n",
              "    <tr>\n",
              "      <th>2</th>\n",
              "      <td>FDN15</td>\n",
              "      <td>17.50</td>\n",
              "      <td>Low Fat</td>\n",
              "      <td>0.016760</td>\n",
              "      <td>Meat</td>\n",
              "      <td>141.6180</td>\n",
              "      <td>OUT049</td>\n",
              "      <td>1999</td>\n",
              "      <td>Medium</td>\n",
              "      <td>Tier 1</td>\n",
              "      <td>Supermarket Type1</td>\n",
              "      <td>2097.2700</td>\n",
              "    </tr>\n",
              "    <tr>\n",
              "      <th>3</th>\n",
              "      <td>FDX07</td>\n",
              "      <td>19.20</td>\n",
              "      <td>Regular</td>\n",
              "      <td>0.000000</td>\n",
              "      <td>Fruits and Vegetables</td>\n",
              "      <td>182.0950</td>\n",
              "      <td>OUT010</td>\n",
              "      <td>1998</td>\n",
              "      <td>Missing</td>\n",
              "      <td>Tier 3</td>\n",
              "      <td>Supermarket Type4</td>\n",
              "      <td>732.3800</td>\n",
              "    </tr>\n",
              "    <tr>\n",
              "      <th>4</th>\n",
              "      <td>NCD19</td>\n",
              "      <td>8.93</td>\n",
              "      <td>Low Fat</td>\n",
              "      <td>0.000000</td>\n",
              "      <td>Household</td>\n",
              "      <td>53.8614</td>\n",
              "      <td>OUT013</td>\n",
              "      <td>1987</td>\n",
              "      <td>High</td>\n",
              "      <td>Tier 3</td>\n",
              "      <td>Supermarket Type1</td>\n",
              "      <td>994.7052</td>\n",
              "    </tr>\n",
              "  </tbody>\n",
              "</table>\n",
              "</div>\n",
              "      <button class=\"colab-df-convert\" onclick=\"convertToInteractive('df-5c9b45e1-480d-438c-af78-824a2f73ac0a')\"\n",
              "              title=\"Convert this dataframe to an interactive table.\"\n",
              "              style=\"display:none;\">\n",
              "\n",
              "  <svg xmlns=\"http://www.w3.org/2000/svg\" height=\"24px\"viewBox=\"0 0 24 24\"\n",
              "       width=\"24px\">\n",
              "    <path d=\"M0 0h24v24H0V0z\" fill=\"none\"/>\n",
              "    <path d=\"M18.56 5.44l.94 2.06.94-2.06 2.06-.94-2.06-.94-.94-2.06-.94 2.06-2.06.94zm-11 1L8.5 8.5l.94-2.06 2.06-.94-2.06-.94L8.5 2.5l-.94 2.06-2.06.94zm10 10l.94 2.06.94-2.06 2.06-.94-2.06-.94-.94-2.06-.94 2.06-2.06.94z\"/><path d=\"M17.41 7.96l-1.37-1.37c-.4-.4-.92-.59-1.43-.59-.52 0-1.04.2-1.43.59L10.3 9.45l-7.72 7.72c-.78.78-.78 2.05 0 2.83L4 21.41c.39.39.9.59 1.41.59.51 0 1.02-.2 1.41-.59l7.78-7.78 2.81-2.81c.8-.78.8-2.07 0-2.86zM5.41 20L4 18.59l7.72-7.72 1.47 1.35L5.41 20z\"/>\n",
              "  </svg>\n",
              "      </button>\n",
              "\n",
              "\n",
              "\n",
              "    <div id=\"df-cf8090c1-c8e9-484e-9391-3c2031c38d22\">\n",
              "      <button class=\"colab-df-quickchart\" onclick=\"quickchart('df-cf8090c1-c8e9-484e-9391-3c2031c38d22')\"\n",
              "              title=\"Suggest charts.\"\n",
              "              style=\"display:none;\">\n",
              "\n",
              "<svg xmlns=\"http://www.w3.org/2000/svg\" height=\"24px\"viewBox=\"0 0 24 24\"\n",
              "     width=\"24px\">\n",
              "    <g>\n",
              "        <path d=\"M19 3H5c-1.1 0-2 .9-2 2v14c0 1.1.9 2 2 2h14c1.1 0 2-.9 2-2V5c0-1.1-.9-2-2-2zM9 17H7v-7h2v7zm4 0h-2V7h2v10zm4 0h-2v-4h2v4z\"/>\n",
              "    </g>\n",
              "</svg>\n",
              "      </button>\n",
              "    </div>\n",
              "\n",
              "<style>\n",
              "  .colab-df-quickchart {\n",
              "    background-color: #E8F0FE;\n",
              "    border: none;\n",
              "    border-radius: 50%;\n",
              "    cursor: pointer;\n",
              "    display: none;\n",
              "    fill: #1967D2;\n",
              "    height: 32px;\n",
              "    padding: 0 0 0 0;\n",
              "    width: 32px;\n",
              "  }\n",
              "\n",
              "  .colab-df-quickchart:hover {\n",
              "    background-color: #E2EBFA;\n",
              "    box-shadow: 0px 1px 2px rgba(60, 64, 67, 0.3), 0px 1px 3px 1px rgba(60, 64, 67, 0.15);\n",
              "    fill: #174EA6;\n",
              "  }\n",
              "\n",
              "  [theme=dark] .colab-df-quickchart {\n",
              "    background-color: #3B4455;\n",
              "    fill: #D2E3FC;\n",
              "  }\n",
              "\n",
              "  [theme=dark] .colab-df-quickchart:hover {\n",
              "    background-color: #434B5C;\n",
              "    box-shadow: 0px 1px 3px 1px rgba(0, 0, 0, 0.15);\n",
              "    filter: drop-shadow(0px 1px 2px rgba(0, 0, 0, 0.3));\n",
              "    fill: #FFFFFF;\n",
              "  }\n",
              "</style>\n",
              "\n",
              "    <script>\n",
              "      async function quickchart(key) {\n",
              "        const containerElement = document.querySelector('#' + key);\n",
              "        const charts = await google.colab.kernel.invokeFunction(\n",
              "            'suggestCharts', [key], {});\n",
              "      }\n",
              "    </script>\n",
              "\n",
              "      <script>\n",
              "\n",
              "function displayQuickchartButton(domScope) {\n",
              "  let quickchartButtonEl =\n",
              "    domScope.querySelector('#df-cf8090c1-c8e9-484e-9391-3c2031c38d22 button.colab-df-quickchart');\n",
              "  quickchartButtonEl.style.display =\n",
              "    google.colab.kernel.accessAllowed ? 'block' : 'none';\n",
              "}\n",
              "\n",
              "        displayQuickchartButton(document);\n",
              "      </script>\n",
              "      <style>\n",
              "    .colab-df-container {\n",
              "      display:flex;\n",
              "      flex-wrap:wrap;\n",
              "      gap: 12px;\n",
              "    }\n",
              "\n",
              "    .colab-df-convert {\n",
              "      background-color: #E8F0FE;\n",
              "      border: none;\n",
              "      border-radius: 50%;\n",
              "      cursor: pointer;\n",
              "      display: none;\n",
              "      fill: #1967D2;\n",
              "      height: 32px;\n",
              "      padding: 0 0 0 0;\n",
              "      width: 32px;\n",
              "    }\n",
              "\n",
              "    .colab-df-convert:hover {\n",
              "      background-color: #E2EBFA;\n",
              "      box-shadow: 0px 1px 2px rgba(60, 64, 67, 0.3), 0px 1px 3px 1px rgba(60, 64, 67, 0.15);\n",
              "      fill: #174EA6;\n",
              "    }\n",
              "\n",
              "    [theme=dark] .colab-df-convert {\n",
              "      background-color: #3B4455;\n",
              "      fill: #D2E3FC;\n",
              "    }\n",
              "\n",
              "    [theme=dark] .colab-df-convert:hover {\n",
              "      background-color: #434B5C;\n",
              "      box-shadow: 0px 1px 3px 1px rgba(0, 0, 0, 0.15);\n",
              "      filter: drop-shadow(0px 1px 2px rgba(0, 0, 0, 0.3));\n",
              "      fill: #FFFFFF;\n",
              "    }\n",
              "  </style>\n",
              "\n",
              "      <script>\n",
              "        const buttonEl =\n",
              "          document.querySelector('#df-5c9b45e1-480d-438c-af78-824a2f73ac0a button.colab-df-convert');\n",
              "        buttonEl.style.display =\n",
              "          google.colab.kernel.accessAllowed ? 'block' : 'none';\n",
              "\n",
              "        async function convertToInteractive(key) {\n",
              "          const element = document.querySelector('#df-5c9b45e1-480d-438c-af78-824a2f73ac0a');\n",
              "          const dataTable =\n",
              "            await google.colab.kernel.invokeFunction('convertToInteractive',\n",
              "                                                     [key], {});\n",
              "          if (!dataTable) return;\n",
              "\n",
              "          const docLinkHtml = 'Like what you see? Visit the ' +\n",
              "            '<a target=\"_blank\" href=https://colab.research.google.com/notebooks/data_table.ipynb>data table notebook</a>'\n",
              "            + ' to learn more about interactive tables.';\n",
              "          element.innerHTML = '';\n",
              "          dataTable['output_type'] = 'display_data';\n",
              "          await google.colab.output.renderOutput(dataTable, element);\n",
              "          const docLink = document.createElement('div');\n",
              "          docLink.innerHTML = docLinkHtml;\n",
              "          element.appendChild(docLink);\n",
              "        }\n",
              "      </script>\n",
              "    </div>\n",
              "  </div>\n"
            ]
          },
          "metadata": {},
          "execution_count": 75
        }
      ]
    },
    {
      "cell_type": "code",
      "source": [],
      "metadata": {
        "id": "gxc7OcmuIiBW"
      },
      "execution_count": null,
      "outputs": []
    },
    {
      "cell_type": "markdown",
      "source": [
        "#**Univariate EDA Functions**"
      ],
      "metadata": {
        "id": "JpIRWKMWIobj"
      }
    },
    {
      "cell_type": "code",
      "source": [
        "# Basic imports for functions\n",
        "import matplotlib.pyplot as plt\n",
        "import seaborn as sns\n",
        "\n",
        "# UNIVARIATE PLOTTING FUNCTIONS FOR EDA\n",
        "def explore_categorical(df, x, fillna = True, placeholder = 'MISSING',\n",
        "                        figsize = (6,4), order = None):\n",
        "  \"\"\"Creates a seaborn countplot with the option to temporarily fill missing values\n",
        "  Prints statements about null values, cardinality, and checks for\n",
        "  constant/quasi-constant features.\n",
        "  Source:{PASTE IN FINAL LESSON LINK}\n",
        "  \"\"\"\n",
        "  # Make a copy of the dataframe and fillna\n",
        "  temp_df = df.copy()\n",
        "  # Before filling nulls, save null value counts and percent for printing\n",
        "  null_count = temp_df[x].isna().sum()\n",
        "  null_perc = null_count/len(temp_df)* 100\n",
        "  # fillna with placeholder\n",
        "  if fillna == True:\n",
        "    temp_df[x] = temp_df[x].fillna(placeholder)\n",
        "  # Create figure with desired figsize\n",
        "  fig, ax = plt.subplots(figsize=figsize)\n",
        "  # Plotting a count plot\n",
        "  sns.countplot(data=temp_df, x=x, ax=ax, order=order)\n",
        "  # Rotate Tick Labels for long names\n",
        "  ax.set_xticklabels(ax.get_xticklabels(), rotation=45, ha='right')\n",
        "  # Add a title with the feature name included\n",
        "  ax.set_title(f\"Column: {x}\", fontweight='bold')\n",
        "\n",
        "  # Fix layout and show plot (before print statements)\n",
        "  fig.tight_layout()\n",
        "  plt.show()\n",
        "\n",
        "  # Print null value info\n",
        "  print(f\"- NaN's Found: {null_count} ({round(null_perc,2)}%)\")\n",
        "  # Print cardinality info\n",
        "  nunique = temp_df[x].nunique()\n",
        "  print(f\"- Unique Values: {nunique}\")\n",
        "\n",
        "  # First find value counts of feature\n",
        "  val_counts = temp_df[x].value_counts(dropna=False)\n",
        "  # Define the most common value\n",
        "  most_common_val = val_counts.index[0]\n",
        "  # Define the frequency of the most common value\n",
        "  freq = val_counts.values[0]\n",
        "  # Calculate the percentage of the most common value\n",
        "  perc_most_common = freq / len(temp_df) * 100\n",
        "\n",
        "  # Print the results\n",
        "  print(f\"- Most common value: '{most_common_val}' occurs {freq} times ({round(perc_most_common,2)}%)\")\n",
        "  # print message if quasi-constant or constant (most common val more than 98% of data)\n",
        "  if perc_most_common > 98:\n",
        "    print(f\"\\n- [!] Warning: '{x}' is a constant or quasi-constant feature and should be dropped.\")\n",
        "  else:\n",
        "    print(\"- Not constant or quasi-constant.\")\n",
        "  return fig, ax\n",
        "\n",
        "\n",
        "def explore_numeric(df, x, figsize=(6,5) ):\n",
        "  \"\"\"Creates a seaborn histplot and boxplot with a share x-axis,\n",
        "  Prints statements about null values, cardinality, and checks for\n",
        "  constant/quasi-constant features.\n",
        "  Source:{PASTE IN FINAL LESSON LINK}\n",
        "  \"\"\"\n",
        "\n",
        "  ## Save null value counts and percent for printing\n",
        "  null_count = df[x].isna().sum()\n",
        "  null_perc = null_count/len(df)* 100\n",
        "\n",
        "\n",
        "  ## Making our figure with gridspec for subplots\n",
        "  gridspec = {'height_ratios':[0.7,0.3]}\n",
        "  fig, axes = plt.subplots(nrows=2, figsize=figsize,\n",
        "                           sharex=True, gridspec_kw=gridspec)\n",
        "  # Histogram on Top\n",
        "  sns.histplot(data=df, x=x, ax=axes[0])\n",
        "\n",
        "  # Boxplot on Bottom\n",
        "  sns.boxplot(data=df, x=x, ax=axes[1])\n",
        "\n",
        "  ## Adding a title\n",
        "  axes[0].set_title(f\"Column: {x}\", fontweight='bold')\n",
        "\n",
        "  ## Adjusting subplots to best fill Figure\n",
        "  fig.tight_layout()\n",
        "\n",
        "  # Ensure plot is shown before message\n",
        "  plt.show()\n",
        "\n",
        "\n",
        "  # Print null value info\n",
        "  print(f\"- NaN's Found: {null_count} ({round(null_perc,2)}%)\")\n",
        "  # Print cardinality info\n",
        "  nunique = df[x].nunique()\n",
        "  print(f\"- Unique Values: {nunique}\")\n",
        "\n",
        "\n",
        "  # Get the most most common value, its count as # and as %\n",
        "  most_common_val_count = df[x].value_counts(dropna=False).head(1)\n",
        "  most_common_val = most_common_val_count.index[0]\n",
        "  freq = most_common_val_count.values[0]\n",
        "  perc_most_common = freq / len(df) * 100\n",
        "\n",
        "  print(f\"- Most common value: '{most_common_val}' occurs {freq} times ({round(perc_most_common,2)}%)\")\n",
        "\n",
        "  # print message if quasi-constant or constant (most common val more than 98% of data)\n",
        "  if perc_most_common > 98:\n",
        "    print(f\"\\n- [!] Warning: '{x}' is a constant or quasi-constant feature and should be dropped.\")\n",
        "  else:\n",
        "    print(\"- Not constant or quasi-constant.\")\n",
        "  return fig, axes\n"
      ],
      "metadata": {
        "id": "MpERWZ3we2ny"
      },
      "execution_count": 76,
      "outputs": []
    },
    {
      "cell_type": "markdown",
      "source": [],
      "metadata": {
        "id": "sd-mJ2c1Ga-A"
      }
    },
    {
      "cell_type": "markdown",
      "source": [
        "#*Multivariate Feature vs. Target Functions.*"
      ],
      "metadata": {
        "id": "J9y4NiACesSa"
      }
    },
    {
      "cell_type": "code",
      "source": [
        "\"\"\"MULTIVARIATE PLOTTING FUNCTIONS VS. NUMERIC TARGET\"\"\"\n",
        "\n",
        "def plot_categorical_vs_target(df, x, y='charges',figsize=(6,4),\n",
        "                            fillna = True, placeholder = 'MISSING',\n",
        "                            order = None):\n",
        "  \"\"\"Plots a combination of a seaborn barplot of means combined with\n",
        "  a seaborn stripplot to show the spread of the data.\n",
        "  Source:{PASTE IN FINAL LESSON LINK}\n",
        "  \"\"\"\n",
        "  # Make a copy of the dataframe and fillna\n",
        "  temp_df = df.copy()\n",
        "  # fillna with placeholder\n",
        "  if fillna == True:\n",
        "    temp_df[x] = temp_df[x].fillna(placeholder)\n",
        "\n",
        "  # or drop nulls prevent unwanted 'nan' group in stripplot\n",
        "  else:\n",
        "    temp_df = temp_df.dropna(subset=[x])\n",
        "  # Create the figure and subplots\n",
        "  fig, ax = plt.subplots(figsize=figsize)\n",
        "\n",
        "    # Barplot\n",
        "  sns.barplot(data=temp_df, x=x, y=y, ax=ax, order=order, alpha=0.6,\n",
        "              linewidth=1, edgecolor='black', errorbar=None)\n",
        "\n",
        "  # Boxplot\n",
        "  sns.stripplot(data=temp_df, x=x, y=y, hue=x, ax=ax,\n",
        "                order=order, hue_order=order, legend=False,\n",
        "                edgecolor='white', linewidth=0.5,\n",
        "                size=3,zorder=0)\n",
        "  # Rotate xlabels\n",
        "  ax.set_xticklabels(ax.get_xticklabels(), rotation=45, ha='right')\n",
        "\n",
        "  # Add a title\n",
        "  ax.set_title(f\"{x} vs. {y}\", fontweight='bold')\n",
        "  fig.tight_layout()\n",
        "  return fig, ax\n",
        "\n",
        "\n",
        "def plot_numeric_vs_target(df, x, y='charges',\n",
        "                           figsize=(6,4)):\n",
        "  \"\"\"Plots a seaborn regplot with Pearson's correlation (r) added\n",
        "  to the title.\n",
        "  Source:{PASTE IN FINAL LESSON LINK}\n",
        "  \"\"\"\n",
        "  # Calculate the correlation\n",
        "  corr = df[[x,y]].corr().round(2)\n",
        "  r = corr.loc[x,y]\n",
        "\n",
        "  # Plot the data\n",
        "  fig, ax = plt.subplots(figsize=figsize)\n",
        "  scatter_kws={'ec':'white','lw':1,'alpha':0.8}\n",
        "  sns.regplot(data=df, x=x, y=y, ax=ax, scatter_kws=scatter_kws)\n",
        "\n",
        "  ## Add the title with the correlation\n",
        "  ax.set_title(f\"{x} vs. {y} (r = {r})\", fontweight='bold')\n",
        "\n",
        "  # Make sure the plot is shown before the print statement\n",
        "  plt.show()\n",
        "\n",
        "  return fig, ax"
      ],
      "metadata": {
        "id": "BPI8D9wNI_tM"
      },
      "execution_count": null,
      "outputs": []
    },
    {
      "cell_type": "markdown",
      "source": [
        "# For each feature:\n",
        "\n",
        "- Add a new markdown header.\n",
        "\n",
        "- Paste the feature's definition from the data dictionary into a markdown cell."
      ],
      "metadata": {
        "id": "sXgZf5FggbGQ"
      }
    },
    {
      "cell_type": "markdown",
      "source": [
        "#*Feature list and Inspection:*\n",
        "Item_Weight\\\n",
        "Item_Fat_Content\\\n",
        "Item_Visibility\\\n",
        "Item_Type\\\n",
        "Item_MRP\\\n",
        "Outlet_Identifier\\\n",
        "Outlet_Establishment_Year\\\n",
        "Outlet_Size\\\n",
        "Outlet_Location_Type\\\n",
        "Outlet_Type"
      ],
      "metadata": {
        "id": "9Nb98h_OLAqp"
      }
    },
    {
      "cell_type": "markdown",
      "source": [
        "# Item_Identifier\n",
        "Product ID"
      ],
      "metadata": {
        "id": "KUdlsjVL_6jt"
      }
    },
    {
      "cell_type": "code",
      "source": [
        "feature = \"Item_Identifier\"\n",
        "target = \"Item_Outlet_Sales\"\n",
        "\n",
        "df[feature].dtype"
      ],
      "metadata": {
        "colab": {
          "base_uri": "https://localhost:8080/"
        },
        "id": "XITMy4UaCheV",
        "outputId": "8e4f63ad-d01d-4300-9013-4d4b65c8b477"
      },
      "execution_count": 79,
      "outputs": [
        {
          "output_type": "execute_result",
          "data": {
            "text/plain": [
              "dtype('O')"
            ]
          },
          "metadata": {},
          "execution_count": 79
        }
      ]
    },
    {
      "cell_type": "code",
      "source": [
        "#Confirming the dtype to select correct EDA function\n",
        "feature = \"Item_Weight\"\n",
        "target = \"Item_Outlet_Sales\"\n",
        "\n",
        "df[feature].dtype"
      ],
      "metadata": {
        "colab": {
          "base_uri": "https://localhost:8080/"
        },
        "id": "MeMJ_EBIJG19",
        "outputId": "09b91672-86de-4d3f-fe28-9a1fba64ab2d"
      },
      "execution_count": 77,
      "outputs": [
        {
          "output_type": "execute_result",
          "data": {
            "text/plain": [
              "dtype('float64')"
            ]
          },
          "metadata": {},
          "execution_count": 77
        }
      ]
    },
    {
      "cell_type": "code",
      "source": [
        "#Numerical field\n",
        "explore_numeric(df, feature, figsize=(6,5) )"
      ],
      "metadata": {
        "colab": {
          "base_uri": "https://localhost:8080/",
          "height": 628
        },
        "id": "W-U1dxe4JJzj",
        "outputId": "56aca808-20a8-458a-a944-7fb92e95b8ee"
      },
      "execution_count": 78,
      "outputs": [
        {
          "output_type": "display_data",
          "data": {
            "text/plain": [
              "<Figure size 600x500 with 2 Axes>"
            ],
            "image/png": "[encoded data removed]"
          },
          "metadata": {}
        },
        {
          "output_type": "stream",
          "name": "stdout",
          "text": [
            "- NaN's Found: 1549 (18.17%)\n",
            "- Unique Values: 414\n",
            "- Most common value: 'nan' occurs 1549 times (18.17%)\n",
            "- Not constant or quasi-constant.\n"
          ]
        },
        {
          "output_type": "execute_result",
          "data": {
            "text/plain": [
              "(<Figure size 600x500 with 2 Axes>,\n",
              " array([<Axes: title={'center': 'Column: Item_Weight'}, xlabel='Item_Weight', ylabel='Count'>,\n",
              "        <Axes: xlabel='Item_Weight'>], dtype=object))"
            ]
          },
          "metadata": {},
          "execution_count": 78
        }
      ]
    },
    {
      "cell_type": "markdown",
      "source": [
        "# **Answer the following questions from the Feature Inspection lesson in a markdown cell:**\n",
        "\n",
        "- What type of feature is it? (Categorical (nominal), ordinal, *numeric)\\  Numeric\n",
        "\n",
        "---\n",
        "\n",
        "- How many null values? What percentage? What would you do with the null values (drop the rows? drop the column? impute? If impute, with what?)\n",
        "\n",
        "---\n",
        "\n",
        "- Is the feature constant or quasi-constant?\n",
        "\n",
        "---\n",
        "\n",
        "- What is the cardinality? Is it high (>10)?\n",
        "\n",
        "---\n",
        "\n",
        "- Would we know this feature before the target is determined?\n",
        "---\n",
        "\n",
        "- Is there a business case/understanding reason to exclude based on our business case?\n",
        "\n",
        "---"
      ],
      "metadata": {
        "id": "4rILLyN8JaV8"
      }
    },
    {
      "cell_type": "markdown",
      "source": [
        "# Item_Fat_Content\n",
        "Whether the product is low-fat or regular"
      ],
      "metadata": {
        "id": "X059-a3V_6JJ"
      }
    },
    {
      "cell_type": "markdown",
      "source": [
        "# **Answer the following questions from the Feature Inspection lesson in a markdown cell:**\n",
        "\n",
        "- What type of feature is it? (Categorical (nominal), ordinal, numeric)\n",
        "- How many null values? What percentage? What would you do with the null values (drop the rows? drop the column? impute? If impute, with what?)\n",
        "- Is the feature constant or quasi-constant?\n",
        "- What is the cardinality? Is it high (>10)?\n",
        "- Would we know this feature before the target is determined?\n",
        "- Is there a business case/understanding reason to exclude based on our business case?"
      ],
      "metadata": {
        "id": "KbwROJLEJV31"
      }
    },
    {
      "cell_type": "markdown",
      "source": [
        "# Item_Visibility\n",
        "The percentage of total display area of all products in a store allocated to the particular product"
      ],
      "metadata": {
        "id": "_8SN6Br-_5_q"
      }
    },
    {
      "cell_type": "markdown",
      "source": [
        "# Item_Type\n",
        "The category to which the product belongs"
      ],
      "metadata": {
        "id": "favzYr8t_5yJ"
      }
    },
    {
      "cell_type": "markdown",
      "source": [
        "#Item_MRP\n",
        "Maximum Retail Price (list price) of the product\n"
      ],
      "metadata": {
        "id": "TxngIZD2_5fE"
      }
    },
    {
      "cell_type": "markdown",
      "source": [
        "#Outlet_Identifier\n",
        "Store ID\n"
      ],
      "metadata": {
        "id": "2ya9o-D2_4W3"
      }
    },
    {
      "cell_type": "markdown",
      "source": [
        "#Outlet_Establishment_Year\tThe year in which store was established\n"
      ],
      "metadata": {
        "id": "c5CfL5eY_4LN"
      }
    },
    {
      "cell_type": "markdown",
      "source": [
        "Outlet_Size\tThe size of the store in terms of ground area covered\n"
      ],
      "metadata": {
        "id": "BaMt3gIW_39M"
      }
    },
    {
      "cell_type": "markdown",
      "source": [
        "# Outlet_Location_Type\n",
        "The type of area in which the store is located\n"
      ],
      "metadata": {
        "id": "VlgSUu2l_3za"
      }
    },
    {
      "cell_type": "markdown",
      "source": [
        "#Outlet_Type\n",
        "Whether the outlet is a grocery store or some sort of supermarket"
      ],
      "metadata": {
        "id": "KGHU_F-BBxZT"
      }
    },
    {
      "cell_type": "markdown",
      "source": [
        "# Item_Outlet_Sales\n",
        "Sales of the product in the particular store. This is the target variable to be predicted."
      ],
      "metadata": {
        "id": "WQpS0YnkBxRE"
      }
    },
    {
      "cell_type": "markdown",
      "source": [],
      "metadata": {
        "id": "Ya6d5qTXBxF4"
      }
    },
    {
      "cell_type": "markdown",
      "source": [],
      "metadata": {
        "id": "kZmZ-FEOBw7W"
      }
    },
    {
      "cell_type": "markdown",
      "source": [
        "\n",
        "- Create a univariate visualization showing the distribution of values/categories.\n",
        "    - You may use the EDA functions from the previous lessons or create your own visualizations."
      ],
      "metadata": {
        "id": "hTOpPJIHetFE"
      }
    },
    {
      "cell_type": "markdown",
      "source": [
        "# **Answer the following questions from the Feature Inspection lesson in a markdown cell:**\n",
        "\n",
        "- What type of feature is it? (Categorical (nominal), ordinal, numeric)\n",
        "- How many null values? What percentage? What would you do with the null values (drop the rows? drop the column? impute? If impute, with what?)\n",
        "- Is the feature constant or quasi-constant?\n",
        "- What is the cardinality? Is it high (>10)?\n",
        "- Would we know this feature before the target is determined?\n",
        "- Is there a business case/understanding reason to exclude based on our business case?"
      ],
      "metadata": {
        "id": "L7EF5hTSfRpj"
      }
    },
    {
      "cell_type": "markdown",
      "source": [
        "# Create a multivariate visualization plotting each feature vs. the target.\n",
        "- You may use the EDA functions from the previous lessons or create your own visualizations.​"
      ],
      "metadata": {
        "id": "sgd--kBPcYsp"
      }
    },
    {
      "cell_type": "markdown",
      "source": [
        "# Answer the following questions from the Feature Inspection lesson in a Markdown cell:\n",
        "\n",
        "- Based on your business understanding, would you expect this feature to be a predictor of the target?\n",
        "\n",
        "- Does this feature appear to be a predictor of the target?"
      ],
      "metadata": {
        "id": "025trdh2cCF7"
      }
    }
  ]
}