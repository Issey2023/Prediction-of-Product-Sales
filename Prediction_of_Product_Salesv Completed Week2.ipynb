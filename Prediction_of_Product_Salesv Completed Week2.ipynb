{
  "nbformat": 4,
  "nbformat_minor": 0,
  "metadata": {
    "colab": {
      "provenance": [],
      "include_colab_link": true
    },
    "kernelspec": {
      "name": "python3",
      "display_name": "Python 3"
    },
    "language_info": {
      "name": "python"
    }
  },
  "cells": [
    {
      "cell_type": "markdown",
      "metadata": {
        "id": "view-in-github",
        "colab_type": "text"
      },
      "source": [
        "<a href=\"https://colab.research.google.com/github/Issey2023/Prediction-of-Product-Sales/blob/main/Prediction_of_Product_Salesv%20Completed%20Week2.ipynb\" target=\"_parent\"><img src=\"https://colab.research.google.com/assets/colab-badge.svg\" alt=\"Open In Colab\"/></a>"
      ]
    },
    {
      "cell_type": "markdown",
      "source": [
        "# Prediction of Product Sales"
      ],
      "metadata": {
        "id": "zDUmCCOeolSX"
      }
    },
    {
      "cell_type": "markdown",
      "source": [
        "- Author: Ismaa-eel Hendricks"
      ],
      "metadata": {
        "id": "Gd98hDJgoxXy"
      }
    },
    {
      "cell_type": "markdown",
      "source": [
        "## Project Overview"
      ],
      "metadata": {
        "id": "elvGwIJvo4Ff"
      }
    },
    {
      "cell_type": "markdown",
      "source": [
        "Sales prediction for food items sold at various stores. The goal of this is to help the retailer understand the properties of products and outlets that play crucial roles in increasing sales."
      ],
      "metadata": {
        "id": "HIe6ng0eo_a1"
      }
    },
    {
      "cell_type": "markdown",
      "source": [
        "## Loading Data\n"
      ],
      "metadata": {
        "id": "QHazbY_mo9eK"
      }
    },
    {
      "cell_type": "code",
      "source": [
        "#mount Google drive\n",
        "from google.colab import drive\n",
        "drive.mount('/content/drive')"
      ],
      "metadata": {
        "id": "I6BwYjxRpDit",
        "outputId": "c57460d8-18a3-491e-8b1a-1077bbd26063",
        "colab": {
          "base_uri": "https://localhost:8080/"
        }
      },
      "execution_count": 40,
      "outputs": [
        {
          "output_type": "stream",
          "name": "stdout",
          "text": [
            "Drive already mounted at /content/drive; to attempt to forcibly remount, call drive.mount(\"/content/drive\", force_remount=True).\n"
          ]
        }
      ]
    },
    {
      "cell_type": "code",
      "source": [
        "#import libraries\n",
        "import pandas as pd\n",
        "import numpy as np\n",
        "import statistics\n",
        "from pandas.core.arrays import string_\n",
        "import missingno as msno\n",
        "import seaborn as sns\n",
        "import matplotlib.pyplot as plt\n",
        "from re import M"
      ],
      "metadata": {
        "id": "NQfYCm0UkW9V"
      },
      "execution_count": 41,
      "outputs": []
    },
    {
      "cell_type": "code",
      "source": [
        "#load file path\n",
        "fpath = '/content/drive/MyDrive/week 2 data folder/core project part 2/sales_predictions_2023.csv'"
      ],
      "metadata": {
        "id": "VzhGs8LrkrNy"
      },
      "execution_count": 42,
      "outputs": []
    },
    {
      "cell_type": "code",
      "source": [
        "df_sp= pd.read_csv(fpath)"
      ],
      "metadata": {
        "id": "q5M_zunhksRz"
      },
      "execution_count": 43,
      "outputs": []
    },
    {
      "cell_type": "code",
      "source": [
        "#view data\n",
        "df_sp.head()"
      ],
      "metadata": {
        "id": "nhRSbTdGk-vO",
        "colab": {
          "base_uri": "https://localhost:8080/",
          "height": 357
        },
        "outputId": "e7120deb-9e7d-4564-8d91-4b2707dd49f2"
      },
      "execution_count": 44,
      "outputs": [
        {
          "output_type": "execute_result",
          "data": {
            "text/plain": [
              "  Item_Identifier  Item_Weight Item_Fat_Content  Item_Visibility  \\\n",
              "0           FDA15         9.30          Low Fat         0.016047   \n",
              "1           DRC01         5.92          Regular         0.019278   \n",
              "2           FDN15        17.50          Low Fat         0.016760   \n",
              "3           FDX07        19.20          Regular         0.000000   \n",
              "4           NCD19         8.93          Low Fat         0.000000   \n",
              "\n",
              "               Item_Type  Item_MRP Outlet_Identifier  \\\n",
              "0                  Dairy  249.8092            OUT049   \n",
              "1            Soft Drinks   48.2692            OUT018   \n",
              "2                   Meat  141.6180            OUT049   \n",
              "3  Fruits and Vegetables  182.0950            OUT010   \n",
              "4              Household   53.8614            OUT013   \n",
              "\n",
              "   Outlet_Establishment_Year Outlet_Size Outlet_Location_Type  \\\n",
              "0                       1999      Medium               Tier 1   \n",
              "1                       2009      Medium               Tier 3   \n",
              "2                       1999      Medium               Tier 1   \n",
              "3                       1998         NaN               Tier 3   \n",
              "4                       1987        High               Tier 3   \n",
              "\n",
              "         Outlet_Type  Item_Outlet_Sales  \n",
              "0  Supermarket Type1          3735.1380  \n",
              "1  Supermarket Type2           443.4228  \n",
              "2  Supermarket Type1          2097.2700  \n",
              "3      Grocery Store           732.3800  \n",
              "4  Supermarket Type1           994.7052  "
            ],
            "text/html": [
              "\n",
              "\n",
              "  <div id=\"df-ff052820-4239-4cbc-9bb9-999163d978c8\">\n",
              "    <div class=\"colab-df-container\">\n",
              "      <div>\n",
              "<style scoped>\n",
              "    .dataframe tbody tr th:only-of-type {\n",
              "        vertical-align: middle;\n",
              "    }\n",
              "\n",
              "    .dataframe tbody tr th {\n",
              "        vertical-align: top;\n",
              "    }\n",
              "\n",
              "    .dataframe thead th {\n",
              "        text-align: right;\n",
              "    }\n",
              "</style>\n",
              "<table border=\"1\" class=\"dataframe\">\n",
              "  <thead>\n",
              "    <tr style=\"text-align: right;\">\n",
              "      <th></th>\n",
              "      <th>Item_Identifier</th>\n",
              "      <th>Item_Weight</th>\n",
              "      <th>Item_Fat_Content</th>\n",
              "      <th>Item_Visibility</th>\n",
              "      <th>Item_Type</th>\n",
              "      <th>Item_MRP</th>\n",
              "      <th>Outlet_Identifier</th>\n",
              "      <th>Outlet_Establishment_Year</th>\n",
              "      <th>Outlet_Size</th>\n",
              "      <th>Outlet_Location_Type</th>\n",
              "      <th>Outlet_Type</th>\n",
              "      <th>Item_Outlet_Sales</th>\n",
              "    </tr>\n",
              "  </thead>\n",
              "  <tbody>\n",
              "    <tr>\n",
              "      <th>0</th>\n",
              "      <td>FDA15</td>\n",
              "      <td>9.30</td>\n",
              "      <td>Low Fat</td>\n",
              "      <td>0.016047</td>\n",
              "      <td>Dairy</td>\n",
              "      <td>249.8092</td>\n",
              "      <td>OUT049</td>\n",
              "      <td>1999</td>\n",
              "      <td>Medium</td>\n",
              "      <td>Tier 1</td>\n",
              "      <td>Supermarket Type1</td>\n",
              "      <td>3735.1380</td>\n",
              "    </tr>\n",
              "    <tr>\n",
              "      <th>1</th>\n",
              "      <td>DRC01</td>\n",
              "      <td>5.92</td>\n",
              "      <td>Regular</td>\n",
              "      <td>0.019278</td>\n",
              "      <td>Soft Drinks</td>\n",
              "      <td>48.2692</td>\n",
              "      <td>OUT018</td>\n",
              "      <td>2009</td>\n",
              "      <td>Medium</td>\n",
              "      <td>Tier 3</td>\n",
              "      <td>Supermarket Type2</td>\n",
              "      <td>443.4228</td>\n",
              "    </tr>\n",
              "    <tr>\n",
              "      <th>2</th>\n",
              "      <td>FDN15</td>\n",
              "      <td>17.50</td>\n",
              "      <td>Low Fat</td>\n",
              "      <td>0.016760</td>\n",
              "      <td>Meat</td>\n",
              "      <td>141.6180</td>\n",
              "      <td>OUT049</td>\n",
              "      <td>1999</td>\n",
              "      <td>Medium</td>\n",
              "      <td>Tier 1</td>\n",
              "      <td>Supermarket Type1</td>\n",
              "      <td>2097.2700</td>\n",
              "    </tr>\n",
              "    <tr>\n",
              "      <th>3</th>\n",
              "      <td>FDX07</td>\n",
              "      <td>19.20</td>\n",
              "      <td>Regular</td>\n",
              "      <td>0.000000</td>\n",
              "      <td>Fruits and Vegetables</td>\n",
              "      <td>182.0950</td>\n",
              "      <td>OUT010</td>\n",
              "      <td>1998</td>\n",
              "      <td>NaN</td>\n",
              "      <td>Tier 3</td>\n",
              "      <td>Grocery Store</td>\n",
              "      <td>732.3800</td>\n",
              "    </tr>\n",
              "    <tr>\n",
              "      <th>4</th>\n",
              "      <td>NCD19</td>\n",
              "      <td>8.93</td>\n",
              "      <td>Low Fat</td>\n",
              "      <td>0.000000</td>\n",
              "      <td>Household</td>\n",
              "      <td>53.8614</td>\n",
              "      <td>OUT013</td>\n",
              "      <td>1987</td>\n",
              "      <td>High</td>\n",
              "      <td>Tier 3</td>\n",
              "      <td>Supermarket Type1</td>\n",
              "      <td>994.7052</td>\n",
              "    </tr>\n",
              "  </tbody>\n",
              "</table>\n",
              "</div>\n",
              "      <button class=\"colab-df-convert\" onclick=\"convertToInteractive('df-ff052820-4239-4cbc-9bb9-999163d978c8')\"\n",
              "              title=\"Convert this dataframe to an interactive table.\"\n",
              "              style=\"display:none;\">\n",
              "\n",
              "  <svg xmlns=\"http://www.w3.org/2000/svg\" height=\"24px\"viewBox=\"0 0 24 24\"\n",
              "       width=\"24px\">\n",
              "    <path d=\"M0 0h24v24H0V0z\" fill=\"none\"/>\n",
              "    <path d=\"M18.56 5.44l.94 2.06.94-2.06 2.06-.94-2.06-.94-.94-2.06-.94 2.06-2.06.94zm-11 1L8.5 8.5l.94-2.06 2.06-.94-2.06-.94L8.5 2.5l-.94 2.06-2.06.94zm10 10l.94 2.06.94-2.06 2.06-.94-2.06-.94-.94-2.06-.94 2.06-2.06.94z\"/><path d=\"M17.41 7.96l-1.37-1.37c-.4-.4-.92-.59-1.43-.59-.52 0-1.04.2-1.43.59L10.3 9.45l-7.72 7.72c-.78.78-.78 2.05 0 2.83L4 21.41c.39.39.9.59 1.41.59.51 0 1.02-.2 1.41-.59l7.78-7.78 2.81-2.81c.8-.78.8-2.07 0-2.86zM5.41 20L4 18.59l7.72-7.72 1.47 1.35L5.41 20z\"/>\n",
              "  </svg>\n",
              "      </button>\n",
              "\n",
              "\n",
              "\n",
              "    <div id=\"df-5627b7d0-4815-42ae-b4cb-7d64bd6335f4\">\n",
              "      <button class=\"colab-df-quickchart\" onclick=\"quickchart('df-5627b7d0-4815-42ae-b4cb-7d64bd6335f4')\"\n",
              "              title=\"Suggest charts.\"\n",
              "              style=\"display:none;\">\n",
              "\n",
              "<svg xmlns=\"http://www.w3.org/2000/svg\" height=\"24px\"viewBox=\"0 0 24 24\"\n",
              "     width=\"24px\">\n",
              "    <g>\n",
              "        <path d=\"M19 3H5c-1.1 0-2 .9-2 2v14c0 1.1.9 2 2 2h14c1.1 0 2-.9 2-2V5c0-1.1-.9-2-2-2zM9 17H7v-7h2v7zm4 0h-2V7h2v10zm4 0h-2v-4h2v4z\"/>\n",
              "    </g>\n",
              "</svg>\n",
              "      </button>\n",
              "    </div>\n",
              "\n",
              "<style>\n",
              "  .colab-df-quickchart {\n",
              "    background-color: #E8F0FE;\n",
              "    border: none;\n",
              "    border-radius: 50%;\n",
              "    cursor: pointer;\n",
              "    display: none;\n",
              "    fill: #1967D2;\n",
              "    height: 32px;\n",
              "    padding: 0 0 0 0;\n",
              "    width: 32px;\n",
              "  }\n",
              "\n",
              "  .colab-df-quickchart:hover {\n",
              "    background-color: #E2EBFA;\n",
              "    box-shadow: 0px 1px 2px rgba(60, 64, 67, 0.3), 0px 1px 3px 1px rgba(60, 64, 67, 0.15);\n",
              "    fill: #174EA6;\n",
              "  }\n",
              "\n",
              "  [theme=dark] .colab-df-quickchart {\n",
              "    background-color: #3B4455;\n",
              "    fill: #D2E3FC;\n",
              "  }\n",
              "\n",
              "  [theme=dark] .colab-df-quickchart:hover {\n",
              "    background-color: #434B5C;\n",
              "    box-shadow: 0px 1px 3px 1px rgba(0, 0, 0, 0.15);\n",
              "    filter: drop-shadow(0px 1px 2px rgba(0, 0, 0, 0.3));\n",
              "    fill: #FFFFFF;\n",
              "  }\n",
              "</style>\n",
              "\n",
              "    <script>\n",
              "      async function quickchart(key) {\n",
              "        const containerElement = document.querySelector('#' + key);\n",
              "        const charts = await google.colab.kernel.invokeFunction(\n",
              "            'suggestCharts', [key], {});\n",
              "      }\n",
              "    </script>\n",
              "\n",
              "      <script>\n",
              "\n",
              "function displayQuickchartButton(domScope) {\n",
              "  let quickchartButtonEl =\n",
              "    domScope.querySelector('#df-5627b7d0-4815-42ae-b4cb-7d64bd6335f4 button.colab-df-quickchart');\n",
              "  quickchartButtonEl.style.display =\n",
              "    google.colab.kernel.accessAllowed ? 'block' : 'none';\n",
              "}\n",
              "\n",
              "        displayQuickchartButton(document);\n",
              "      </script>\n",
              "      <style>\n",
              "    .colab-df-container {\n",
              "      display:flex;\n",
              "      flex-wrap:wrap;\n",
              "      gap: 12px;\n",
              "    }\n",
              "\n",
              "    .colab-df-convert {\n",
              "      background-color: #E8F0FE;\n",
              "      border: none;\n",
              "      border-radius: 50%;\n",
              "      cursor: pointer;\n",
              "      display: none;\n",
              "      fill: #1967D2;\n",
              "      height: 32px;\n",
              "      padding: 0 0 0 0;\n",
              "      width: 32px;\n",
              "    }\n",
              "\n",
              "    .colab-df-convert:hover {\n",
              "      background-color: #E2EBFA;\n",
              "      box-shadow: 0px 1px 2px rgba(60, 64, 67, 0.3), 0px 1px 3px 1px rgba(60, 64, 67, 0.15);\n",
              "      fill: #174EA6;\n",
              "    }\n",
              "\n",
              "    [theme=dark] .colab-df-convert {\n",
              "      background-color: #3B4455;\n",
              "      fill: #D2E3FC;\n",
              "    }\n",
              "\n",
              "    [theme=dark] .colab-df-convert:hover {\n",
              "      background-color: #434B5C;\n",
              "      box-shadow: 0px 1px 3px 1px rgba(0, 0, 0, 0.15);\n",
              "      filter: drop-shadow(0px 1px 2px rgba(0, 0, 0, 0.3));\n",
              "      fill: #FFFFFF;\n",
              "    }\n",
              "  </style>\n",
              "\n",
              "      <script>\n",
              "        const buttonEl =\n",
              "          document.querySelector('#df-ff052820-4239-4cbc-9bb9-999163d978c8 button.colab-df-convert');\n",
              "        buttonEl.style.display =\n",
              "          google.colab.kernel.accessAllowed ? 'block' : 'none';\n",
              "\n",
              "        async function convertToInteractive(key) {\n",
              "          const element = document.querySelector('#df-ff052820-4239-4cbc-9bb9-999163d978c8');\n",
              "          const dataTable =\n",
              "            await google.colab.kernel.invokeFunction('convertToInteractive',\n",
              "                                                     [key], {});\n",
              "          if (!dataTable) return;\n",
              "\n",
              "          const docLinkHtml = 'Like what you see? Visit the ' +\n",
              "            '<a target=\"_blank\" href=https://colab.research.google.com/notebooks/data_table.ipynb>data table notebook</a>'\n",
              "            + ' to learn more about interactive tables.';\n",
              "          element.innerHTML = '';\n",
              "          dataTable['output_type'] = 'display_data';\n",
              "          await google.colab.output.renderOutput(dataTable, element);\n",
              "          const docLink = document.createElement('div');\n",
              "          docLink.innerHTML = docLinkHtml;\n",
              "          element.appendChild(docLink);\n",
              "        }\n",
              "      </script>\n",
              "    </div>\n",
              "  </div>\n"
            ]
          },
          "metadata": {},
          "execution_count": 44
        }
      ]
    },
    {
      "cell_type": "code",
      "source": [
        "#creat another df, so we do not loose the original data.\n",
        "df2 = df_sp.copy()"
      ],
      "metadata": {
        "id": "q4xWhyEJltXc"
      },
      "execution_count": 45,
      "outputs": []
    },
    {
      "cell_type": "markdown",
      "source": [
        "# **Data Cleaning**"
      ],
      "metadata": {
        "id": "UUiKLpzSmIvr"
      }
    },
    {
      "cell_type": "code",
      "source": [
        "df_sp.info()"
      ],
      "metadata": {
        "id": "xN5YWls8mGWx",
        "colab": {
          "base_uri": "https://localhost:8080/"
        },
        "outputId": "cc51aecf-93f2-47ef-f341-e877fae5bbdb"
      },
      "execution_count": 46,
      "outputs": [
        {
          "output_type": "stream",
          "name": "stdout",
          "text": [
            "<class 'pandas.core.frame.DataFrame'>\n",
            "RangeIndex: 8523 entries, 0 to 8522\n",
            "Data columns (total 12 columns):\n",
            " #   Column                     Non-Null Count  Dtype  \n",
            "---  ------                     --------------  -----  \n",
            " 0   Item_Identifier            8523 non-null   object \n",
            " 1   Item_Weight                7060 non-null   float64\n",
            " 2   Item_Fat_Content           8523 non-null   object \n",
            " 3   Item_Visibility            8523 non-null   float64\n",
            " 4   Item_Type                  8523 non-null   object \n",
            " 5   Item_MRP                   8523 non-null   float64\n",
            " 6   Outlet_Identifier          8523 non-null   object \n",
            " 7   Outlet_Establishment_Year  8523 non-null   int64  \n",
            " 8   Outlet_Size                6113 non-null   object \n",
            " 9   Outlet_Location_Type       8523 non-null   object \n",
            " 10  Outlet_Type                8523 non-null   object \n",
            " 11  Item_Outlet_Sales          8523 non-null   float64\n",
            "dtypes: float64(4), int64(1), object(7)\n",
            "memory usage: 799.2+ KB\n"
          ]
        }
      ]
    },
    {
      "cell_type": "code",
      "source": [
        "df_sp.describe()"
      ],
      "metadata": {
        "id": "Qcg3rl2CmUQB",
        "colab": {
          "base_uri": "https://localhost:8080/",
          "height": 300
        },
        "outputId": "c70d9033-9bf1-41d2-ba23-583e5ed1be2e"
      },
      "execution_count": 47,
      "outputs": [
        {
          "output_type": "execute_result",
          "data": {
            "text/plain": [
              "       Item_Weight  Item_Visibility     Item_MRP  Outlet_Establishment_Year  \\\n",
              "count  7060.000000      8523.000000  8523.000000                8523.000000   \n",
              "mean     12.857645         0.066132   140.992782                1997.831867   \n",
              "std       4.643456         0.051598    62.275067                   8.371760   \n",
              "min       4.555000         0.000000    31.290000                1985.000000   \n",
              "25%       8.773750         0.026989    93.826500                1987.000000   \n",
              "50%      12.600000         0.053931   143.012800                1999.000000   \n",
              "75%      16.850000         0.094585   185.643700                2004.000000   \n",
              "max      21.350000         0.328391   266.888400                2009.000000   \n",
              "\n",
              "       Item_Outlet_Sales  \n",
              "count        8523.000000  \n",
              "mean         2181.288914  \n",
              "std          1706.499616  \n",
              "min            33.290000  \n",
              "25%           834.247400  \n",
              "50%          1794.331000  \n",
              "75%          3101.296400  \n",
              "max         13086.964800  "
            ],
            "text/html": [
              "\n",
              "\n",
              "  <div id=\"df-e4d45900-a55b-4009-a86a-0363eda79afb\">\n",
              "    <div class=\"colab-df-container\">\n",
              "      <div>\n",
              "<style scoped>\n",
              "    .dataframe tbody tr th:only-of-type {\n",
              "        vertical-align: middle;\n",
              "    }\n",
              "\n",
              "    .dataframe tbody tr th {\n",
              "        vertical-align: top;\n",
              "    }\n",
              "\n",
              "    .dataframe thead th {\n",
              "        text-align: right;\n",
              "    }\n",
              "</style>\n",
              "<table border=\"1\" class=\"dataframe\">\n",
              "  <thead>\n",
              "    <tr style=\"text-align: right;\">\n",
              "      <th></th>\n",
              "      <th>Item_Weight</th>\n",
              "      <th>Item_Visibility</th>\n",
              "      <th>Item_MRP</th>\n",
              "      <th>Outlet_Establishment_Year</th>\n",
              "      <th>Item_Outlet_Sales</th>\n",
              "    </tr>\n",
              "  </thead>\n",
              "  <tbody>\n",
              "    <tr>\n",
              "      <th>count</th>\n",
              "      <td>7060.000000</td>\n",
              "      <td>8523.000000</td>\n",
              "      <td>8523.000000</td>\n",
              "      <td>8523.000000</td>\n",
              "      <td>8523.000000</td>\n",
              "    </tr>\n",
              "    <tr>\n",
              "      <th>mean</th>\n",
              "      <td>12.857645</td>\n",
              "      <td>0.066132</td>\n",
              "      <td>140.992782</td>\n",
              "      <td>1997.831867</td>\n",
              "      <td>2181.288914</td>\n",
              "    </tr>\n",
              "    <tr>\n",
              "      <th>std</th>\n",
              "      <td>4.643456</td>\n",
              "      <td>0.051598</td>\n",
              "      <td>62.275067</td>\n",
              "      <td>8.371760</td>\n",
              "      <td>1706.499616</td>\n",
              "    </tr>\n",
              "    <tr>\n",
              "      <th>min</th>\n",
              "      <td>4.555000</td>\n",
              "      <td>0.000000</td>\n",
              "      <td>31.290000</td>\n",
              "      <td>1985.000000</td>\n",
              "      <td>33.290000</td>\n",
              "    </tr>\n",
              "    <tr>\n",
              "      <th>25%</th>\n",
              "      <td>8.773750</td>\n",
              "      <td>0.026989</td>\n",
              "      <td>93.826500</td>\n",
              "      <td>1987.000000</td>\n",
              "      <td>834.247400</td>\n",
              "    </tr>\n",
              "    <tr>\n",
              "      <th>50%</th>\n",
              "      <td>12.600000</td>\n",
              "      <td>0.053931</td>\n",
              "      <td>143.012800</td>\n",
              "      <td>1999.000000</td>\n",
              "      <td>1794.331000</td>\n",
              "    </tr>\n",
              "    <tr>\n",
              "      <th>75%</th>\n",
              "      <td>16.850000</td>\n",
              "      <td>0.094585</td>\n",
              "      <td>185.643700</td>\n",
              "      <td>2004.000000</td>\n",
              "      <td>3101.296400</td>\n",
              "    </tr>\n",
              "    <tr>\n",
              "      <th>max</th>\n",
              "      <td>21.350000</td>\n",
              "      <td>0.328391</td>\n",
              "      <td>266.888400</td>\n",
              "      <td>2009.000000</td>\n",
              "      <td>13086.964800</td>\n",
              "    </tr>\n",
              "  </tbody>\n",
              "</table>\n",
              "</div>\n",
              "      <button class=\"colab-df-convert\" onclick=\"convertToInteractive('df-e4d45900-a55b-4009-a86a-0363eda79afb')\"\n",
              "              title=\"Convert this dataframe to an interactive table.\"\n",
              "              style=\"display:none;\">\n",
              "\n",
              "  <svg xmlns=\"http://www.w3.org/2000/svg\" height=\"24px\"viewBox=\"0 0 24 24\"\n",
              "       width=\"24px\">\n",
              "    <path d=\"M0 0h24v24H0V0z\" fill=\"none\"/>\n",
              "    <path d=\"M18.56 5.44l.94 2.06.94-2.06 2.06-.94-2.06-.94-.94-2.06-.94 2.06-2.06.94zm-11 1L8.5 8.5l.94-2.06 2.06-.94-2.06-.94L8.5 2.5l-.94 2.06-2.06.94zm10 10l.94 2.06.94-2.06 2.06-.94-2.06-.94-.94-2.06-.94 2.06-2.06.94z\"/><path d=\"M17.41 7.96l-1.37-1.37c-.4-.4-.92-.59-1.43-.59-.52 0-1.04.2-1.43.59L10.3 9.45l-7.72 7.72c-.78.78-.78 2.05 0 2.83L4 21.41c.39.39.9.59 1.41.59.51 0 1.02-.2 1.41-.59l7.78-7.78 2.81-2.81c.8-.78.8-2.07 0-2.86zM5.41 20L4 18.59l7.72-7.72 1.47 1.35L5.41 20z\"/>\n",
              "  </svg>\n",
              "      </button>\n",
              "\n",
              "\n",
              "\n",
              "    <div id=\"df-fedfe813-5a9b-4e6a-a45e-1f00c08778ae\">\n",
              "      <button class=\"colab-df-quickchart\" onclick=\"quickchart('df-fedfe813-5a9b-4e6a-a45e-1f00c08778ae')\"\n",
              "              title=\"Suggest charts.\"\n",
              "              style=\"display:none;\">\n",
              "\n",
              "<svg xmlns=\"http://www.w3.org/2000/svg\" height=\"24px\"viewBox=\"0 0 24 24\"\n",
              "     width=\"24px\">\n",
              "    <g>\n",
              "        <path d=\"M19 3H5c-1.1 0-2 .9-2 2v14c0 1.1.9 2 2 2h14c1.1 0 2-.9 2-2V5c0-1.1-.9-2-2-2zM9 17H7v-7h2v7zm4 0h-2V7h2v10zm4 0h-2v-4h2v4z\"/>\n",
              "    </g>\n",
              "</svg>\n",
              "      </button>\n",
              "    </div>\n",
              "\n",
              "<style>\n",
              "  .colab-df-quickchart {\n",
              "    background-color: #E8F0FE;\n",
              "    border: none;\n",
              "    border-radius: 50%;\n",
              "    cursor: pointer;\n",
              "    display: none;\n",
              "    fill: #1967D2;\n",
              "    height: 32px;\n",
              "    padding: 0 0 0 0;\n",
              "    width: 32px;\n",
              "  }\n",
              "\n",
              "  .colab-df-quickchart:hover {\n",
              "    background-color: #E2EBFA;\n",
              "    box-shadow: 0px 1px 2px rgba(60, 64, 67, 0.3), 0px 1px 3px 1px rgba(60, 64, 67, 0.15);\n",
              "    fill: #174EA6;\n",
              "  }\n",
              "\n",
              "  [theme=dark] .colab-df-quickchart {\n",
              "    background-color: #3B4455;\n",
              "    fill: #D2E3FC;\n",
              "  }\n",
              "\n",
              "  [theme=dark] .colab-df-quickchart:hover {\n",
              "    background-color: #434B5C;\n",
              "    box-shadow: 0px 1px 3px 1px rgba(0, 0, 0, 0.15);\n",
              "    filter: drop-shadow(0px 1px 2px rgba(0, 0, 0, 0.3));\n",
              "    fill: #FFFFFF;\n",
              "  }\n",
              "</style>\n",
              "\n",
              "    <script>\n",
              "      async function quickchart(key) {\n",
              "        const containerElement = document.querySelector('#' + key);\n",
              "        const charts = await google.colab.kernel.invokeFunction(\n",
              "            'suggestCharts', [key], {});\n",
              "      }\n",
              "    </script>\n",
              "\n",
              "      <script>\n",
              "\n",
              "function displayQuickchartButton(domScope) {\n",
              "  let quickchartButtonEl =\n",
              "    domScope.querySelector('#df-fedfe813-5a9b-4e6a-a45e-1f00c08778ae button.colab-df-quickchart');\n",
              "  quickchartButtonEl.style.display =\n",
              "    google.colab.kernel.accessAllowed ? 'block' : 'none';\n",
              "}\n",
              "\n",
              "        displayQuickchartButton(document);\n",
              "      </script>\n",
              "      <style>\n",
              "    .colab-df-container {\n",
              "      display:flex;\n",
              "      flex-wrap:wrap;\n",
              "      gap: 12px;\n",
              "    }\n",
              "\n",
              "    .colab-df-convert {\n",
              "      background-color: #E8F0FE;\n",
              "      border: none;\n",
              "      border-radius: 50%;\n",
              "      cursor: pointer;\n",
              "      display: none;\n",
              "      fill: #1967D2;\n",
              "      height: 32px;\n",
              "      padding: 0 0 0 0;\n",
              "      width: 32px;\n",
              "    }\n",
              "\n",
              "    .colab-df-convert:hover {\n",
              "      background-color: #E2EBFA;\n",
              "      box-shadow: 0px 1px 2px rgba(60, 64, 67, 0.3), 0px 1px 3px 1px rgba(60, 64, 67, 0.15);\n",
              "      fill: #174EA6;\n",
              "    }\n",
              "\n",
              "    [theme=dark] .colab-df-convert {\n",
              "      background-color: #3B4455;\n",
              "      fill: #D2E3FC;\n",
              "    }\n",
              "\n",
              "    [theme=dark] .colab-df-convert:hover {\n",
              "      background-color: #434B5C;\n",
              "      box-shadow: 0px 1px 3px 1px rgba(0, 0, 0, 0.15);\n",
              "      filter: drop-shadow(0px 1px 2px rgba(0, 0, 0, 0.3));\n",
              "      fill: #FFFFFF;\n",
              "    }\n",
              "  </style>\n",
              "\n",
              "      <script>\n",
              "        const buttonEl =\n",
              "          document.querySelector('#df-e4d45900-a55b-4009-a86a-0363eda79afb button.colab-df-convert');\n",
              "        buttonEl.style.display =\n",
              "          google.colab.kernel.accessAllowed ? 'block' : 'none';\n",
              "\n",
              "        async function convertToInteractive(key) {\n",
              "          const element = document.querySelector('#df-e4d45900-a55b-4009-a86a-0363eda79afb');\n",
              "          const dataTable =\n",
              "            await google.colab.kernel.invokeFunction('convertToInteractive',\n",
              "                                                     [key], {});\n",
              "          if (!dataTable) return;\n",
              "\n",
              "          const docLinkHtml = 'Like what you see? Visit the ' +\n",
              "            '<a target=\"_blank\" href=https://colab.research.google.com/notebooks/data_table.ipynb>data table notebook</a>'\n",
              "            + ' to learn more about interactive tables.';\n",
              "          element.innerHTML = '';\n",
              "          dataTable['output_type'] = 'display_data';\n",
              "          await google.colab.output.renderOutput(dataTable, element);\n",
              "          const docLink = document.createElement('div');\n",
              "          docLink.innerHTML = docLinkHtml;\n",
              "          element.appendChild(docLink);\n",
              "        }\n",
              "      </script>\n",
              "    </div>\n",
              "  </div>\n"
            ]
          },
          "metadata": {},
          "execution_count": 47
        }
      ]
    },
    {
      "cell_type": "code",
      "source": [
        "df_sp.dtypes"
      ],
      "metadata": {
        "id": "WXiQVevYmXmY",
        "colab": {
          "base_uri": "https://localhost:8080/"
        },
        "outputId": "8d7e86e3-9738-49f7-84da-d17f41e4a3b9"
      },
      "execution_count": 48,
      "outputs": [
        {
          "output_type": "execute_result",
          "data": {
            "text/plain": [
              "Item_Identifier               object\n",
              "Item_Weight                  float64\n",
              "Item_Fat_Content              object\n",
              "Item_Visibility              float64\n",
              "Item_Type                     object\n",
              "Item_MRP                     float64\n",
              "Outlet_Identifier             object\n",
              "Outlet_Establishment_Year      int64\n",
              "Outlet_Size                   object\n",
              "Outlet_Location_Type          object\n",
              "Outlet_Type                   object\n",
              "Item_Outlet_Sales            float64\n",
              "dtype: object"
            ]
          },
          "metadata": {},
          "execution_count": 48
        }
      ]
    },
    {
      "cell_type": "code",
      "source": [
        "df_sp.shape"
      ],
      "metadata": {
        "id": "97GxGBiYm2PZ",
        "colab": {
          "base_uri": "https://localhost:8080/"
        },
        "outputId": "e2c8b646-6685-40a3-c544-327b8ee1a845"
      },
      "execution_count": 49,
      "outputs": [
        {
          "output_type": "execute_result",
          "data": {
            "text/plain": [
              "(8523, 12)"
            ]
          },
          "metadata": {},
          "execution_count": 49
        }
      ]
    },
    {
      "cell_type": "markdown",
      "source": [
        "## Exploratory Data Analysis"
      ],
      "metadata": {
        "id": "D373jAHUpKG4"
      }
    },
    {
      "cell_type": "markdown",
      "source": [
        "1) How many rows and columns?\n",
        "\n"
      ],
      "metadata": {
        "id": "3M4b35fWoM2t"
      }
    },
    {
      "cell_type": "code",
      "source": [
        "num_rows = df_sp.shape[0]\n",
        "num_cols = df_sp.shape[1]\n",
        "message = f'There are {num_rows} rows and {num_cols} columns in the dataset.'\n",
        "print(message)"
      ],
      "metadata": {
        "id": "1umKemoBp8Mu",
        "colab": {
          "base_uri": "https://localhost:8080/"
        },
        "outputId": "83077164-7f7f-4271-ac7b-907b6c9f89f6"
      },
      "execution_count": 50,
      "outputs": [
        {
          "output_type": "stream",
          "name": "stdout",
          "text": [
            "There are 8523 rows and 12 columns in the dataset.\n"
          ]
        }
      ]
    },
    {
      "cell_type": "markdown",
      "source": [
        "2) What are the datatypes of each variable?\n"
      ],
      "metadata": {
        "id": "7ZwJMS3eoa0G"
      }
    },
    {
      "cell_type": "code",
      "source": [
        "#what are the data types of each variable?\n",
        "df_sp.select_dtypes(include='object').dtypes"
      ],
      "metadata": {
        "id": "3ptpsRferb0J",
        "colab": {
          "base_uri": "https://localhost:8080/"
        },
        "outputId": "2fef7993-3a61-44f7-8f94-74105cd4712d"
      },
      "execution_count": 51,
      "outputs": [
        {
          "output_type": "execute_result",
          "data": {
            "text/plain": [
              "Item_Identifier         object\n",
              "Item_Fat_Content        object\n",
              "Item_Type               object\n",
              "Outlet_Identifier       object\n",
              "Outlet_Size             object\n",
              "Outlet_Location_Type    object\n",
              "Outlet_Type             object\n",
              "dtype: object"
            ]
          },
          "metadata": {},
          "execution_count": 51
        }
      ]
    },
    {
      "cell_type": "code",
      "source": [
        "#call up all the object columns and view rows\n",
        "df_sp.select_dtypes(include='int').dtypes\n"
      ],
      "metadata": {
        "colab": {
          "base_uri": "https://localhost:8080/"
        },
        "id": "acW0ZpU1gGUO",
        "outputId": "6220c8d7-4275-46cc-a1cf-e82fb85068bd"
      },
      "execution_count": 52,
      "outputs": [
        {
          "output_type": "execute_result",
          "data": {
            "text/plain": [
              "Outlet_Establishment_Year    int64\n",
              "dtype: object"
            ]
          },
          "metadata": {},
          "execution_count": 52
        }
      ]
    },
    {
      "cell_type": "code",
      "source": [
        "df_sp.select_dtypes(include='float64').dtypes"
      ],
      "metadata": {
        "colab": {
          "base_uri": "https://localhost:8080/"
        },
        "id": "9a4npRfJhb4B",
        "outputId": "c4bbb77a-9e45-4abe-d19e-1ee68bc1feff"
      },
      "execution_count": 53,
      "outputs": [
        {
          "output_type": "execute_result",
          "data": {
            "text/plain": [
              "Item_Weight          float64\n",
              "Item_Visibility      float64\n",
              "Item_MRP             float64\n",
              "Item_Outlet_Sales    float64\n",
              "dtype: object"
            ]
          },
          "metadata": {},
          "execution_count": 53
        }
      ]
    },
    {
      "cell_type": "markdown",
      "source": [
        "3) Are there duplicates? If so, drop any duplicates."
      ],
      "metadata": {
        "id": "9F_7SeoOo7gc"
      }
    },
    {
      "cell_type": "code",
      "source": [
        "#ID any duplicates?\n",
        "df_sp.duplicated().sum()"
      ],
      "metadata": {
        "id": "m78SLGEeuwdR",
        "colab": {
          "base_uri": "https://localhost:8080/"
        },
        "outputId": "5d3d53ca-a8af-4673-fee2-883d82b5e41e"
      },
      "execution_count": 54,
      "outputs": [
        {
          "output_type": "execute_result",
          "data": {
            "text/plain": [
              "0"
            ]
          },
          "metadata": {},
          "execution_count": 54
        }
      ]
    },
    {
      "cell_type": "markdown",
      "source": [
        "There are no duplicate codes."
      ],
      "metadata": {
        "id": "D12pt2PBiEIz"
      }
    },
    {
      "cell_type": "markdown",
      "source": [
        "4) Identify missing values."
      ],
      "metadata": {
        "id": "TeBWmV6Qo80y"
      }
    },
    {
      "cell_type": "code",
      "source": [
        "#check for missing values\n",
        "df_sp.isnull().sum()"
      ],
      "metadata": {
        "id": "QTggeAXqyXl4",
        "colab": {
          "base_uri": "https://localhost:8080/"
        },
        "outputId": "2cb24298-2499-41c4-928a-34fbaf1fa8bd"
      },
      "execution_count": 55,
      "outputs": [
        {
          "output_type": "execute_result",
          "data": {
            "text/plain": [
              "Item_Identifier                 0\n",
              "Item_Weight                  1463\n",
              "Item_Fat_Content                0\n",
              "Item_Visibility                 0\n",
              "Item_Type                       0\n",
              "Item_MRP                        0\n",
              "Outlet_Identifier               0\n",
              "Outlet_Establishment_Year       0\n",
              "Outlet_Size                  2410\n",
              "Outlet_Location_Type            0\n",
              "Outlet_Type                     0\n",
              "Item_Outlet_Sales               0\n",
              "dtype: int64"
            ]
          },
          "metadata": {},
          "execution_count": 55
        }
      ]
    },
    {
      "cell_type": "code",
      "source": [
        "#convert missing values to %\n",
        "df_sp.isnull().sum()/df_sp.shape[0]*100"
      ],
      "metadata": {
        "id": "EIbhimg0y0nf",
        "colab": {
          "base_uri": "https://localhost:8080/"
        },
        "outputId": "2bb183d1-786b-4d38-9bbf-439639ab74f2"
      },
      "execution_count": 56,
      "outputs": [
        {
          "output_type": "execute_result",
          "data": {
            "text/plain": [
              "Item_Identifier               0.000000\n",
              "Item_Weight                  17.165317\n",
              "Item_Fat_Content              0.000000\n",
              "Item_Visibility               0.000000\n",
              "Item_Type                     0.000000\n",
              "Item_MRP                      0.000000\n",
              "Outlet_Identifier             0.000000\n",
              "Outlet_Establishment_Year     0.000000\n",
              "Outlet_Size                  28.276428\n",
              "Outlet_Location_Type          0.000000\n",
              "Outlet_Type                   0.000000\n",
              "Item_Outlet_Sales             0.000000\n",
              "dtype: float64"
            ]
          },
          "metadata": {},
          "execution_count": 56
        }
      ]
    },
    {
      "cell_type": "markdown",
      "source": [
        "Item wieght has 1463 missing values and outlet size has 2410 missing values.\n"
      ],
      "metadata": {
        "id": "b_jVzJvs2bu_"
      }
    },
    {
      "cell_type": "markdown",
      "source": [
        "- Missing Values:\n",
        "  - There are `1463` missing values in the `Item_Weight` column.  \n",
        "  - There are `2410` missing values in the `Outlet_Size` column.\n",
        "\n",
        "- In order to make informed decisions about how to handle missing data, we will do some additional EDA."
      ],
      "metadata": {
        "id": "TI6ZCVoIiq7g"
      }
    },
    {
      "cell_type": "markdown",
      "source": [
        "## Clean Data"
      ],
      "metadata": {
        "id": "DGsOG6nepD3G"
      }
    },
    {
      "cell_type": "markdown",
      "source": [
        "5) Address the missing values by using a placeholder value.\n"
      ],
      "metadata": {
        "id": "ui0GpNsYojnk"
      }
    },
    {
      "cell_type": "code",
      "source": [
        "## Using three seaborn styles: dark_background, seaborn-muted and seaborn-poster.\n",
        "plt.style.use(['dark_background','seaborn-muted', 'seaborn-poster'])"
      ],
      "metadata": {
        "id": "JVBNIvtj4ZVl",
        "colab": {
          "base_uri": "https://localhost:8080/"
        },
        "outputId": "72e8bdb5-ecf2-44aa-cc30-c058b5377d0e"
      },
      "execution_count": 57,
      "outputs": [
        {
          "output_type": "stream",
          "name": "stderr",
          "text": [
            "<ipython-input-57-1d20c34fce50>:2: MatplotlibDeprecationWarning: The seaborn styles shipped by Matplotlib are deprecated since 3.6, as they no longer correspond to the styles shipped by seaborn. However, they will remain available as 'seaborn-v0_8-<style>'. Alternatively, directly use the seaborn API instead.\n",
            "  plt.style.use(['dark_background','seaborn-muted', 'seaborn-poster'])\n",
            "<ipython-input-57-1d20c34fce50>:2: MatplotlibDeprecationWarning: The seaborn styles shipped by Matplotlib are deprecated since 3.6, as they no longer correspond to the styles shipped by seaborn. However, they will remain available as 'seaborn-v0_8-<style>'. Alternatively, directly use the seaborn API instead.\n",
            "  plt.style.use(['dark_background','seaborn-muted', 'seaborn-poster'])\n"
          ]
        }
      ]
    },
    {
      "cell_type": "code",
      "source": [
        "plt.figure(figsize=(5, 5))\n",
        "ax = sns.countplot(data = df_sp, x = 'Outlet_Size');"
      ],
      "metadata": {
        "colab": {
          "base_uri": "https://localhost:8080/",
          "height": 492
        },
        "id": "R2ZJzQuXj4HV",
        "outputId": "12952f72-1b07-47a9-82ea-0b63b1745395"
      },
      "execution_count": 58,
      "outputs": [
        {
          "output_type": "display_data",
          "data": {
            "text/plain": [
              "<Figure size 500x500 with 1 Axes>"
            ],
            "image/png": "[encoded data removed]"
          },
          "metadata": {}
        }
      ]
    },
    {
      "cell_type": "markdown",
      "source": [
        " - This graph shows that there are over 2500 Medium size outlets and 2500 Small size outlets.\n",
        "  - `Strategy #1`: To deal with the missing values, we could simply `drop` the missing values.\n",
        "  - `Strategy #2`: To deal with the missing values, we could fill them in with the `most frequent` for this feature.\n",
        "  - `Strategy #3`: To deal with the missing values, we could fill them in with the word `Missing` for this feature.\n",
        "\n",
        "- We will select `Strategy #3` to fill in the missing values with the word `mMissing` so that the values will be filled in, but we will still be aware that those values are unknown."
      ],
      "metadata": {
        "id": "m_OVVxCokPpa"
      }
    },
    {
      "cell_type": "code",
      "source": [
        "df_sp['Outlet_Size'].isna().sum()"
      ],
      "metadata": {
        "colab": {
          "base_uri": "https://localhost:8080/"
        },
        "id": "CuuTt1FvkNSF",
        "outputId": "cd9416a9-6e83-433a-ed24-873926966cba"
      },
      "execution_count": 59,
      "outputs": [
        {
          "output_type": "execute_result",
          "data": {
            "text/plain": [
              "2410"
            ]
          },
          "metadata": {},
          "execution_count": 59
        }
      ]
    },
    {
      "cell_type": "code",
      "source": [
        "#lets start with the Categorical variables\n",
        "df_sp['Outlet_Size'].value_counts()"
      ],
      "metadata": {
        "id": "Wu5i_lR74jou",
        "colab": {
          "base_uri": "https://localhost:8080/"
        },
        "outputId": "d802225d-886d-42e8-c6cb-c24ed5280b33"
      },
      "execution_count": 60,
      "outputs": [
        {
          "output_type": "execute_result",
          "data": {
            "text/plain": [
              "Medium    2793\n",
              "Small     2388\n",
              "High       932\n",
              "Name: Outlet_Size, dtype: int64"
            ]
          },
          "metadata": {},
          "execution_count": 60
        }
      ]
    },
    {
      "cell_type": "code",
      "source": [
        "#now we will replace the null values with missing\n",
        "df_sp['Outlet_Size'].fillna('Missing', inplace = True)\n",
        "df_sp['Outlet_Size'].value_counts()"
      ],
      "metadata": {
        "colab": {
          "base_uri": "https://localhost:8080/"
        },
        "id": "nALjd0nBlR88",
        "outputId": "95f26292-fe3a-442e-a5a2-df80939c5eca"
      },
      "execution_count": 61,
      "outputs": [
        {
          "output_type": "execute_result",
          "data": {
            "text/plain": [
              "Medium     2793\n",
              "Missing    2410\n",
              "Small      2388\n",
              "High        932\n",
              "Name: Outlet_Size, dtype: int64"
            ]
          },
          "metadata": {},
          "execution_count": 61
        }
      ]
    },
    {
      "cell_type": "code",
      "source": [
        "plt.figure(figsize=(5, 5))\n",
        "ax = sns.countplot(data = df_sp, x = 'Outlet_Size');"
      ],
      "metadata": {
        "colab": {
          "base_uri": "https://localhost:8080/",
          "height": 492
        },
        "id": "VmqRaKkimEkT",
        "outputId": "754900d7-3d1d-451c-e74c-49e803863cae"
      },
      "execution_count": 62,
      "outputs": [
        {
          "output_type": "display_data",
          "data": {
            "text/plain": [
              "<Figure size 500x500 with 1 Axes>"
            ],
            "image/png": "[encoded data removed]"
          },
          "metadata": {}
        }
      ]
    },
    {
      "cell_type": "code",
      "source": [
        "#Now to check for any other missing values\n",
        "df_sp.isnull().sum()"
      ],
      "metadata": {
        "colab": {
          "base_uri": "https://localhost:8080/"
        },
        "id": "Z6SPgAUvmg1-",
        "outputId": "67074e0d-acf3-4c3d-f3e9-2ed77a320e1d"
      },
      "execution_count": 63,
      "outputs": [
        {
          "output_type": "execute_result",
          "data": {
            "text/plain": [
              "Item_Identifier                 0\n",
              "Item_Weight                  1463\n",
              "Item_Fat_Content                0\n",
              "Item_Visibility                 0\n",
              "Item_Type                       0\n",
              "Item_MRP                        0\n",
              "Outlet_Identifier               0\n",
              "Outlet_Establishment_Year       0\n",
              "Outlet_Size                     0\n",
              "Outlet_Location_Type            0\n",
              "Outlet_Type                     0\n",
              "Item_Outlet_Sales               0\n",
              "dtype: int64"
            ]
          },
          "metadata": {},
          "execution_count": 63
        }
      ]
    },
    {
      "cell_type": "code",
      "source": [
        "plt.figure(figsize=(5, 5))\n",
        "ax = sns.histplot(data = df_sp, x = 'Item_Weight');"
      ],
      "metadata": {
        "colab": {
          "base_uri": "https://localhost:8080/",
          "height": 492
        },
        "id": "6YYN6mQYoCoM",
        "outputId": "27b6fcd3-755c-4be7-b68a-74c1b652a6ab"
      },
      "execution_count": 64,
      "outputs": [
        {
          "output_type": "display_data",
          "data": {
            "text/plain": [
              "<Figure size 500x500 with 1 Axes>"
            ],
            "image/png": "[encoded data removed]"
          },
          "metadata": {}
        }
      ]
    },
    {
      "cell_type": "code",
      "source": [
        "df_sp['Item_Weight'].mean()"
      ],
      "metadata": {
        "id": "RmwmuGyD_cGQ",
        "colab": {
          "base_uri": "https://localhost:8080/"
        },
        "outputId": "3fb2a5ec-7afc-47ea-e600-1bc4d1272883"
      },
      "execution_count": 65,
      "outputs": [
        {
          "output_type": "execute_result",
          "data": {
            "text/plain": [
              "12.857645184135976"
            ]
          },
          "metadata": {},
          "execution_count": 65
        }
      ]
    },
    {
      "cell_type": "code",
      "source": [
        "df_sp['Item_Weight'].median()"
      ],
      "metadata": {
        "id": "4In84TURpWki",
        "outputId": "6e6f1744-1278-4463-de8f-560b19bede1d",
        "colab": {
          "base_uri": "https://localhost:8080/"
        }
      },
      "execution_count": 66,
      "outputs": [
        {
          "output_type": "execute_result",
          "data": {
            "text/plain": [
              "12.6"
            ]
          },
          "metadata": {},
          "execution_count": 66
        }
      ]
    },
    {
      "cell_type": "code",
      "source": [
        "df_sp['Item_Weight'].mode()"
      ],
      "metadata": {
        "id": "CchZQojCpduu",
        "outputId": "61551a75-9e84-4cec-b604-e580f707221c",
        "colab": {
          "base_uri": "https://localhost:8080/"
        }
      },
      "execution_count": 67,
      "outputs": [
        {
          "output_type": "execute_result",
          "data": {
            "text/plain": [
              "0    12.15\n",
              "Name: Item_Weight, dtype: float64"
            ]
          },
          "metadata": {},
          "execution_count": 67
        }
      ]
    },
    {
      "cell_type": "markdown",
      "source": [
        "- This histogram shows that the majority of the Item wieights are around 12.5 grams.\n",
        "\n",
        "  - `Strategy #1`: To deal with the missing values, we could simply `drop` the missing values.\n",
        "  - `Strategy #2`: To deal with the missing values, we could fill them in with the `most frequent` for this feature.\n",
        "  - `Strategy #3`: To deal with the missing values, we could fill them in with the `median/mean value` for this feature.\n",
        "\n",
        "- To maintain as much data as possible, we will not drop the data. So we will choose either `Strategy #2` or `Strategy #3`. To make this choice we will do a bit more investigating."
      ],
      "metadata": {
        "id": "tZ1GUjzRpwXM"
      }
    },
    {
      "cell_type": "code",
      "source": [
        "# we will use the most frequent value, to fill in the missing values.\n",
        "Most_frequent = df_sp['Item_Weight'].mode()[0]"
      ],
      "metadata": {
        "id": "DCs-Q19qqUEJ"
      },
      "execution_count": 68,
      "outputs": []
    },
    {
      "cell_type": "markdown",
      "source": [
        "# **6) Confirm that there are no missing values after addressing them.**"
      ],
      "metadata": {
        "id": "1Gv72Z3esmsY"
      }
    },
    {
      "cell_type": "code",
      "source": [
        "df_sp.isnull().sum()"
      ],
      "metadata": {
        "id": "M2KnSiifqprf",
        "outputId": "f0b33c97-5c0a-4205-ee67-bbed8dcfa101",
        "colab": {
          "base_uri": "https://localhost:8080/"
        }
      },
      "execution_count": 69,
      "outputs": [
        {
          "output_type": "execute_result",
          "data": {
            "text/plain": [
              "Item_Identifier                 0\n",
              "Item_Weight                  1463\n",
              "Item_Fat_Content                0\n",
              "Item_Visibility                 0\n",
              "Item_Type                       0\n",
              "Item_MRP                        0\n",
              "Outlet_Identifier               0\n",
              "Outlet_Establishment_Year       0\n",
              "Outlet_Size                     0\n",
              "Outlet_Location_Type            0\n",
              "Outlet_Type                     0\n",
              "Item_Outlet_Sales               0\n",
              "dtype: int64"
            ]
          },
          "metadata": {},
          "execution_count": 69
        }
      ]
    },
    {
      "cell_type": "code",
      "source": [
        "print(df_sp['Item_Weight'].mean())\n",
        "print(df_sp['Item_Weight'].median())\n",
        "print(df_sp['Item_Weight'].mode())"
      ],
      "metadata": {
        "id": "hri95iLhrVfj",
        "outputId": "f9038b8b-2839-4201-de9a-72ad3c0fec49",
        "colab": {
          "base_uri": "https://localhost:8080/"
        }
      },
      "execution_count": 70,
      "outputs": [
        {
          "output_type": "stream",
          "name": "stdout",
          "text": [
            "12.857645184135976\n",
            "12.6\n",
            "0    12.15\n",
            "Name: Item_Weight, dtype: float64\n"
          ]
        }
      ]
    },
    {
      "cell_type": "markdown",
      "source": [
        "As the 'Item_Weight' is a float64, need to convert it to int64, but we can't due to the missing values"
      ],
      "metadata": {
        "id": "dLPupMghmyZX"
      }
    },
    {
      "cell_type": "code",
      "source": [
        "plt.figure(figsize=(5, 5))\n",
        "ax = sns.countplot(data = df_sp, x = 'Item_Weight');\n"
      ],
      "metadata": {
        "id": "v8DNDZfH7Tzr",
        "colab": {
          "base_uri": "https://localhost:8080/",
          "height": 492
        },
        "outputId": "aaef111a-5725-41b9-cde3-f8b1d53d931c"
      },
      "execution_count": 71,
      "outputs": [
        {
          "output_type": "display_data",
          "data": {
            "text/plain": [
              "<Figure size 500x500 with 1 Axes>"
            ],
            "image/png": "[encoded data removed]"
          },
          "metadata": {}
        }
      ]
    },
    {
      "cell_type": "markdown",
      "source": [
        "# **7) Find and fix any inconsistent categories of data (for example: fix cat, Cat, and cats so that they are consistent).**"
      ],
      "metadata": {
        "id": "rqjQu-optJM5"
      }
    },
    {
      "cell_type": "code",
      "source": [
        "df_sp.select_dtypes(include='float64').dtypes"
      ],
      "metadata": {
        "id": "IXSzgqOntU3p",
        "outputId": "a64f4d43-8ac4-4f66-95d3-af0937bc2d3d",
        "colab": {
          "base_uri": "https://localhost:8080/"
        }
      },
      "execution_count": 72,
      "outputs": [
        {
          "output_type": "execute_result",
          "data": {
            "text/plain": [
              "Item_Weight          float64\n",
              "Item_Visibility      float64\n",
              "Item_MRP             float64\n",
              "Item_Outlet_Sales    float64\n",
              "dtype: object"
            ]
          },
          "metadata": {},
          "execution_count": 72
        }
      ]
    },
    {
      "cell_type": "code",
      "source": [
        "df_sp['Item_Outlet_Sales'].value_counts()"
      ],
      "metadata": {
        "id": "QGfjLTgEvgHJ",
        "outputId": "e3723c8d-6272-4780-eb87-8fa15c6ea10e",
        "colab": {
          "base_uri": "https://localhost:8080/"
        }
      },
      "execution_count": 73,
      "outputs": [
        {
          "output_type": "execute_result",
          "data": {
            "text/plain": [
              "958.7520     17\n",
              "1342.2528    16\n",
              "703.0848     15\n",
              "1845.5976    15\n",
              "1278.3360    14\n",
              "             ..\n",
              "4124.6310     1\n",
              "6622.7126     1\n",
              "1614.5650     1\n",
              "5602.7070     1\n",
              "2778.3834     1\n",
              "Name: Item_Outlet_Sales, Length: 3493, dtype: int64"
            ]
          },
          "metadata": {},
          "execution_count": 73
        }
      ]
    },
    {
      "cell_type": "code",
      "source": [
        "df_sp.select_dtypes(include='int').dtypes"
      ],
      "metadata": {
        "id": "J_vsRB6_tXOg",
        "outputId": "f7d4e292-99dd-4c32-fc49-65d9f04c2e30",
        "colab": {
          "base_uri": "https://localhost:8080/"
        }
      },
      "execution_count": 74,
      "outputs": [
        {
          "output_type": "execute_result",
          "data": {
            "text/plain": [
              "Outlet_Establishment_Year    int64\n",
              "dtype: object"
            ]
          },
          "metadata": {},
          "execution_count": 74
        }
      ]
    },
    {
      "cell_type": "code",
      "source": [
        "df_sp.select_dtypes(include='object').dtypes"
      ],
      "metadata": {
        "id": "jUi0WVMmtZVw",
        "outputId": "4d21fdd6-9751-49e9-e6d5-c4a98a59839a",
        "colab": {
          "base_uri": "https://localhost:8080/"
        }
      },
      "execution_count": 75,
      "outputs": [
        {
          "output_type": "execute_result",
          "data": {
            "text/plain": [
              "Item_Identifier         object\n",
              "Item_Fat_Content        object\n",
              "Item_Type               object\n",
              "Outlet_Identifier       object\n",
              "Outlet_Size             object\n",
              "Outlet_Location_Type    object\n",
              "Outlet_Type             object\n",
              "dtype: object"
            ]
          },
          "metadata": {},
          "execution_count": 75
        }
      ]
    },
    {
      "cell_type": "markdown",
      "source": [],
      "metadata": {
        "id": "FSqWQjsftUBK"
      }
    },
    {
      "cell_type": "code",
      "source": [
        "df_sp.describe()['Item_Weight']"
      ],
      "metadata": {
        "id": "ojdfA50lCBiu",
        "colab": {
          "base_uri": "https://localhost:8080/"
        },
        "outputId": "fe2ba417-178d-4145-8952-a5d1c157094e"
      },
      "execution_count": 76,
      "outputs": [
        {
          "output_type": "execute_result",
          "data": {
            "text/plain": [
              "count    7060.000000\n",
              "mean       12.857645\n",
              "std         4.643456\n",
              "min         4.555000\n",
              "25%         8.773750\n",
              "50%        12.600000\n",
              "75%        16.850000\n",
              "max        21.350000\n",
              "Name: Item_Weight, dtype: float64"
            ]
          },
          "metadata": {},
          "execution_count": 76
        }
      ]
    },
    {
      "cell_type": "code",
      "source": [
        "from re import M\n",
        "#Will use the most frequent value, to fill in the missing values.\n",
        "Most_frequent = df_sp['Item_Weight'].mode()[0]\n",
        "Most_frequent"
      ],
      "metadata": {
        "id": "Yw7eT0jt81Lc",
        "colab": {
          "base_uri": "https://localhost:8080/"
        },
        "outputId": "e58c11a1-1abb-43e8-9c90-29727067159e"
      },
      "execution_count": 77,
      "outputs": [
        {
          "output_type": "execute_result",
          "data": {
            "text/plain": [
              "12.15"
            ]
          },
          "metadata": {},
          "execution_count": 77
        }
      ]
    },
    {
      "cell_type": "code",
      "source": [
        "#fill in the missing values with the most frequent value\n",
        "df_sp['Item_Weight'].fillna(Most_frequent, inplace = True)"
      ],
      "metadata": {
        "id": "cr-iyoOz9b42"
      },
      "execution_count": 78,
      "outputs": []
    },
    {
      "cell_type": "code",
      "source": [
        "df_sp.isnull().sum()"
      ],
      "metadata": {
        "id": "sUXw6uv99hPN",
        "colab": {
          "base_uri": "https://localhost:8080/"
        },
        "outputId": "e7cfd1ce-fc4b-40e3-c384-f4a84742e807"
      },
      "execution_count": 79,
      "outputs": [
        {
          "output_type": "execute_result",
          "data": {
            "text/plain": [
              "Item_Identifier              0\n",
              "Item_Weight                  0\n",
              "Item_Fat_Content             0\n",
              "Item_Visibility              0\n",
              "Item_Type                    0\n",
              "Item_MRP                     0\n",
              "Outlet_Identifier            0\n",
              "Outlet_Establishment_Year    0\n",
              "Outlet_Size                  0\n",
              "Outlet_Location_Type         0\n",
              "Outlet_Type                  0\n",
              "Item_Outlet_Sales            0\n",
              "dtype: int64"
            ]
          },
          "metadata": {},
          "execution_count": 79
        }
      ]
    },
    {
      "cell_type": "code",
      "source": [
        "#same approach will take place for outlet size.\n",
        "fig, ax = plt.subplots(figsize=(5,5))\n",
        "ax = sns.histplot(data = df_sp, x = 'Outlet_Size');"
      ],
      "metadata": {
        "id": "Kyx3YXBX-D4a",
        "colab": {
          "base_uri": "https://localhost:8080/",
          "height": 492
        },
        "outputId": "5497321f-316d-4261-e3ee-429518532b41"
      },
      "execution_count": 80,
      "outputs": [
        {
          "output_type": "display_data",
          "data": {
            "text/plain": [
              "<Figure size 500x500 with 1 Axes>"
            ],
            "image/png": "[encoded data removed]"
          },
          "metadata": {}
        }
      ]
    },
    {
      "cell_type": "code",
      "source": [
        "df_sp['Outlet_Size'].value_counts()"
      ],
      "metadata": {
        "id": "YQ4GwNvO_GVl",
        "colab": {
          "base_uri": "https://localhost:8080/"
        },
        "outputId": "2c03f63d-3484-4d3d-843e-a0261883bbb5"
      },
      "execution_count": 81,
      "outputs": [
        {
          "output_type": "execute_result",
          "data": {
            "text/plain": [
              "Medium     2793\n",
              "Missing    2410\n",
              "Small      2388\n",
              "High        932\n",
              "Name: Outlet_Size, dtype: int64"
            ]
          },
          "metadata": {},
          "execution_count": 81
        }
      ]
    },
    {
      "cell_type": "code",
      "source": [
        "#count outlet size null values\n",
        "df_sp['Outlet_Size'].isna().sum()"
      ],
      "metadata": {
        "id": "9wTde5HTBgnk",
        "colab": {
          "base_uri": "https://localhost:8080/"
        },
        "outputId": "6f0fc9f0-a4d0-4be6-8fa2-bd7fd49764c1"
      },
      "execution_count": 82,
      "outputs": [
        {
          "output_type": "execute_result",
          "data": {
            "text/plain": [
              "0"
            ]
          },
          "metadata": {},
          "execution_count": 82
        }
      ]
    },
    {
      "cell_type": "code",
      "source": [
        "#id data types in outlet size\n",
        "df_sp['Outlet_Size'].dtypes"
      ],
      "metadata": {
        "id": "onqelNyPEQe7",
        "colab": {
          "base_uri": "https://localhost:8080/"
        },
        "outputId": "b67b74d1-6cf4-49bf-833e-5f579bde5aa1"
      },
      "execution_count": 83,
      "outputs": [
        {
          "output_type": "execute_result",
          "data": {
            "text/plain": [
              "dtype('O')"
            ]
          },
          "metadata": {},
          "execution_count": 83
        }
      ]
    },
    {
      "cell_type": "markdown",
      "source": [
        "As the data entered for outlet is an object, we will  fill in the missing values to Missing.\n",
        "\n",
        "We can also drop the missing values from the data set, however its best paractice to include it in the data so we are able to report on it to exco. Which can be addressed with those collecting the data."
      ],
      "metadata": {
        "id": "jMEOhCmfHiKP"
      }
    },
    {
      "cell_type": "code",
      "source": [
        "df_sp['Outlet_Size'] = df_sp['Outlet_Size'].fillna(\"Missing\")\n",
        "df_sp['Outlet_Size'].value_counts(dropna=False)"
      ],
      "metadata": {
        "id": "hHNSeSvdKkKt",
        "colab": {
          "base_uri": "https://localhost:8080/"
        },
        "outputId": "0fcb2d0f-9c84-43d2-b527-d461502457a6"
      },
      "execution_count": 84,
      "outputs": [
        {
          "output_type": "execute_result",
          "data": {
            "text/plain": [
              "Medium     2793\n",
              "Missing    2410\n",
              "Small      2388\n",
              "High        932\n",
              "Name: Outlet_Size, dtype: int64"
            ]
          },
          "metadata": {},
          "execution_count": 84
        }
      ]
    },
    {
      "cell_type": "markdown",
      "source": [
        "6) Confirm that there are no missing values after addressing them.\n"
      ],
      "metadata": {
        "id": "df0wOUnHol5v"
      }
    },
    {
      "cell_type": "code",
      "source": [
        "df_sp.isnull().sum()"
      ],
      "metadata": {
        "id": "3XgZ19P4MIde",
        "colab": {
          "base_uri": "https://localhost:8080/"
        },
        "outputId": "c07d7ffa-9cf8-45be-c887-78bf84fd420b"
      },
      "execution_count": 85,
      "outputs": [
        {
          "output_type": "execute_result",
          "data": {
            "text/plain": [
              "Item_Identifier              0\n",
              "Item_Weight                  0\n",
              "Item_Fat_Content             0\n",
              "Item_Visibility              0\n",
              "Item_Type                    0\n",
              "Item_MRP                     0\n",
              "Outlet_Identifier            0\n",
              "Outlet_Establishment_Year    0\n",
              "Outlet_Size                  0\n",
              "Outlet_Location_Type         0\n",
              "Outlet_Type                  0\n",
              "Item_Outlet_Sales            0\n",
              "dtype: int64"
            ]
          },
          "metadata": {},
          "execution_count": 85
        }
      ]
    },
    {
      "cell_type": "markdown",
      "source": [
        "7) Find and fix any inconsistent categories of data (for example: fix cat, Cat, and cats so that they are consistent).\n"
      ],
      "metadata": {
        "id": "ml0a37RMooBi"
      }
    },
    {
      "cell_type": "code",
      "source": [
        "data_types = df_sp.dtypes\n",
        "str_cols = data_types[data_types=='object'].index\n",
        "str_cols"
      ],
      "metadata": {
        "id": "pPtJqJ9OQ9Vh",
        "colab": {
          "base_uri": "https://localhost:8080/"
        },
        "outputId": "937da795-1fd1-42bf-afb5-6a0a4a9ecf85"
      },
      "execution_count": 86,
      "outputs": [
        {
          "output_type": "execute_result",
          "data": {
            "text/plain": [
              "Index(['Item_Identifier', 'Item_Fat_Content', 'Item_Type', 'Outlet_Identifier',\n",
              "       'Outlet_Size', 'Outlet_Location_Type', 'Outlet_Type'],\n",
              "      dtype='object')"
            ]
          },
          "metadata": {},
          "execution_count": 86
        }
      ]
    },
    {
      "cell_type": "code",
      "source": [
        "pd.set_option('display.max_rows', None)\n",
        "for col in str_cols:\n",
        "    print(f'- {col}:')\n",
        "    print(df_sp[col].value_counts(dropna=False))\n",
        "    print(\"\\n\\n\")"
      ],
      "metadata": {
        "id": "VPByp70MRLX-",
        "colab": {
          "base_uri": "https://localhost:8080/"
        },
        "outputId": "49c8269e-cf8d-45c5-d5af-d5a4a0bf34a3"
      },
      "execution_count": 87,
      "outputs": [
        {
          "output_type": "stream",
          "name": "stdout",
          "text": [
            "- Item_Identifier:\n",
            "FDW13    10\n",
            "FDG33    10\n",
            "NCY18     9\n",
            "FDD38     9\n",
            "DRE49     9\n",
            "FDV60     9\n",
            "NCQ06     9\n",
            "FDF52     9\n",
            "FDX04     9\n",
            "NCJ30     9\n",
            "FDV38     9\n",
            "NCF42     9\n",
            "FDT07     9\n",
            "FDW26     9\n",
            "NCL31     9\n",
            "FDU12     9\n",
            "FDG09     9\n",
            "FDQ40     9\n",
            "FDX20     9\n",
            "NCI54     9\n",
            "FDX31     9\n",
            "FDP25     9\n",
            "FDW49     9\n",
            "FDF56     9\n",
            "FDO19     9\n",
            "DRN47     9\n",
            "NCB18     9\n",
            "FDE11     8\n",
            "NCX05     8\n",
            "FDQ39     8\n",
            "FDT55     8\n",
            "FDO32     8\n",
            "FDT40     8\n",
            "FDZ20     8\n",
            "FDH27     8\n",
            "FDY49     8\n",
            "FDS33     8\n",
            "FDR04     8\n",
            "FDR43     8\n",
            "FDR59     8\n",
            "FDJ55     8\n",
            "FDT24     8\n",
            "FDY55     8\n",
            "FDV09     8\n",
            "FDU23     8\n",
            "FDY47     8\n",
            "DRD25     8\n",
            "FDK58     8\n",
            "FDL58     8\n",
            "FDX58     8\n",
            "FDR44     8\n",
            "FDP28     8\n",
            "FDA39     8\n",
            "FDH28     8\n",
            "DRF27     8\n",
            "FDX21     8\n",
            "FDY56     8\n",
            "FDF05     8\n",
            "FDL20     8\n",
            "FDY03     8\n",
            "NCK05     8\n",
            "FDS55     8\n",
            "DRA59     8\n",
            "FDG24     8\n",
            "NCE54     8\n",
            "FDZ21     8\n",
            "FDA04     8\n",
            "FDW24     8\n",
            "FDT49     8\n",
            "DRF23     8\n",
            "FDD05     8\n",
            "FDH10     8\n",
            "FDX50     8\n",
            "FDT32     8\n",
            "FDK20     8\n",
            "FDU13     8\n",
            "FDN56     8\n",
            "FDZ26     8\n",
            "FDL34     8\n",
            "DRF01     8\n",
            "FDG38     8\n",
            "NCE31     8\n",
            "NCL53     8\n",
            "NCB31     8\n",
            "NCQ05     8\n",
            "FDT21     8\n",
            "NCV06     8\n",
            "DRJ24     8\n",
            "FDI41     8\n",
            "FDO52     8\n",
            "FDR23     8\n",
            "FDG57     8\n",
            "FDZ33     8\n",
            "DRF03     8\n",
            "FDA13     8\n",
            "FDF22     8\n",
            "DRP35     8\n",
            "NCV41     8\n",
            "FDF16     8\n",
            "FDB17     8\n",
            "NCK29     8\n",
            "FDJ44     8\n",
            "FDX45     8\n",
            "NCY29     8\n",
            "NCO54     8\n",
            "FDR52     8\n",
            "NCQ43     8\n",
            "FDR48     8\n",
            "FDA50     8\n",
            "NCM07     8\n",
            "FDW48     8\n",
            "NCI29     8\n",
            "FDP11     8\n",
            "FDH33     8\n",
            "FDF04     8\n",
            "FDD29     8\n",
            "FDR46     8\n",
            "DRK12     8\n",
            "FDA15     8\n",
            "FDJ58     8\n",
            "FDS52     8\n",
            "FDC14     8\n",
            "FDU19     8\n",
            "NCC18     8\n",
            "FDA44     8\n",
            "FDL10     8\n",
            "FDI22     8\n",
            "NCK53     8\n",
            "NCX29     8\n",
            "FDO37     8\n",
            "FDV20     8\n",
            "DRI03     8\n",
            "DRK35     8\n",
            "NCP05     8\n",
            "FDO10     8\n",
            "FDV26     8\n",
            "NCS53     8\n",
            "FDR21     7\n",
            "FDU34     7\n",
            "FDU46     7\n",
            "FDG34     7\n",
            "FDW28     7\n",
            "FDE16     7\n",
            "FDP60     7\n",
            "NCP18     7\n",
            "FDB15     7\n",
            "NCJ18     7\n",
            "NCR05     7\n",
            "FDV28     7\n",
            "FDK21     7\n",
            "NCX54     7\n",
            "FDV57     7\n",
            "FDA07     7\n",
            "FDW09     7\n",
            "DRM23     7\n",
            "FDK08     7\n",
            "NCZ30     7\n",
            "FDZ15     7\n",
            "FDK38     7\n",
            "NCS54     7\n",
            "FDU20     7\n",
            "FDA02     7\n",
            "FDH57     7\n",
            "FDF57     7\n",
            "FDU25     7\n",
            "FDV04     7\n",
            "DRD15     7\n",
            "FDY15     7\n",
            "FDB58     7\n",
            "FDI26     7\n",
            "FDI20     7\n",
            "FDH26     7\n",
            "NCW53     7\n",
            "FDZ58     7\n",
            "FDH50     7\n",
            "FDS01     7\n",
            "FDW34     7\n",
            "FDX26     7\n",
            "FDC29     7\n",
            "FDQ10     7\n",
            "DRI01     7\n",
            "FDY33     7\n",
            "DRE03     7\n",
            "NCN53     7\n",
            "NCK18     7\n",
            "FDJ22     7\n",
            "FDR37     7\n",
            "FDX47     7\n",
            "FDY13     7\n",
            "FDN04     7\n",
            "NCZ18     7\n",
            "FDW38     7\n",
            "FDU26     7\n",
            "NCX18     7\n",
            "FDL48     7\n",
            "DRF25     7\n",
            "FDR55     7\n",
            "FDL40     7\n",
            "FDH48     7\n",
            "FDR02     7\n",
            "FDW19     7\n",
            "FDC46     7\n",
            "FDD57     7\n",
            "FDL52     7\n",
            "FDH19     7\n",
            "NCE19     7\n",
            "FDB04     7\n",
            "FDW07     7\n",
            "FDC59     7\n",
            "FDS59     7\n",
            "NCL29     7\n",
            "FDC50     7\n",
            "DRA24     7\n",
            "NCS30     7\n",
            "FDT46     7\n",
            "FDS27     7\n",
            "FDJ57     7\n",
            "FDJ45     7\n",
            "FDY07     7\n",
            "FDX32     7\n",
            "FDR22     7\n",
            "NCY41     7\n",
            "FDQ08     7\n",
            "FDS47     7\n",
            "FDS19     7\n",
            "FDP49     7\n",
            "FDZ08     7\n",
            "FDR27     7\n",
            "DRI11     7\n",
            "NCG43     7\n",
            "NCI31     7\n",
            "FDU02     7\n",
            "FDM08     7\n",
            "DRM59     7\n",
            "NCH55     7\n",
            "DRD37     7\n",
            "NCV54     7\n",
            "FDK26     7\n",
            "FDY02     7\n",
            "FDN15     7\n",
            "FDO34     7\n",
            "FDY35     7\n",
            "FDN12     7\n",
            "FDS28     7\n",
            "FDP03     7\n",
            "NCP50     7\n",
            "NCQ38     7\n",
            "FDH21     7\n",
            "FDP10     7\n",
            "FDV01     7\n",
            "NCQ53     7\n",
            "FDH17     7\n",
            "NCZ06     7\n",
            "NCU17     7\n",
            "DRM37     7\n",
            "FDW12     7\n",
            "NCB30     7\n",
            "FDF21     7\n",
            "FDO22     7\n",
            "NCP06     7\n",
            "FDI57     7\n",
            "FDI45     7\n",
            "FDS32     7\n",
            "FDU38     7\n",
            "FDE17     7\n",
            "FDW50     7\n",
            "FDI14     7\n",
            "FDU21     7\n",
            "FDS16     7\n",
            "FDB34     7\n",
            "NCD54     7\n",
            "FDC41     7\n",
            "FDD39     7\n",
            "FDL13     7\n",
            "NCM06     7\n",
            "FDJ21     7\n",
            "FDM36     7\n",
            "FDO57     7\n",
            "FDE51     7\n",
            "FDP24     7\n",
            "FDL38     7\n",
            "DRL37     7\n",
            "FDV19     7\n",
            "FDN21     7\n",
            "NCE07     7\n",
            "FDR58     7\n",
            "FDZ52     7\n",
            "FDC17     7\n",
            "FDZ23     7\n",
            "FDL46     7\n",
            "FDG32     7\n",
            "FDT34     7\n",
            "FDH56     7\n",
            "NCH30     7\n",
            "FDO23     7\n",
            "FDP39     7\n",
            "FDD50     7\n",
            "NCX42     7\n",
            "NCM29     7\n",
            "FDO24     7\n",
            "FDG08     7\n",
            "FDD10     7\n",
            "FDM58     7\n",
            "FDI07     7\n",
            "FDY57     7\n",
            "FDB56     7\n",
            "FDP27     7\n",
            "FDI32     7\n",
            "FDS31     7\n",
            "FDM15     7\n",
            "FDN01     7\n",
            "NCM43     7\n",
            "DRD12     7\n",
            "FDQ26     7\n",
            "FDT03     7\n",
            "FDQ56     7\n",
            "FDK51     7\n",
            "FDL22     7\n",
            "DRI25     7\n",
            "FDK40     7\n",
            "FDJ48     7\n",
            "DRD24     7\n",
            "FDB36     7\n",
            "FDJ09     7\n",
            "FDB14     7\n",
            "FDI04     7\n",
            "DRL60     7\n",
            "FDV39     7\n",
            "FDW32     7\n",
            "FDQ34     7\n",
            "DRB48     7\n",
            "FDX40     7\n",
            "FDS40     7\n",
            "NCZ54     7\n",
            "DRJ11     7\n",
            "FDQ36     7\n",
            "FDC16     7\n",
            "FDL36     7\n",
            "FDG50     7\n",
            "DRK49     7\n",
            "FDS13     7\n",
            "FDT25     7\n",
            "FDN57     7\n",
            "DRL35     7\n",
            "DRE48     7\n",
            "DRG37     7\n",
            "FDV45     7\n",
            "FDV16     7\n",
            "FDS04     7\n",
            "FDT43     7\n",
            "FDH14     7\n",
            "FDS57     7\n",
            "NCM30     7\n",
            "FDA32     7\n",
            "FDD17     7\n",
            "FDT12     7\n",
            "FDR01     7\n",
            "NCO17     7\n",
            "NCL05     7\n",
            "DRL01     7\n",
            "NCO29     7\n",
            "FDR09     7\n",
            "FDI21     7\n",
            "FDR15     7\n",
            "FDX19     7\n",
            "FDA01     7\n",
            "NCN07     7\n",
            "FDK03     7\n",
            "FDR35     7\n",
            "NCA06     7\n",
            "FDM44     7\n",
            "FDY31     7\n",
            "DRQ35     7\n",
            "NCG07     7\n",
            "FDX36     7\n",
            "NCR53     7\n",
            "DRD13     7\n",
            "NCO05     7\n",
            "NCS06     7\n",
            "DRG23     7\n",
            "FDZ35     7\n",
            "FDO60     7\n",
            "NCL18     7\n",
            "FDN60     7\n",
            "DRC25     7\n",
            "FDS45     7\n",
            "FDU36     7\n",
            "FDY59     7\n",
            "FDE33     7\n",
            "NCH07     7\n",
            "NCK17     6\n",
            "FDG44     6\n",
            "FDD26     6\n",
            "NCU18     6\n",
            "FDD41     6\n",
            "NCK07     6\n",
            "NCN43     6\n",
            "FDW47     6\n",
            "FDH38     6\n",
            "FDK02     6\n",
            "NCU42     6\n",
            "FDD11     6\n",
            "FDZ56     6\n",
            "FDH20     6\n",
            "FDS37     6\n",
            "FDT36     6\n",
            "FDO25     6\n",
            "FDY48     6\n",
            "FDF26     6\n",
            "FDI52     6\n",
            "FDO39     6\n",
            "NCF30     6\n",
            "FDS35     6\n",
            "FDW56     6\n",
            "FDN02     6\n",
            "FDV46     6\n",
            "DRB25     6\n",
            "FDJ04     6\n",
            "FDZ44     6\n",
            "NCO06     6\n",
            "FDK34     6\n",
            "FDO45     6\n",
            "DRE27     6\n",
            "FDT10     6\n",
            "FDF08     6\n",
            "DRJ39     6\n",
            "FDV48     6\n",
            "DRK11     6\n",
            "FDE46     6\n",
            "NCO42     6\n",
            "FDD04     6\n",
            "FDF34     6\n",
            "FDH58     6\n",
            "DRI23     6\n",
            "FDH41     6\n",
            "FDI34     6\n",
            "NCA05     6\n",
            "FDD56     6\n",
            "FDX16     6\n",
            "FDQ13     6\n",
            "FDZ09     6\n",
            "FDJ60     6\n",
            "FDX03     6\n",
            "FDZ12     6\n",
            "FDK55     6\n",
            "FDQ31     6\n",
            "NCC07     6\n",
            "DRD60     6\n",
            "FDY50     6\n",
            "FDB49     6\n",
            "FDR19     6\n",
            "FDD51     6\n",
            "DRE12     6\n",
            "FDU40     6\n",
            "FDW46     6\n",
            "FDZ25     6\n",
            "FDA21     6\n",
            "NCS29     6\n",
            "DRO47     6\n",
            "DRG15     6\n",
            "FDZ39     6\n",
            "FDL24     6\n",
            "FDH60     6\n",
            "FDQ21     6\n",
            "NCN14     6\n",
            "DRN35     6\n",
            "NCL41     6\n",
            "FDX11     6\n",
            "FDP19     6\n",
            "NCJ05     6\n",
            "FDT50     6\n",
            "FDC34     6\n",
            "FDO12     6\n",
            "FDQ15     6\n",
            "FDU24     6\n",
            "FDN23     6\n",
            "FDK09     6\n",
            "FDS44     6\n",
            "NCR30     6\n",
            "FDS36     6\n",
            "FDT11     6\n",
            "FDG31     6\n",
            "NCG30     6\n",
            "FDQ52     6\n",
            "FDU33     6\n",
            "FDE59     6\n",
            "FDT26     6\n",
            "FDZ48     6\n",
            "NCZ17     6\n",
            "FDI60     6\n",
            "FDP44     6\n",
            "FDU07     6\n",
            "FDU51     6\n",
            "FDS11     6\n",
            "DRE15     6\n",
            "FDD52     6\n",
            "FDH05     6\n",
            "NCI42     6\n",
            "FDR32     6\n",
            "NCN30     6\n",
            "FDK33     6\n",
            "FDX37     6\n",
            "NCD18     6\n",
            "FDZ45     6\n",
            "DRK13     6\n",
            "FDB23     6\n",
            "FDO50     6\n",
            "FDT58     6\n",
            "FDN46     6\n",
            "FDE29     6\n",
            "FDY04     6\n",
            "FDQ32     6\n",
            "FDC45     6\n",
            "FDL45     6\n",
            "FDN38     6\n",
            "FDL57     6\n",
            "FDI56     6\n",
            "NCU54     6\n",
            "FDV47     6\n",
            "FDG56     6\n",
            "FDZ04     6\n",
            "FDL09     6\n",
            "FDX43     6\n",
            "FDB08     6\n",
            "FDK52     6\n",
            "NCO02     6\n",
            "FDO20     6\n",
            "FDD47     6\n",
            "FDF12     6\n",
            "FDW02     6\n",
            "FDO46     6\n",
            "FDZ49     6\n",
            "FDM04     6\n",
            "FDX56     6\n",
            "NCX30     6\n",
            "DRI47     6\n",
            "DRF37     6\n",
            "FDA20     6\n",
            "FDB60     6\n",
            "FDI15     6\n",
            "FDI50     6\n",
            "FDU39     6\n",
            "FDZ59     6\n",
            "DRN37     6\n",
            "FDG26     6\n",
            "NCO41     6\n",
            "DRH36     6\n",
            "FDG47     6\n",
            "FDY52     6\n",
            "FDA49     6\n",
            "FDQ58     6\n",
            "NCM05     6\n",
            "FDG16     6\n",
            "FDO40     6\n",
            "DRF13     6\n",
            "FDK25     6\n",
            "FDC20     6\n",
            "FDB32     6\n",
            "FDL33     6\n",
            "FDC44     6\n",
            "FDC47     6\n",
            "FDQ46     6\n",
            "NCB43     6\n",
            "FDV22     6\n",
            "FDD21     6\n",
            "FDH47     6\n",
            "FDL39     6\n",
            "FDN34     6\n",
            "NCE30     6\n",
            "FDE41     6\n",
            "FDS24     6\n",
            "FDB40     6\n",
            "FDO09     6\n",
            "DRC01     6\n",
            "DRJ01     6\n",
            "NCP29     6\n",
            "FDI08     6\n",
            "FDD09     6\n",
            "FDX01     6\n",
            "FDJ53     6\n",
            "FDO58     6\n",
            "NCC54     6\n",
            "NCH18     6\n",
            "FDT48     6\n",
            "FDH44     6\n",
            "FDD14     6\n",
            "NCN19     6\n",
            "NCI30     6\n",
            "FDR33     6\n",
            "NCA53     6\n",
            "FDW45     6\n",
            "NCP55     6\n",
            "FDS56     6\n",
            "DRL49     6\n",
            "NCN05     6\n",
            "FDY36     6\n",
            "FDG46     6\n",
            "FDJ10     6\n",
            "FDV44     6\n",
            "FDW59     6\n",
            "FDM51     6\n",
            "NCT30     6\n",
            "FDK45     6\n",
            "FDA28     6\n",
            "FDY10     6\n",
            "NCH43     6\n",
            "FDS23     6\n",
            "FDD46     6\n",
            "FDG10     6\n",
            "NCT42     6\n",
            "FDU15     6\n",
            "FDP33     6\n",
            "FDL08     6\n",
            "DRA12     6\n",
            "DRM47     6\n",
            "NCR38     6\n",
            "FDZ16     6\n",
            "FDN39     6\n",
            "NCF31     6\n",
            "FDU44     6\n",
            "FDE34     6\n",
            "FDL43     6\n",
            "FDX34     6\n",
            "FDH53     6\n",
            "FDR12     6\n",
            "FDQ09     6\n",
            "FDW39     6\n",
            "FDC53     6\n",
            "FDV32     6\n",
            "FDT08     6\n",
            "FDJ34     6\n",
            "FDS12     6\n",
            "FDE24     6\n",
            "FDR08     6\n",
            "FDL56     6\n",
            "NCQ50     6\n",
            "FDH40     6\n",
            "FDF09     6\n",
            "FDS15     6\n",
            "NCQ42     6\n",
            "FDE10     6\n",
            "FDX15     6\n",
            "FDD44     6\n",
            "FDG45     6\n",
            "FDX33     6\n",
            "FDH45     6\n",
            "FDC35     6\n",
            "FDX46     6\n",
            "FDJ38     6\n",
            "NCB42     6\n",
            "FDK14     6\n",
            "FDC08     6\n",
            "FDQ48     6\n",
            "FDY21     6\n",
            "FDX60     6\n",
            "FDD58     6\n",
            "DRE60     6\n",
            "FDG29     6\n",
            "FDJ41     6\n",
            "FDK24     6\n",
            "FDD08     6\n",
            "FDF41     6\n",
            "FDF20     6\n",
            "FDN58     6\n",
            "FDQ45     6\n",
            "DRK59     6\n",
            "FDV49     6\n",
            "DRH39     6\n",
            "FDX23     6\n",
            "FDD40     6\n",
            "FDG59     6\n",
            "FDV51     6\n",
            "FDB29     6\n",
            "NCK19     6\n",
            "FDA46     6\n",
            "FDC02     6\n",
            "FDN09     6\n",
            "FDB45     6\n",
            "NCK54     6\n",
            "NCR17     6\n",
            "FDM25     6\n",
            "FDK41     6\n",
            "FDT09     6\n",
            "FDT28     6\n",
            "FDG12     6\n",
            "DRJ59     6\n",
            "FDM28     6\n",
            "FDT31     6\n",
            "NCO30     6\n",
            "FDW44     6\n",
            "NCR41     6\n",
            "DRI37     6\n",
            "FDG53     6\n",
            "FDZ10     6\n",
            "FDV37     6\n",
            "FDR60     6\n",
            "FDZ55     6\n",
            "NCF07     6\n",
            "DRZ11     6\n",
            "FDA47     6\n",
            "DRI51     6\n",
            "FDM01     6\n",
            "FDK43     6\n",
            "DRC27     6\n",
            "DRJ13     6\n",
            "FDB35     6\n",
            "DRY23     6\n",
            "FDX57     6\n",
            "FDX44     6\n",
            "FDA10     6\n",
            "NCI43     6\n",
            "DRH25     6\n",
            "NCI17     6\n",
            "NCU05     6\n",
            "FDC33     6\n",
            "NCB19     6\n",
            "FDS48     6\n",
            "FDU32     6\n",
            "FDO08     6\n",
            "DRH37     6\n",
            "FDB27     6\n",
            "FDK15     6\n",
            "FDS03     6\n",
            "FDB51     6\n",
            "FDY28     6\n",
            "FDX07     6\n",
            "FDE05     6\n",
            "NCI18     6\n",
            "FDN13     6\n",
            "FDT57     6\n",
            "NCO26     6\n",
            "DRF49     6\n",
            "FDI28     6\n",
            "FDW51     6\n",
            "NCD19     6\n",
            "FDG21     6\n",
            "NCH54     6\n",
            "FDR26     6\n",
            "FDW35     6\n",
            "FDA23     6\n",
            "FDP22     6\n",
            "FDL04     6\n",
            "FDE04     6\n",
            "NCW29     6\n",
            "FDV15     6\n",
            "FDH35     6\n",
            "FDW27     6\n",
            "FDA08     6\n",
            "FDH32     6\n",
            "FDE36     6\n",
            "FDR20     6\n",
            "FDI16     6\n",
            "FDA03     6\n",
            "FDI19     6\n",
            "FDY45     6\n",
            "FDY40     6\n",
            "FDF24     6\n",
            "FDL51     6\n",
            "NCP30     6\n",
            "NCJ29     6\n",
            "DRF36     6\n",
            "NCX41     6\n",
            "FDT59     6\n",
            "FDB41     6\n",
            "FDE32     6\n",
            "FDW23     6\n",
            "FDO15     6\n",
            "FDT20     6\n",
            "FDU11     6\n",
            "FDX09     6\n",
            "FDZ38     6\n",
            "DRH03     6\n",
            "NCJ42     6\n",
            "NCF18     5\n",
            "NCV53     5\n",
            "FDG02     5\n",
            "FDB53     5\n",
            "FDB02     5\n",
            "FDN24     5\n",
            "FDP45     5\n",
            "FDV59     5\n",
            "DRJ49     5\n",
            "FDX55     5\n",
            "FDX24     5\n",
            "FDP26     5\n",
            "FDG35     5\n",
            "FDK04     5\n",
            "FDQ07     5\n",
            "FDR34     5\n",
            "FDO01     5\n",
            "NCO43     5\n",
            "FDQ03     5\n",
            "FDB12     5\n",
            "DRB13     5\n",
            "FDN48     5\n",
            "FDY34     5\n",
            "FDP52     5\n",
            "FDQ49     5\n",
            "FDA25     5\n",
            "FDW55     5\n",
            "FDM13     5\n",
            "FDN28     5\n",
            "FDV52     5\n",
            "FDV25     5\n",
            "FDJ56     5\n",
            "FDZ07     5\n",
            "FDB52     5\n",
            "NCJ17     5\n",
            "FDT22     5\n",
            "FDJ26     5\n",
            "FDL32     5\n",
            "FDO21     5\n",
            "NCG18     5\n",
            "NCA41     5\n",
            "FDO31     5\n",
            "FDP57     5\n",
            "DRH51     5\n",
            "FDF45     5\n",
            "FDT27     5\n",
            "FDU57     5\n",
            "FDP23     5\n",
            "FDR24     5\n",
            "FDR25     5\n",
            "FDU58     5\n",
            "FDG20     5\n",
            "DRG13     5\n",
            "FDZ36     5\n",
            "FDM27     5\n",
            "NCA29     5\n",
            "FDJ36     5\n",
            "FDP59     5\n",
            "NCT06     5\n",
            "FDI33     5\n",
            "FDY44     5\n",
            "FDV02     5\n",
            "FDE20     5\n",
            "DRG27     5\n",
            "NCT54     5\n",
            "FDZ40     5\n",
            "DRL47     5\n",
            "NCY06     5\n",
            "FDP07     5\n",
            "NCX06     5\n",
            "FDK16     5\n",
            "NCN55     5\n",
            "FDZ60     5\n",
            "FDE40     5\n",
            "FDX49     5\n",
            "FDK27     5\n",
            "NCM53     5\n",
            "FDP31     5\n",
            "FDI24     5\n",
            "FDM10     5\n",
            "FDH02     5\n",
            "FDG52     5\n",
            "FDP34     5\n",
            "FDW21     5\n",
            "NCD42     5\n",
            "FDQ16     5\n",
            "FDW11     5\n",
            "NCA17     5\n",
            "NCT17     5\n",
            "FDQ12     5\n",
            "FDY24     5\n",
            "FDS49     5\n",
            "FDU50     5\n",
            "FDQ25     5\n",
            "FDZ43     5\n",
            "FDE26     5\n",
            "FDD02     5\n",
            "NCC30     5\n",
            "FDP16     5\n",
            "FDA11     5\n",
            "FDB11     5\n",
            "FDP56     5\n",
            "FDS34     5\n",
            "NCB06     5\n",
            "FDA45     5\n",
            "DRJ23     5\n",
            "FDT56     5\n",
            "FDB20     5\n",
            "FDH34     5\n",
            "FDF35     5\n",
            "DRD27     5\n",
            "FDT60     5\n",
            "FDP37     5\n",
            "FDS43     5\n",
            "NCA30     5\n",
            "FDF29     5\n",
            "FDY25     5\n",
            "FDX51     5\n",
            "FDT16     5\n",
            "FDK44     5\n",
            "FDR47     5\n",
            "NCF19     5\n",
            "NCN42     5\n",
            "NCM17     5\n",
            "FDW57     5\n",
            "DRD01     5\n",
            "NCW54     5\n",
            "FDY16     5\n",
            "FDJ08     5\n",
            "FDT39     5\n",
            "FDE08     5\n",
            "FDC28     5\n",
            "FDB57     5\n",
            "FDC04     5\n",
            "FDV03     5\n",
            "FDK36     5\n",
            "FDU04     5\n",
            "FDE09     5\n",
            "FDF33     5\n",
            "FDQ11     5\n",
            "FDI40     5\n",
            "NCQ54     5\n",
            "FDR31     5\n",
            "FDB21     5\n",
            "FDL03     5\n",
            "FDM50     5\n",
            "FDF46     5\n",
            "DRK47     5\n",
            "NCI55     5\n",
            "FDA33     5\n",
            "FDN25     5\n",
            "FDP09     5\n",
            "FDL16     5\n",
            "NCS18     5\n",
            "FDX25     5\n",
            "FDV50     5\n",
            "FDG60     5\n",
            "FDJ16     5\n",
            "NCR18     5\n",
            "DRJ51     5\n",
            "FDD35     5\n",
            "DRG48     5\n",
            "FDN08     5\n",
            "FDQ44     5\n",
            "FDD03     5\n",
            "NCF43     5\n",
            "DRK01     5\n",
            "FDS25     5\n",
            "FDH09     5\n",
            "FDY38     5\n",
            "NCR54     5\n",
            "FDE23     5\n",
            "FDD53     5\n",
            "NCH29     5\n",
            "FDW25     5\n",
            "FDS26     5\n",
            "FDL21     5\n",
            "NCY17     5\n",
            "NCM26     5\n",
            "DRG49     5\n",
            "FDI46     5\n",
            "FDJ15     5\n",
            "NCD06     5\n",
            "FDE22     5\n",
            "FDB26     5\n",
            "FDM45     5\n",
            "NCI06     5\n",
            "FDU37     5\n",
            "DRG03     5\n",
            "FDV10     5\n",
            "FDQ47     5\n",
            "NCW06     5\n",
            "FDO16     5\n",
            "NCY05     5\n",
            "DRE25     5\n",
            "NCJ31     5\n",
            "FDC26     5\n",
            "NCO18     5\n",
            "FDP48     5\n",
            "FDB03     5\n",
            "NCC43     5\n",
            "FDU22     5\n",
            "FDR28     5\n",
            "FDR36     5\n",
            "FDB39     5\n",
            "DRK37     5\n",
            "FDX52     5\n",
            "NCL55     5\n",
            "FDK48     5\n",
            "FDR14     5\n",
            "FDX27     5\n",
            "NCN26     5\n",
            "FDO38     5\n",
            "FDJ20     5\n",
            "DRH13     5\n",
            "NCJ54     5\n",
            "NCM54     5\n",
            "FDK10     5\n",
            "FDV23     5\n",
            "FDB22     5\n",
            "NCN18     5\n",
            "NCE06     5\n",
            "NCY53     5\n",
            "FDN16     5\n",
            "NCH42     5\n",
            "NCW42     5\n",
            "DRC36     5\n",
            "FDC21     5\n",
            "FDR49     5\n",
            "FDY12     5\n",
            "NCO14     5\n",
            "DRH23     5\n",
            "NCL19     5\n",
            "DRH01     5\n",
            "DRG01     5\n",
            "FDB38     5\n",
            "NCQ30     5\n",
            "NCS17     5\n",
            "FDM02     5\n",
            "FDT15     5\n",
            "NCJ19     5\n",
            "FDZ22     5\n",
            "FDX59     5\n",
            "NCQ41     5\n",
            "NCW41     5\n",
            "FDB09     5\n",
            "DRG36     5\n",
            "NCD31     5\n",
            "NCV29     5\n",
            "NCV05     5\n",
            "NCP17     5\n",
            "DRM49     5\n",
            "FDX39     5\n",
            "DRI39     5\n",
            "FDE35     5\n",
            "NCN29     5\n",
            "FDZ28     5\n",
            "FDO13     5\n",
            "FDA09     5\n",
            "FDQ51     5\n",
            "FDE14     5\n",
            "NCK06     5\n",
            "FDO36     5\n",
            "NCN41     5\n",
            "FDQ23     5\n",
            "FDE02     5\n",
            "FDB59     5\n",
            "FDH31     5\n",
            "FDY26     5\n",
            "DRE13     5\n",
            "DRK39     5\n",
            "FDX13     5\n",
            "FDC10     5\n",
            "FDV07     5\n",
            "NCU30     5\n",
            "NCE42     5\n",
            "NCV30     5\n",
            "FDM46     5\n",
            "FDE45     5\n",
            "FDF32     5\n",
            "DRL11     5\n",
            "FDQ24     5\n",
            "FDU14     5\n",
            "NCZ41     5\n",
            "FDC09     5\n",
            "FDC58     5\n",
            "FDM56     5\n",
            "FDZ01     5\n",
            "DRG51     5\n",
            "FDS58     5\n",
            "FDY51     5\n",
            "FDS46     5\n",
            "FDY39     5\n",
            "FDA52     5\n",
            "FDU28     5\n",
            "FDN49     5\n",
            "NCN06     5\n",
            "FDY27     5\n",
            "FDX35     5\n",
            "FDA34     5\n",
            "FDS21     5\n",
            "DRK23     5\n",
            "FDO27     5\n",
            "FDB16     5\n",
            "FDF44     5\n",
            "FDZ47     5\n",
            "NCO55     5\n",
            "NCH06     5\n",
            "NCK30     5\n",
            "FDZ27     5\n",
            "DRE37     5\n",
            "FDN32     5\n",
            "FDC32     5\n",
            "DRG11     5\n",
            "FDL12     5\n",
            "DRZ24     5\n",
            "NCE18     5\n",
            "FDA27     5\n",
            "NCE43     5\n",
            "FDL44     5\n",
            "FDQ01     5\n",
            "FDN03     5\n",
            "FDM03     5\n",
            "FDQ20     5\n",
            "FDZ03     5\n",
            "FDT23     5\n",
            "FDO28     5\n",
            "FDB50     5\n",
            "FDH16     5\n",
            "FDC51     5\n",
            "FDK28     5\n",
            "NCN54     5\n",
            "FDE28     5\n",
            "FDZ51     5\n",
            "FDT04     5\n",
            "FDT52     5\n",
            "FDH24     5\n",
            "FDB37     5\n",
            "FDI38     5\n",
            "NCA42     5\n",
            "FDX38     5\n",
            "FDM20     5\n",
            "FDT13     5\n",
            "FDA56     5\n",
            "FDA43     5\n",
            "FDT14     5\n",
            "FDD34     5\n",
            "NCZ53     5\n",
            "FDQ59     5\n",
            "FDV40     5\n",
            "FDU27     5\n",
            "FDZ57     5\n",
            "FDB33     5\n",
            "FDS02     5\n",
            "FDT37     5\n",
            "FDJ52     5\n",
            "FDX08     5\n",
            "FDN10     5\n",
            "FDY37     5\n",
            "FDP08     5\n",
            "FDA19     5\n",
            "NCZ42     5\n",
            "FDM21     5\n",
            "NCP42     5\n",
            "FDM60     5\n",
            "FDO56     5\n",
            "FDT19     5\n",
            "FDP38     5\n",
            "NCT41     5\n",
            "FDY20     5\n",
            "FDA26     5\n",
            "FDM39     5\n",
            "FDE53     5\n",
            "FDA40     5\n",
            "FDC22     5\n",
            "FDV34     5\n",
            "FDC40     5\n",
            "NCG42     5\n",
            "FDZ31     5\n",
            "FDE44     5\n",
            "FDM24     5\n",
            "FDP12     5\n",
            "FDR10     5\n",
            "FDB44     5\n",
            "FDQ37     5\n",
            "FDF11     5\n",
            "FDW31     5\n",
            "FDY11     5\n",
            "FDP40     5\n",
            "FDP04     5\n",
            "FDQ14     5\n",
            "NCP43     5\n",
            "FDY60     5\n",
            "DRN36     5\n",
            "FDK22     5\n",
            "FDC38     4\n",
            "NCO53     4\n",
            "FDK50     4\n",
            "NCU53     4\n",
            "NCC31     4\n",
            "FDD28     4\n",
            "FDC48     4\n",
            "FDP46     4\n",
            "NCN17     4\n",
            "FDD33     4\n",
            "NCP53     4\n",
            "FDP21     4\n",
            "NCQ17     4\n",
            "FDB28     4\n",
            "FDO03     4\n",
            "FDP58     4\n",
            "NCA18     4\n",
            "FDY01     4\n",
            "FDN40     4\n",
            "FDU35     4\n",
            "DRO59     4\n",
            "NCD55     4\n",
            "FDB46     4\n",
            "FDY14     4\n",
            "FDW33     4\n",
            "NCL07     4\n",
            "FDV36     4\n",
            "FDR11     4\n",
            "FDW16     4\n",
            "FDF59     4\n",
            "FDG58     4\n",
            "FDT51     4\n",
            "FDU31     4\n",
            "FDI58     4\n",
            "FDF39     4\n",
            "NCS05     4\n",
            "FDA35     4\n",
            "DRB24     4\n",
            "FDA55     4\n",
            "FDN27     4\n",
            "NCC19     4\n",
            "NCZ29     4\n",
            "NCQ18     4\n",
            "FDW20     4\n",
            "FDJ46     4\n",
            "FDX48     4\n",
            "DRH11     4\n",
            "FDL50     4\n",
            "FDX10     4\n",
            "NCY42     4\n",
            "FDJ12     4\n",
            "FDX12     4\n",
            "FDN33     4\n",
            "FDV11     4\n",
            "FDZ02     4\n",
            "FDD45     4\n",
            "FDS60     4\n",
            "FDS07     4\n",
            "FDH04     4\n",
            "NCL17     4\n",
            "FDS20     4\n",
            "FDT02     4\n",
            "FDN45     4\n",
            "NCR50     4\n",
            "DRI49     4\n",
            "NCJ43     4\n",
            "FDK56     4\n",
            "NCG54     4\n",
            "FDG04     4\n",
            "FDE57     4\n",
            "FDN22     4\n",
            "FDV21     4\n",
            "FDM34     4\n",
            "NCJ06     4\n",
            "FDG05     4\n",
            "FDZ46     4\n",
            "FDJ32     4\n",
            "FDW52     4\n",
            "FDS14     4\n",
            "NCR29     4\n",
            "FDI44     4\n",
            "FDC05     4\n",
            "NCS42     4\n",
            "NCT29     4\n",
            "DRM48     4\n",
            "FDO48     4\n",
            "NCP54     4\n",
            "FDJ33     4\n",
            "NCP02     4\n",
            "DRO35     4\n",
            "DRL23     4\n",
            "FDF53     4\n",
            "NCK42     4\n",
            "NCA54     4\n",
            "FDT01     4\n",
            "FDD16     4\n",
            "FDO04     4\n",
            "FDW08     4\n",
            "FDL02     4\n",
            "FDS10     4\n",
            "FDE58     4\n",
            "FDL14     4\n",
            "FDJ14     4\n",
            "FDU55     4\n",
            "FDV24     4\n",
            "NCT18     4\n",
            "FDE56     4\n",
            "FDT45     4\n",
            "FDA36     4\n",
            "FDC03     4\n",
            "DRH49     4\n",
            "FDN31     4\n",
            "FDU59     4\n",
            "FDK60     4\n",
            "FDV33     4\n",
            "FDA16     4\n",
            "NCY30     4\n",
            "FDL27     4\n",
            "FDM57     4\n",
            "FDO49     4\n",
            "FDV12     4\n",
            "NCM41     4\n",
            "FDS50     4\n",
            "FDU01     4\n",
            "FDF10     4\n",
            "FDO44     4\n",
            "DRI13     4\n",
            "FDW03     4\n",
            "NCL30     4\n",
            "FDU08     4\n",
            "FDW43     4\n",
            "FDX02     4\n",
            "FDH12     4\n",
            "FDS09     4\n",
            "DRH15     4\n",
            "FDX22     4\n",
            "NCG06     4\n",
            "FDN44     4\n",
            "FDG17     4\n",
            "NCT05     4\n",
            "NCC42     4\n",
            "FDZ13     4\n",
            "FDC39     4\n",
            "FDR51     4\n",
            "FDP13     4\n",
            "DRN11     4\n",
            "FDU45     4\n",
            "FDC11     4\n",
            "NCR06     4\n",
            "DRN59     4\n",
            "NCV17     4\n",
            "NCB55     4\n",
            "FDI27     4\n",
            "FDC15     4\n",
            "NCC06     4\n",
            "FDM32     4\n",
            "FDD59     4\n",
            "DRC13     4\n",
            "FDQ55     4\n",
            "NCW17     4\n",
            "FDC52     4\n",
            "NCO07     4\n",
            "NCD43     4\n",
            "FDI02     4\n",
            "DRF60     4\n",
            "FDY08     4\n",
            "NCS38     4\n",
            "FDG41     4\n",
            "FDC60     4\n",
            "FDV35     4\n",
            "FDY19     4\n",
            "NCD07     4\n",
            "FDF40     4\n",
            "DRJ47     4\n",
            "FDG22     4\n",
            "FDU52     4\n",
            "FDQ19     4\n",
            "FDF14     4\n",
            "FDM52     4\n",
            "FDG40     4\n",
            "NCU41     4\n",
            "FDW40     4\n",
            "FDJ07     4\n",
            "DRJ25     4\n",
            "FDQ27     4\n",
            "FDQ33     4\n",
            "FDI12     4\n",
            "FDJ02     4\n",
            "FDC57     4\n",
            "FDQ28     4\n",
            "FDU49     4\n",
            "FDM22     4\n",
            "FDW01     4\n",
            "FDE47     4\n",
            "FDR07     4\n",
            "DRC12     4\n",
            "FDA31     4\n",
            "NCB54     4\n",
            "NCM19     4\n",
            "FDI09     4\n",
            "FDQ57     4\n",
            "FDM09     4\n",
            "FDR45     4\n",
            "FDP20     4\n",
            "FDD36     4\n",
            "DRD49     4\n",
            "FDW36     4\n",
            "FDF47     4\n",
            "FDV08     4\n",
            "DRP47     4\n",
            "NCF54     4\n",
            "FDL26     4\n",
            "FDI48     4\n",
            "DRM35     4\n",
            "NCM31     4\n",
            "FDJ27     4\n",
            "FDZ32     4\n",
            "FDU10     4\n",
            "FDX14     4\n",
            "FDP32     4\n",
            "FDY22     4\n",
            "FDR56     4\n",
            "DRF15     4\n",
            "FDJ03     4\n",
            "NCW18     4\n",
            "FDA38     4\n",
            "FDM33     4\n",
            "NCP41     4\n",
            "FDB05     4\n",
            "NCY54     4\n",
            "FDH08     4\n",
            "FDO11     4\n",
            "FDJ28     4\n",
            "FDV13     4\n",
            "NCL06     3\n",
            "NCM55     3\n",
            "FDK32     3\n",
            "FDV43     3\n",
            "FDE50     3\n",
            "FDH46     3\n",
            "FDD20     3\n",
            "FDZ14     3\n",
            "FDL28     3\n",
            "NCU06     3\n",
            "FDW14     3\n",
            "FDT47     3\n",
            "FDN20     3\n",
            "NCT53     3\n",
            "DRC49     3\n",
            "FDS39     3\n",
            "NCU29     3\n",
            "NCP14     3\n",
            "FDY09     3\n",
            "FDM14     3\n",
            "FDI05     3\n",
            "FDS22     3\n",
            "FDN51     3\n",
            "FDV56     3\n",
            "NCX17     3\n",
            "FDU16     3\n",
            "NCF55     3\n",
            "FDA14     3\n",
            "NCQ02     3\n",
            "DRM11     3\n",
            "FDV58     3\n",
            "FDL25     3\n",
            "FDV55     3\n",
            "FDP01     3\n",
            "FDG14     3\n",
            "FDQ22     3\n",
            "FDD23     3\n",
            "FDC37     3\n",
            "DRJ35     3\n",
            "FDJ40     3\n",
            "FDS51     3\n",
            "DRG39     3\n",
            "FDK46     3\n",
            "FDW22     3\n",
            "FDU47     3\n",
            "FDA51     3\n",
            "FDP36     3\n",
            "FDR16     3\n",
            "FDV27     3\n",
            "FDT38     3\n",
            "FDW15     3\n",
            "FDL15     3\n",
            "NCL42     3\n",
            "FDY58     3\n",
            "DRF51     3\n",
            "NCK31     3\n",
            "FDC56     3\n",
            "FDS08     3\n",
            "FDY32     3\n",
            "FDF02     3\n",
            "FDP51     3\n",
            "FDO51     3\n",
            "FDI53     3\n",
            "FDH52     3\n",
            "FDA57     3\n",
            "FDX28     3\n",
            "FDJ50     3\n",
            "FDQ04     3\n",
            "NCM18     3\n",
            "NCB07     3\n",
            "FDW60     3\n",
            "FDF28     3\n",
            "FDU48     3\n",
            "FDZ34     3\n",
            "FDZ19     3\n",
            "NCE55     3\n",
            "FDU03     3\n",
            "FDW04     3\n",
            "NCQ29     3\n",
            "FDZ37     3\n",
            "NCF06     3\n",
            "FDF58     3\n",
            "FDA37     3\n",
            "NCD30     3\n",
            "DRJ37     3\n",
            "FDF17     3\n",
            "FDM40     3\n",
            "FDU60     3\n",
            "FDN50     3\n",
            "NCR42     3\n",
            "NCV42     3\n",
            "NCZ05     3\n",
            "FDR13     3\n",
            "FDA58     3\n",
            "DRB01     3\n",
            "FDF50     3\n",
            "FDU56     3\n",
            "FDT44     3\n",
            "DRH59     3\n",
            "FDV14     3\n",
            "FDI10     3\n",
            "FDA22     3\n",
            "FDW37     3\n",
            "NCG55     3\n",
            "FDR39     3\n",
            "FDV31     3\n",
            "FDD32     3\n",
            "FDM12     3\n",
            "NCL54     3\n",
            "FDR40     3\n",
            "FDY46     3\n",
            "FDI35     3\n",
            "FDE21     3\n",
            "NCW30     2\n",
            "FDD22     2\n",
            "DRG25     2\n",
            "FDB10     2\n",
            "FDI36     2\n",
            "FDP15     2\n",
            "FDA48     2\n",
            "FDG28     2\n",
            "FDU43     2\n",
            "FDE38     2\n",
            "FDT33     2\n",
            "FDM16     2\n",
            "NCV18     2\n",
            "FDR57     2\n",
            "FDF38     2\n",
            "FDW58     2\n",
            "DRE01     2\n",
            "NCG19     2\n",
            "FDM38     2\n",
            "NCX53     2\n",
            "FDD48     2\n",
            "FDH22     2\n",
            "FDB47     2\n",
            "FDW10     2\n",
            "DRI59     2\n",
            "FDR03     2\n",
            "DRL59     2\n",
            "FDZ50     2\n",
            "DRC24     2\n",
            "NCC55     2\n",
            "FDE39     2\n",
            "FDU09     2\n",
            "NCS41     2\n",
            "NCW05     2\n",
            "NCM42     2\n",
            "FDK57     1\n",
            "FDN52     1\n",
            "FDT35     1\n",
            "FDE52     1\n",
            "FDY43     1\n",
            "FDQ60     1\n",
            "FDO33     1\n",
            "DRF48     1\n",
            "FDC23     1\n",
            "Name: Item_Identifier, dtype: int64\n",
            "\n",
            "\n",
            "\n",
            "- Item_Fat_Content:\n",
            "Low Fat    5089\n",
            "Regular    2889\n",
            "LF          316\n",
            "reg         117\n",
            "low fat     112\n",
            "Name: Item_Fat_Content, dtype: int64\n",
            "\n",
            "\n",
            "\n",
            "- Item_Type:\n",
            "Fruits and Vegetables    1232\n",
            "Snack Foods              1200\n",
            "Household                 910\n",
            "Frozen Foods              856\n",
            "Dairy                     682\n",
            "Canned                    649\n",
            "Baking Goods              648\n",
            "Health and Hygiene        520\n",
            "Soft Drinks               445\n",
            "Meat                      425\n",
            "Breads                    251\n",
            "Hard Drinks               214\n",
            "Others                    169\n",
            "Starchy Foods             148\n",
            "Breakfast                 110\n",
            "Seafood                    64\n",
            "Name: Item_Type, dtype: int64\n",
            "\n",
            "\n",
            "\n",
            "- Outlet_Identifier:\n",
            "OUT027    935\n",
            "OUT013    932\n",
            "OUT049    930\n",
            "OUT046    930\n",
            "OUT035    930\n",
            "OUT045    929\n",
            "OUT018    928\n",
            "OUT017    926\n",
            "OUT010    555\n",
            "OUT019    528\n",
            "Name: Outlet_Identifier, dtype: int64\n",
            "\n",
            "\n",
            "\n",
            "- Outlet_Size:\n",
            "Medium     2793\n",
            "Missing    2410\n",
            "Small      2388\n",
            "High        932\n",
            "Name: Outlet_Size, dtype: int64\n",
            "\n",
            "\n",
            "\n",
            "- Outlet_Location_Type:\n",
            "Tier 3    3350\n",
            "Tier 2    2785\n",
            "Tier 1    2388\n",
            "Name: Outlet_Location_Type, dtype: int64\n",
            "\n",
            "\n",
            "\n",
            "- Outlet_Type:\n",
            "Supermarket Type1    5577\n",
            "Grocery Store        1083\n",
            "Supermarket Type3     935\n",
            "Supermarket Type2     928\n",
            "Name: Outlet_Type, dtype: int64\n",
            "\n",
            "\n",
            "\n"
          ]
        }
      ]
    },
    {
      "cell_type": "code",
      "source": [
        "#item content fat needs to be addressed:\n",
        "df_sp['Item_Fat_Content'].value_counts()"
      ],
      "metadata": {
        "id": "eW44Uu4NuFcj",
        "outputId": "52a76d5a-17dc-4244-f5ea-c02eb1943a78",
        "colab": {
          "base_uri": "https://localhost:8080/"
        }
      },
      "execution_count": 88,
      "outputs": [
        {
          "output_type": "execute_result",
          "data": {
            "text/plain": [
              "Low Fat    5089\n",
              "Regular    2889\n",
              "LF          316\n",
              "reg         117\n",
              "low fat     112\n",
              "Name: Item_Fat_Content, dtype: int64"
            ]
          },
          "metadata": {},
          "execution_count": 88
        }
      ]
    },
    {
      "cell_type": "code",
      "source": [
        "#here we will rename, LF and low fat to low fat\n",
        "df_sp['Item_Fat_Content'] = df_sp['Item_Fat_Content'].replace({'LF':'Low Fat', 'low fat':'Low Fat', 'reg':'Regular'})"
      ],
      "metadata": {
        "id": "sJujWoFzuSAC"
      },
      "execution_count": 89,
      "outputs": []
    },
    {
      "cell_type": "code",
      "source": [
        "#then we will rename, reg with Regular\n",
        "df_sp['Item_Fat_Content'].value_counts()"
      ],
      "metadata": {
        "id": "99U1bXO8udHd",
        "outputId": "c785761e-41bf-4374-f232-e406f16cd0d0",
        "colab": {
          "base_uri": "https://localhost:8080/"
        }
      },
      "execution_count": 90,
      "outputs": [
        {
          "output_type": "execute_result",
          "data": {
            "text/plain": [
              "Low Fat    5517\n",
              "Regular    3006\n",
              "Name: Item_Fat_Content, dtype: int64"
            ]
          },
          "metadata": {},
          "execution_count": 90
        }
      ]
    },
    {
      "cell_type": "code",
      "source": [
        "df_sp['Outlet_Type'].value_counts()"
      ],
      "metadata": {
        "id": "zF-E5egmp4jL",
        "colab": {
          "base_uri": "https://localhost:8080/"
        },
        "outputId": "bd8a7515-9927-47aa-efcb-b110741f3dc0"
      },
      "execution_count": 91,
      "outputs": [
        {
          "output_type": "execute_result",
          "data": {
            "text/plain": [
              "Supermarket Type1    5577\n",
              "Grocery Store        1083\n",
              "Supermarket Type3     935\n",
              "Supermarket Type2     928\n",
              "Name: Outlet_Type, dtype: int64"
            ]
          },
          "metadata": {},
          "execution_count": 91
        }
      ]
    },
    {
      "cell_type": "code",
      "source": [
        "df_sp['Outlet_Type'] = df_sp['Outlet_Type'].replace({'Grocery_store': 'Supermarket_Type4'})\n"
      ],
      "metadata": {
        "id": "mcEP25gwqF_-"
      },
      "execution_count": 92,
      "outputs": []
    },
    {
      "cell_type": "code",
      "source": [
        "df_sp['Outlet_Type'].value_counts()"
      ],
      "metadata": {
        "id": "yCcq7ToWr3rD",
        "colab": {
          "base_uri": "https://localhost:8080/"
        },
        "outputId": "9d0d8cc0-bd4f-4140-f05c-300885a674b9"
      },
      "execution_count": 93,
      "outputs": [
        {
          "output_type": "execute_result",
          "data": {
            "text/plain": [
              "Supermarket Type1    5577\n",
              "Grocery Store        1083\n",
              "Supermarket Type3     935\n",
              "Supermarket Type2     928\n",
              "Name: Outlet_Type, dtype: int64"
            ]
          },
          "metadata": {},
          "execution_count": 93
        }
      ]
    },
    {
      "cell_type": "code",
      "source": [
        "df_sp['Item_Weight'] = df_sp['Item_Weight'].astype('int64')"
      ],
      "metadata": {
        "id": "jm-d9qIdzcQg"
      },
      "execution_count": 97,
      "outputs": []
    },
    {
      "cell_type": "markdown",
      "source": [
        "\n",
        "8) For any numerical columns, obtain the summary statistics of each (min, max, mean)."
      ],
      "metadata": {
        "id": "zqeLAQc4ormf"
      }
    },
    {
      "cell_type": "code",
      "source": [
        "df_sp.describe()"
      ],
      "metadata": {
        "id": "T4Y3vMACuyDV",
        "colab": {
          "base_uri": "https://localhost:8080/",
          "height": 300
        },
        "outputId": "e5c199e3-7722-483a-e305-bf9c142459de"
      },
      "execution_count": 98,
      "outputs": [
        {
          "output_type": "execute_result",
          "data": {
            "text/plain": [
              "       Item_Weight  Item_Visibility     Item_MRP  Outlet_Establishment_Year  \\\n",
              "count  8523.000000      8523.000000  8523.000000                8523.000000   \n",
              "mean     12.330165         0.066132   140.992782                1997.831867   \n",
              "std       4.253895         0.051598    62.275067                   8.371760   \n",
              "min       4.000000         0.000000    31.290000                1985.000000   \n",
              "25%       9.000000         0.026989    93.826500                1987.000000   \n",
              "50%      12.000000         0.053931   143.012800                1999.000000   \n",
              "75%      16.000000         0.094585   185.643700                2004.000000   \n",
              "max      21.000000         0.328391   266.888400                2009.000000   \n",
              "\n",
              "       Item_Outlet_Sales  \n",
              "count        8523.000000  \n",
              "mean         2181.288914  \n",
              "std          1706.499616  \n",
              "min            33.290000  \n",
              "25%           834.247400  \n",
              "50%          1794.331000  \n",
              "75%          3101.296400  \n",
              "max         13086.964800  "
            ],
            "text/html": [
              "\n",
              "\n",
              "  <div id=\"df-0f4e2e73-92e8-4dc0-83ba-05c2e7da4eae\">\n",
              "    <div class=\"colab-df-container\">\n",
              "      <div>\n",
              "<style scoped>\n",
              "    .dataframe tbody tr th:only-of-type {\n",
              "        vertical-align: middle;\n",
              "    }\n",
              "\n",
              "    .dataframe tbody tr th {\n",
              "        vertical-align: top;\n",
              "    }\n",
              "\n",
              "    .dataframe thead th {\n",
              "        text-align: right;\n",
              "    }\n",
              "</style>\n",
              "<table border=\"1\" class=\"dataframe\">\n",
              "  <thead>\n",
              "    <tr style=\"text-align: right;\">\n",
              "      <th></th>\n",
              "      <th>Item_Weight</th>\n",
              "      <th>Item_Visibility</th>\n",
              "      <th>Item_MRP</th>\n",
              "      <th>Outlet_Establishment_Year</th>\n",
              "      <th>Item_Outlet_Sales</th>\n",
              "    </tr>\n",
              "  </thead>\n",
              "  <tbody>\n",
              "    <tr>\n",
              "      <th>count</th>\n",
              "      <td>8523.000000</td>\n",
              "      <td>8523.000000</td>\n",
              "      <td>8523.000000</td>\n",
              "      <td>8523.000000</td>\n",
              "      <td>8523.000000</td>\n",
              "    </tr>\n",
              "    <tr>\n",
              "      <th>mean</th>\n",
              "      <td>12.330165</td>\n",
              "      <td>0.066132</td>\n",
              "      <td>140.992782</td>\n",
              "      <td>1997.831867</td>\n",
              "      <td>2181.288914</td>\n",
              "    </tr>\n",
              "    <tr>\n",
              "      <th>std</th>\n",
              "      <td>4.253895</td>\n",
              "      <td>0.051598</td>\n",
              "      <td>62.275067</td>\n",
              "      <td>8.371760</td>\n",
              "      <td>1706.499616</td>\n",
              "    </tr>\n",
              "    <tr>\n",
              "      <th>min</th>\n",
              "      <td>4.000000</td>\n",
              "      <td>0.000000</td>\n",
              "      <td>31.290000</td>\n",
              "      <td>1985.000000</td>\n",
              "      <td>33.290000</td>\n",
              "    </tr>\n",
              "    <tr>\n",
              "      <th>25%</th>\n",
              "      <td>9.000000</td>\n",
              "      <td>0.026989</td>\n",
              "      <td>93.826500</td>\n",
              "      <td>1987.000000</td>\n",
              "      <td>834.247400</td>\n",
              "    </tr>\n",
              "    <tr>\n",
              "      <th>50%</th>\n",
              "      <td>12.000000</td>\n",
              "      <td>0.053931</td>\n",
              "      <td>143.012800</td>\n",
              "      <td>1999.000000</td>\n",
              "      <td>1794.331000</td>\n",
              "    </tr>\n",
              "    <tr>\n",
              "      <th>75%</th>\n",
              "      <td>16.000000</td>\n",
              "      <td>0.094585</td>\n",
              "      <td>185.643700</td>\n",
              "      <td>2004.000000</td>\n",
              "      <td>3101.296400</td>\n",
              "    </tr>\n",
              "    <tr>\n",
              "      <th>max</th>\n",
              "      <td>21.000000</td>\n",
              "      <td>0.328391</td>\n",
              "      <td>266.888400</td>\n",
              "      <td>2009.000000</td>\n",
              "      <td>13086.964800</td>\n",
              "    </tr>\n",
              "  </tbody>\n",
              "</table>\n",
              "</div>\n",
              "      <button class=\"colab-df-convert\" onclick=\"convertToInteractive('df-0f4e2e73-92e8-4dc0-83ba-05c2e7da4eae')\"\n",
              "              title=\"Convert this dataframe to an interactive table.\"\n",
              "              style=\"display:none;\">\n",
              "\n",
              "  <svg xmlns=\"http://www.w3.org/2000/svg\" height=\"24px\"viewBox=\"0 0 24 24\"\n",
              "       width=\"24px\">\n",
              "    <path d=\"M0 0h24v24H0V0z\" fill=\"none\"/>\n",
              "    <path d=\"M18.56 5.44l.94 2.06.94-2.06 2.06-.94-2.06-.94-.94-2.06-.94 2.06-2.06.94zm-11 1L8.5 8.5l.94-2.06 2.06-.94-2.06-.94L8.5 2.5l-.94 2.06-2.06.94zm10 10l.94 2.06.94-2.06 2.06-.94-2.06-.94-.94-2.06-.94 2.06-2.06.94z\"/><path d=\"M17.41 7.96l-1.37-1.37c-.4-.4-.92-.59-1.43-.59-.52 0-1.04.2-1.43.59L10.3 9.45l-7.72 7.72c-.78.78-.78 2.05 0 2.83L4 21.41c.39.39.9.59 1.41.59.51 0 1.02-.2 1.41-.59l7.78-7.78 2.81-2.81c.8-.78.8-2.07 0-2.86zM5.41 20L4 18.59l7.72-7.72 1.47 1.35L5.41 20z\"/>\n",
              "  </svg>\n",
              "      </button>\n",
              "\n",
              "\n",
              "\n",
              "    <div id=\"df-723de8f4-3491-4aae-8fc8-0e9f52ea44ae\">\n",
              "      <button class=\"colab-df-quickchart\" onclick=\"quickchart('df-723de8f4-3491-4aae-8fc8-0e9f52ea44ae')\"\n",
              "              title=\"Suggest charts.\"\n",
              "              style=\"display:none;\">\n",
              "\n",
              "<svg xmlns=\"http://www.w3.org/2000/svg\" height=\"24px\"viewBox=\"0 0 24 24\"\n",
              "     width=\"24px\">\n",
              "    <g>\n",
              "        <path d=\"M19 3H5c-1.1 0-2 .9-2 2v14c0 1.1.9 2 2 2h14c1.1 0 2-.9 2-2V5c0-1.1-.9-2-2-2zM9 17H7v-7h2v7zm4 0h-2V7h2v10zm4 0h-2v-4h2v4z\"/>\n",
              "    </g>\n",
              "</svg>\n",
              "      </button>\n",
              "    </div>\n",
              "\n",
              "<style>\n",
              "  .colab-df-quickchart {\n",
              "    background-color: #E8F0FE;\n",
              "    border: none;\n",
              "    border-radius: 50%;\n",
              "    cursor: pointer;\n",
              "    display: none;\n",
              "    fill: #1967D2;\n",
              "    height: 32px;\n",
              "    padding: 0 0 0 0;\n",
              "    width: 32px;\n",
              "  }\n",
              "\n",
              "  .colab-df-quickchart:hover {\n",
              "    background-color: #E2EBFA;\n",
              "    box-shadow: 0px 1px 2px rgba(60, 64, 67, 0.3), 0px 1px 3px 1px rgba(60, 64, 67, 0.15);\n",
              "    fill: #174EA6;\n",
              "  }\n",
              "\n",
              "  [theme=dark] .colab-df-quickchart {\n",
              "    background-color: #3B4455;\n",
              "    fill: #D2E3FC;\n",
              "  }\n",
              "\n",
              "  [theme=dark] .colab-df-quickchart:hover {\n",
              "    background-color: #434B5C;\n",
              "    box-shadow: 0px 1px 3px 1px rgba(0, 0, 0, 0.15);\n",
              "    filter: drop-shadow(0px 1px 2px rgba(0, 0, 0, 0.3));\n",
              "    fill: #FFFFFF;\n",
              "  }\n",
              "</style>\n",
              "\n",
              "    <script>\n",
              "      async function quickchart(key) {\n",
              "        const containerElement = document.querySelector('#' + key);\n",
              "        const charts = await google.colab.kernel.invokeFunction(\n",
              "            'suggestCharts', [key], {});\n",
              "      }\n",
              "    </script>\n",
              "\n",
              "      <script>\n",
              "\n",
              "function displayQuickchartButton(domScope) {\n",
              "  let quickchartButtonEl =\n",
              "    domScope.querySelector('#df-723de8f4-3491-4aae-8fc8-0e9f52ea44ae button.colab-df-quickchart');\n",
              "  quickchartButtonEl.style.display =\n",
              "    google.colab.kernel.accessAllowed ? 'block' : 'none';\n",
              "}\n",
              "\n",
              "        displayQuickchartButton(document);\n",
              "      </script>\n",
              "      <style>\n",
              "    .colab-df-container {\n",
              "      display:flex;\n",
              "      flex-wrap:wrap;\n",
              "      gap: 12px;\n",
              "    }\n",
              "\n",
              "    .colab-df-convert {\n",
              "      background-color: #E8F0FE;\n",
              "      border: none;\n",
              "      border-radius: 50%;\n",
              "      cursor: pointer;\n",
              "      display: none;\n",
              "      fill: #1967D2;\n",
              "      height: 32px;\n",
              "      padding: 0 0 0 0;\n",
              "      width: 32px;\n",
              "    }\n",
              "\n",
              "    .colab-df-convert:hover {\n",
              "      background-color: #E2EBFA;\n",
              "      box-shadow: 0px 1px 2px rgba(60, 64, 67, 0.3), 0px 1px 3px 1px rgba(60, 64, 67, 0.15);\n",
              "      fill: #174EA6;\n",
              "    }\n",
              "\n",
              "    [theme=dark] .colab-df-convert {\n",
              "      background-color: #3B4455;\n",
              "      fill: #D2E3FC;\n",
              "    }\n",
              "\n",
              "    [theme=dark] .colab-df-convert:hover {\n",
              "      background-color: #434B5C;\n",
              "      box-shadow: 0px 1px 3px 1px rgba(0, 0, 0, 0.15);\n",
              "      filter: drop-shadow(0px 1px 2px rgba(0, 0, 0, 0.3));\n",
              "      fill: #FFFFFF;\n",
              "    }\n",
              "  </style>\n",
              "\n",
              "      <script>\n",
              "        const buttonEl =\n",
              "          document.querySelector('#df-0f4e2e73-92e8-4dc0-83ba-05c2e7da4eae button.colab-df-convert');\n",
              "        buttonEl.style.display =\n",
              "          google.colab.kernel.accessAllowed ? 'block' : 'none';\n",
              "\n",
              "        async function convertToInteractive(key) {\n",
              "          const element = document.querySelector('#df-0f4e2e73-92e8-4dc0-83ba-05c2e7da4eae');\n",
              "          const dataTable =\n",
              "            await google.colab.kernel.invokeFunction('convertToInteractive',\n",
              "                                                     [key], {});\n",
              "          if (!dataTable) return;\n",
              "\n",
              "          const docLinkHtml = 'Like what you see? Visit the ' +\n",
              "            '<a target=\"_blank\" href=https://colab.research.google.com/notebooks/data_table.ipynb>data table notebook</a>'\n",
              "            + ' to learn more about interactive tables.';\n",
              "          element.innerHTML = '';\n",
              "          dataTable['output_type'] = 'display_data';\n",
              "          await google.colab.output.renderOutput(dataTable, element);\n",
              "          const docLink = document.createElement('div');\n",
              "          docLink.innerHTML = docLinkHtml;\n",
              "          element.appendChild(docLink);\n",
              "        }\n",
              "      </script>\n",
              "    </div>\n",
              "  </div>\n"
            ]
          },
          "metadata": {},
          "execution_count": 98
        }
      ]
    },
    {
      "cell_type": "code",
      "source": [
        "stats =  df_sp.describe()\n",
        "stats.loc[['mean','min','max']]"
      ],
      "metadata": {
        "id": "tv0uhzDfvP67",
        "colab": {
          "base_uri": "https://localhost:8080/",
          "height": 144
        },
        "outputId": "23d50d2c-1825-402b-eefb-7c2575ab98d5"
      },
      "execution_count": 99,
      "outputs": [
        {
          "output_type": "execute_result",
          "data": {
            "text/plain": [
              "      Item_Weight  Item_Visibility    Item_MRP  Outlet_Establishment_Year  \\\n",
              "mean    12.330165         0.066132  140.992782                1997.831867   \n",
              "min      4.000000         0.000000   31.290000                1985.000000   \n",
              "max     21.000000         0.328391  266.888400                2009.000000   \n",
              "\n",
              "      Item_Outlet_Sales  \n",
              "mean        2181.288914  \n",
              "min           33.290000  \n",
              "max        13086.964800  "
            ],
            "text/html": [
              "\n",
              "\n",
              "  <div id=\"df-d1a60a0a-c9d7-47b5-97e5-8bb9956e4b76\">\n",
              "    <div class=\"colab-df-container\">\n",
              "      <div>\n",
              "<style scoped>\n",
              "    .dataframe tbody tr th:only-of-type {\n",
              "        vertical-align: middle;\n",
              "    }\n",
              "\n",
              "    .dataframe tbody tr th {\n",
              "        vertical-align: top;\n",
              "    }\n",
              "\n",
              "    .dataframe thead th {\n",
              "        text-align: right;\n",
              "    }\n",
              "</style>\n",
              "<table border=\"1\" class=\"dataframe\">\n",
              "  <thead>\n",
              "    <tr style=\"text-align: right;\">\n",
              "      <th></th>\n",
              "      <th>Item_Weight</th>\n",
              "      <th>Item_Visibility</th>\n",
              "      <th>Item_MRP</th>\n",
              "      <th>Outlet_Establishment_Year</th>\n",
              "      <th>Item_Outlet_Sales</th>\n",
              "    </tr>\n",
              "  </thead>\n",
              "  <tbody>\n",
              "    <tr>\n",
              "      <th>mean</th>\n",
              "      <td>12.330165</td>\n",
              "      <td>0.066132</td>\n",
              "      <td>140.992782</td>\n",
              "      <td>1997.831867</td>\n",
              "      <td>2181.288914</td>\n",
              "    </tr>\n",
              "    <tr>\n",
              "      <th>min</th>\n",
              "      <td>4.000000</td>\n",
              "      <td>0.000000</td>\n",
              "      <td>31.290000</td>\n",
              "      <td>1985.000000</td>\n",
              "      <td>33.290000</td>\n",
              "    </tr>\n",
              "    <tr>\n",
              "      <th>max</th>\n",
              "      <td>21.000000</td>\n",
              "      <td>0.328391</td>\n",
              "      <td>266.888400</td>\n",
              "      <td>2009.000000</td>\n",
              "      <td>13086.964800</td>\n",
              "    </tr>\n",
              "  </tbody>\n",
              "</table>\n",
              "</div>\n",
              "      <button class=\"colab-df-convert\" onclick=\"convertToInteractive('df-d1a60a0a-c9d7-47b5-97e5-8bb9956e4b76')\"\n",
              "              title=\"Convert this dataframe to an interactive table.\"\n",
              "              style=\"display:none;\">\n",
              "\n",
              "  <svg xmlns=\"http://www.w3.org/2000/svg\" height=\"24px\"viewBox=\"0 0 24 24\"\n",
              "       width=\"24px\">\n",
              "    <path d=\"M0 0h24v24H0V0z\" fill=\"none\"/>\n",
              "    <path d=\"M18.56 5.44l.94 2.06.94-2.06 2.06-.94-2.06-.94-.94-2.06-.94 2.06-2.06.94zm-11 1L8.5 8.5l.94-2.06 2.06-.94-2.06-.94L8.5 2.5l-.94 2.06-2.06.94zm10 10l.94 2.06.94-2.06 2.06-.94-2.06-.94-.94-2.06-.94 2.06-2.06.94z\"/><path d=\"M17.41 7.96l-1.37-1.37c-.4-.4-.92-.59-1.43-.59-.52 0-1.04.2-1.43.59L10.3 9.45l-7.72 7.72c-.78.78-.78 2.05 0 2.83L4 21.41c.39.39.9.59 1.41.59.51 0 1.02-.2 1.41-.59l7.78-7.78 2.81-2.81c.8-.78.8-2.07 0-2.86zM5.41 20L4 18.59l7.72-7.72 1.47 1.35L5.41 20z\"/>\n",
              "  </svg>\n",
              "      </button>\n",
              "\n",
              "\n",
              "\n",
              "    <div id=\"df-70e6cc4b-fc8f-4bb5-9bf1-8319fb480aeb\">\n",
              "      <button class=\"colab-df-quickchart\" onclick=\"quickchart('df-70e6cc4b-fc8f-4bb5-9bf1-8319fb480aeb')\"\n",
              "              title=\"Suggest charts.\"\n",
              "              style=\"display:none;\">\n",
              "\n",
              "<svg xmlns=\"http://www.w3.org/2000/svg\" height=\"24px\"viewBox=\"0 0 24 24\"\n",
              "     width=\"24px\">\n",
              "    <g>\n",
              "        <path d=\"M19 3H5c-1.1 0-2 .9-2 2v14c0 1.1.9 2 2 2h14c1.1 0 2-.9 2-2V5c0-1.1-.9-2-2-2zM9 17H7v-7h2v7zm4 0h-2V7h2v10zm4 0h-2v-4h2v4z\"/>\n",
              "    </g>\n",
              "</svg>\n",
              "      </button>\n",
              "    </div>\n",
              "\n",
              "<style>\n",
              "  .colab-df-quickchart {\n",
              "    background-color: #E8F0FE;\n",
              "    border: none;\n",
              "    border-radius: 50%;\n",
              "    cursor: pointer;\n",
              "    display: none;\n",
              "    fill: #1967D2;\n",
              "    height: 32px;\n",
              "    padding: 0 0 0 0;\n",
              "    width: 32px;\n",
              "  }\n",
              "\n",
              "  .colab-df-quickchart:hover {\n",
              "    background-color: #E2EBFA;\n",
              "    box-shadow: 0px 1px 2px rgba(60, 64, 67, 0.3), 0px 1px 3px 1px rgba(60, 64, 67, 0.15);\n",
              "    fill: #174EA6;\n",
              "  }\n",
              "\n",
              "  [theme=dark] .colab-df-quickchart {\n",
              "    background-color: #3B4455;\n",
              "    fill: #D2E3FC;\n",
              "  }\n",
              "\n",
              "  [theme=dark] .colab-df-quickchart:hover {\n",
              "    background-color: #434B5C;\n",
              "    box-shadow: 0px 1px 3px 1px rgba(0, 0, 0, 0.15);\n",
              "    filter: drop-shadow(0px 1px 2px rgba(0, 0, 0, 0.3));\n",
              "    fill: #FFFFFF;\n",
              "  }\n",
              "</style>\n",
              "\n",
              "    <script>\n",
              "      async function quickchart(key) {\n",
              "        const containerElement = document.querySelector('#' + key);\n",
              "        const charts = await google.colab.kernel.invokeFunction(\n",
              "            'suggestCharts', [key], {});\n",
              "      }\n",
              "    </script>\n",
              "\n",
              "      <script>\n",
              "\n",
              "function displayQuickchartButton(domScope) {\n",
              "  let quickchartButtonEl =\n",
              "    domScope.querySelector('#df-70e6cc4b-fc8f-4bb5-9bf1-8319fb480aeb button.colab-df-quickchart');\n",
              "  quickchartButtonEl.style.display =\n",
              "    google.colab.kernel.accessAllowed ? 'block' : 'none';\n",
              "}\n",
              "\n",
              "        displayQuickchartButton(document);\n",
              "      </script>\n",
              "      <style>\n",
              "    .colab-df-container {\n",
              "      display:flex;\n",
              "      flex-wrap:wrap;\n",
              "      gap: 12px;\n",
              "    }\n",
              "\n",
              "    .colab-df-convert {\n",
              "      background-color: #E8F0FE;\n",
              "      border: none;\n",
              "      border-radius: 50%;\n",
              "      cursor: pointer;\n",
              "      display: none;\n",
              "      fill: #1967D2;\n",
              "      height: 32px;\n",
              "      padding: 0 0 0 0;\n",
              "      width: 32px;\n",
              "    }\n",
              "\n",
              "    .colab-df-convert:hover {\n",
              "      background-color: #E2EBFA;\n",
              "      box-shadow: 0px 1px 2px rgba(60, 64, 67, 0.3), 0px 1px 3px 1px rgba(60, 64, 67, 0.15);\n",
              "      fill: #174EA6;\n",
              "    }\n",
              "\n",
              "    [theme=dark] .colab-df-convert {\n",
              "      background-color: #3B4455;\n",
              "      fill: #D2E3FC;\n",
              "    }\n",
              "\n",
              "    [theme=dark] .colab-df-convert:hover {\n",
              "      background-color: #434B5C;\n",
              "      box-shadow: 0px 1px 3px 1px rgba(0, 0, 0, 0.15);\n",
              "      filter: drop-shadow(0px 1px 2px rgba(0, 0, 0, 0.3));\n",
              "      fill: #FFFFFF;\n",
              "    }\n",
              "  </style>\n",
              "\n",
              "      <script>\n",
              "        const buttonEl =\n",
              "          document.querySelector('#df-d1a60a0a-c9d7-47b5-97e5-8bb9956e4b76 button.colab-df-convert');\n",
              "        buttonEl.style.display =\n",
              "          google.colab.kernel.accessAllowed ? 'block' : 'none';\n",
              "\n",
              "        async function convertToInteractive(key) {\n",
              "          const element = document.querySelector('#df-d1a60a0a-c9d7-47b5-97e5-8bb9956e4b76');\n",
              "          const dataTable =\n",
              "            await google.colab.kernel.invokeFunction('convertToInteractive',\n",
              "                                                     [key], {});\n",
              "          if (!dataTable) return;\n",
              "\n",
              "          const docLinkHtml = 'Like what you see? Visit the ' +\n",
              "            '<a target=\"_blank\" href=https://colab.research.google.com/notebooks/data_table.ipynb>data table notebook</a>'\n",
              "            + ' to learn more about interactive tables.';\n",
              "          element.innerHTML = '';\n",
              "          dataTable['output_type'] = 'display_data';\n",
              "          await google.colab.output.renderOutput(dataTable, element);\n",
              "          const docLink = document.createElement('div');\n",
              "          docLink.innerHTML = docLinkHtml;\n",
              "          element.appendChild(docLink);\n",
              "        }\n",
              "      </script>\n",
              "    </div>\n",
              "  </div>\n"
            ]
          },
          "metadata": {},
          "execution_count": 99
        }
      ]
    }
  ]
}